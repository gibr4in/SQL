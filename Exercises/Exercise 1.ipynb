{
 "cells": [
  {
   "cell_type": "code",
   "execution_count": 1,
   "id": "4d30f5a1-a7be-4b45-92d6-af812fd11ada",
   "metadata": {},
   "outputs": [],
   "source": [
    "import os\n",
    "import pandas as pd"
   ]
  },
  {
   "cell_type": "code",
   "execution_count": 2,
   "id": "8663bc23",
   "metadata": {},
   "outputs": [],
   "source": [
    "current_directory = os.getcwd()\n",
    "parent_directry = os.path.dirname(current_directory)\n",
    "database_directory = parent_directry + '\\\\sqlite3'"
   ]
  },
  {
   "cell_type": "code",
   "execution_count": 3,
   "id": "1a7b07a6",
   "metadata": {},
   "outputs": [
    {
     "data": {
      "text/plain": [
       "'C:\\\\Users\\\\gibra\\\\Desktop\\\\Data Science\\\\Portfolio\\\\SQL\\\\sqlite3'"
      ]
     },
     "execution_count": 3,
     "metadata": {},
     "output_type": "execute_result"
    }
   ],
   "source": [
    "database_directory"
   ]
  },
  {
   "cell_type": "markdown",
   "id": "52466829-8ac5-4719-b449-989eaa6c1521",
   "metadata": {},
   "source": [
    "# **Library for SQL in Python**"
   ]
  },
  {
   "cell_type": "code",
   "execution_count": 4,
   "id": "bac4d46c-81a7-4125-95fc-9611927eeb91",
   "metadata": {},
   "outputs": [],
   "source": [
    "#Import SQL\n",
    "import sqlite3"
   ]
  },
  {
   "cell_type": "code",
   "execution_count": 5,
   "id": "15cec501-4ced-420a-b036-53d48e762187",
   "metadata": {},
   "outputs": [],
   "source": [
    "# Connect to a database (creates a new database if it doesn't exist)\n",
    "conn = sqlite3.connect(database_directory + '\\\\database.db')"
   ]
  },
  {
   "cell_type": "code",
   "execution_count": 6,
   "id": "f3664813-08e6-4088-9b15-9ee0f0987fad",
   "metadata": {},
   "outputs": [],
   "source": [
    "#Create a cursor object to execute SQL statements\n",
    "cursor = conn.cursor()"
   ]
  },
  {
   "cell_type": "markdown",
   "id": "941e158f-71e5-43e4-a360-fb10167694fc",
   "metadata": {},
   "source": [
    "# Chicago Socieconomic Data"
   ]
  },
  {
   "cell_type": "markdown",
   "id": "aeedd326",
   "metadata": {},
   "source": [
    "## Load data into a csv and export to sql"
   ]
  },
  {
   "cell_type": "code",
   "execution_count": 7,
   "id": "491500f8",
   "metadata": {},
   "outputs": [
    {
     "data": {
      "text/plain": [
       "78"
      ]
     },
     "execution_count": 7,
     "metadata": {},
     "output_type": "execute_result"
    }
   ],
   "source": [
    "'''In order to convert a pandas DataFrame into a table for our SQL database,\n",
    "so that it can be accessed and queried using SQL commands, we can use the pandas dataframe to_sql() function.'''\n",
    "#For example: Let's load data from the Chicago open data portal about socieconomic indicators in the city. \n",
    "# The data will be load from a csv file into a pandas dataframe, and then persisted to our database\n",
    "socioeconomic_df = pd.read_csv('https://data.cityofchicago.org/resource/jcxq-k9xf.csv')\n",
    "socioeconomic_df.to_sql('socioeconomic_data', conn, if_exists='replace', index=False)"
   ]
  },
  {
   "cell_type": "code",
   "execution_count": 8,
   "id": "168f3825",
   "metadata": {},
   "outputs": [
    {
     "data": {
      "text/html": [
       "<div>\n",
       "<style scoped>\n",
       "    .dataframe tbody tr th:only-of-type {\n",
       "        vertical-align: middle;\n",
       "    }\n",
       "\n",
       "    .dataframe tbody tr th {\n",
       "        vertical-align: top;\n",
       "    }\n",
       "\n",
       "    .dataframe thead th {\n",
       "        text-align: right;\n",
       "    }\n",
       "</style>\n",
       "<table border=\"1\" class=\"dataframe\">\n",
       "  <thead>\n",
       "    <tr style=\"text-align: right;\">\n",
       "      <th></th>\n",
       "      <th>ca</th>\n",
       "      <th>community_area_name</th>\n",
       "      <th>percent_of_housing_crowded</th>\n",
       "      <th>percent_households_below_poverty</th>\n",
       "      <th>percent_aged_16_unemployed</th>\n",
       "      <th>percent_aged_25_without_high_school_diploma</th>\n",
       "      <th>percent_aged_under_18_or_over_64</th>\n",
       "      <th>per_capita_income_</th>\n",
       "      <th>hardship_index</th>\n",
       "    </tr>\n",
       "  </thead>\n",
       "  <tbody>\n",
       "    <tr>\n",
       "      <th>0</th>\n",
       "      <td>1.0</td>\n",
       "      <td>Rogers Park</td>\n",
       "      <td>7.7</td>\n",
       "      <td>23.6</td>\n",
       "      <td>8.7</td>\n",
       "      <td>18.2</td>\n",
       "      <td>27.5</td>\n",
       "      <td>23939</td>\n",
       "      <td>39.0</td>\n",
       "    </tr>\n",
       "    <tr>\n",
       "      <th>1</th>\n",
       "      <td>2.0</td>\n",
       "      <td>West Ridge</td>\n",
       "      <td>7.8</td>\n",
       "      <td>17.2</td>\n",
       "      <td>8.8</td>\n",
       "      <td>20.8</td>\n",
       "      <td>38.5</td>\n",
       "      <td>23040</td>\n",
       "      <td>46.0</td>\n",
       "    </tr>\n",
       "    <tr>\n",
       "      <th>2</th>\n",
       "      <td>3.0</td>\n",
       "      <td>Uptown</td>\n",
       "      <td>3.8</td>\n",
       "      <td>24.0</td>\n",
       "      <td>8.9</td>\n",
       "      <td>11.8</td>\n",
       "      <td>22.2</td>\n",
       "      <td>35787</td>\n",
       "      <td>20.0</td>\n",
       "    </tr>\n",
       "    <tr>\n",
       "      <th>3</th>\n",
       "      <td>4.0</td>\n",
       "      <td>Lincoln Square</td>\n",
       "      <td>3.4</td>\n",
       "      <td>10.9</td>\n",
       "      <td>8.2</td>\n",
       "      <td>13.4</td>\n",
       "      <td>25.5</td>\n",
       "      <td>37524</td>\n",
       "      <td>17.0</td>\n",
       "    </tr>\n",
       "    <tr>\n",
       "      <th>4</th>\n",
       "      <td>5.0</td>\n",
       "      <td>North Center</td>\n",
       "      <td>0.3</td>\n",
       "      <td>7.5</td>\n",
       "      <td>5.2</td>\n",
       "      <td>4.5</td>\n",
       "      <td>26.2</td>\n",
       "      <td>57123</td>\n",
       "      <td>6.0</td>\n",
       "    </tr>\n",
       "    <tr>\n",
       "      <th>...</th>\n",
       "      <td>...</td>\n",
       "      <td>...</td>\n",
       "      <td>...</td>\n",
       "      <td>...</td>\n",
       "      <td>...</td>\n",
       "      <td>...</td>\n",
       "      <td>...</td>\n",
       "      <td>...</td>\n",
       "      <td>...</td>\n",
       "    </tr>\n",
       "    <tr>\n",
       "      <th>73</th>\n",
       "      <td>74.0</td>\n",
       "      <td>Mount Greenwood</td>\n",
       "      <td>1.0</td>\n",
       "      <td>3.4</td>\n",
       "      <td>8.7</td>\n",
       "      <td>4.3</td>\n",
       "      <td>36.8</td>\n",
       "      <td>34381</td>\n",
       "      <td>16.0</td>\n",
       "    </tr>\n",
       "    <tr>\n",
       "      <th>74</th>\n",
       "      <td>75.0</td>\n",
       "      <td>Morgan Park</td>\n",
       "      <td>0.8</td>\n",
       "      <td>13.2</td>\n",
       "      <td>15.0</td>\n",
       "      <td>10.8</td>\n",
       "      <td>40.3</td>\n",
       "      <td>27149</td>\n",
       "      <td>30.0</td>\n",
       "    </tr>\n",
       "    <tr>\n",
       "      <th>75</th>\n",
       "      <td>76.0</td>\n",
       "      <td>O'Hare</td>\n",
       "      <td>3.6</td>\n",
       "      <td>15.4</td>\n",
       "      <td>7.1</td>\n",
       "      <td>10.9</td>\n",
       "      <td>30.3</td>\n",
       "      <td>25828</td>\n",
       "      <td>24.0</td>\n",
       "    </tr>\n",
       "    <tr>\n",
       "      <th>76</th>\n",
       "      <td>77.0</td>\n",
       "      <td>Edgewater</td>\n",
       "      <td>4.1</td>\n",
       "      <td>18.2</td>\n",
       "      <td>9.2</td>\n",
       "      <td>9.7</td>\n",
       "      <td>23.8</td>\n",
       "      <td>33385</td>\n",
       "      <td>19.0</td>\n",
       "    </tr>\n",
       "    <tr>\n",
       "      <th>77</th>\n",
       "      <td>NaN</td>\n",
       "      <td>CHICAGO</td>\n",
       "      <td>4.7</td>\n",
       "      <td>19.7</td>\n",
       "      <td>12.9</td>\n",
       "      <td>19.5</td>\n",
       "      <td>33.5</td>\n",
       "      <td>28202</td>\n",
       "      <td>NaN</td>\n",
       "    </tr>\n",
       "  </tbody>\n",
       "</table>\n",
       "<p>78 rows × 9 columns</p>\n",
       "</div>"
      ],
      "text/plain": [
       "      ca community_area_name  percent_of_housing_crowded  \\\n",
       "0    1.0         Rogers Park                         7.7   \n",
       "1    2.0          West Ridge                         7.8   \n",
       "2    3.0              Uptown                         3.8   \n",
       "3    4.0      Lincoln Square                         3.4   \n",
       "4    5.0        North Center                         0.3   \n",
       "..   ...                 ...                         ...   \n",
       "73  74.0     Mount Greenwood                         1.0   \n",
       "74  75.0         Morgan Park                         0.8   \n",
       "75  76.0              O'Hare                         3.6   \n",
       "76  77.0           Edgewater                         4.1   \n",
       "77   NaN             CHICAGO                         4.7   \n",
       "\n",
       "    percent_households_below_poverty  percent_aged_16_unemployed  \\\n",
       "0                               23.6                         8.7   \n",
       "1                               17.2                         8.8   \n",
       "2                               24.0                         8.9   \n",
       "3                               10.9                         8.2   \n",
       "4                                7.5                         5.2   \n",
       "..                               ...                         ...   \n",
       "73                               3.4                         8.7   \n",
       "74                              13.2                        15.0   \n",
       "75                              15.4                         7.1   \n",
       "76                              18.2                         9.2   \n",
       "77                              19.7                        12.9   \n",
       "\n",
       "    percent_aged_25_without_high_school_diploma  \\\n",
       "0                                          18.2   \n",
       "1                                          20.8   \n",
       "2                                          11.8   \n",
       "3                                          13.4   \n",
       "4                                           4.5   \n",
       "..                                          ...   \n",
       "73                                          4.3   \n",
       "74                                         10.8   \n",
       "75                                         10.9   \n",
       "76                                          9.7   \n",
       "77                                         19.5   \n",
       "\n",
       "    percent_aged_under_18_or_over_64  per_capita_income_  hardship_index  \n",
       "0                               27.5               23939            39.0  \n",
       "1                               38.5               23040            46.0  \n",
       "2                               22.2               35787            20.0  \n",
       "3                               25.5               37524            17.0  \n",
       "4                               26.2               57123             6.0  \n",
       "..                               ...                 ...             ...  \n",
       "73                              36.8               34381            16.0  \n",
       "74                              40.3               27149            30.0  \n",
       "75                              30.3               25828            24.0  \n",
       "76                              23.8               33385            19.0  \n",
       "77                              33.5               28202             NaN  \n",
       "\n",
       "[78 rows x 9 columns]"
      ]
     },
     "execution_count": 8,
     "metadata": {},
     "output_type": "execute_result"
    }
   ],
   "source": [
    "socioeconomic_df"
   ]
  },
  {
   "cell_type": "markdown",
   "id": "9a54ffa1",
   "metadata": {},
   "source": [
    "## Question 1: How many rows are in the data set?"
   ]
  },
  {
   "cell_type": "code",
   "execution_count": 9,
   "id": "46240838",
   "metadata": {},
   "outputs": [
    {
     "data": {
      "text/plain": [
       "78"
      ]
     },
     "execution_count": 9,
     "metadata": {},
     "output_type": "execute_result"
    }
   ],
   "source": [
    "count_query = 'SELECT COUNT(*) FROM SOCIOECONOMIC_DATA'\n",
    "cursor.execute(count_query)\n",
    "rows = cursor.fetchone()\n",
    "\n",
    "rows[0]"
   ]
  },
  {
   "cell_type": "markdown",
   "id": "af8e3aec",
   "metadata": {},
   "source": [
    "## Question 2: How many community areas in Chicago have a hardship index greater than 50.0?"
   ]
  },
  {
   "cell_type": "code",
   "execution_count": 10,
   "id": "5ec2dfdf",
   "metadata": {},
   "outputs": [
    {
     "data": {
      "text/plain": [
       "38"
      ]
     },
     "execution_count": 10,
     "metadata": {},
     "output_type": "execute_result"
    }
   ],
   "source": [
    "count_hardship_query = 'SELECT count(*) FROM SOCIOECONOMIC_DATA WHERE HARDSHIP_INDEX > 50'\n",
    "cursor.execute(count_hardship_query)\n",
    "rows = cursor.fetchone()\n",
    "\n",
    "rows[0]"
   ]
  },
  {
   "cell_type": "markdown",
   "id": "deda4173",
   "metadata": {},
   "source": [
    "## Question 3: What is the maximum value of hardship index in this dataset?"
   ]
  },
  {
   "cell_type": "code",
   "execution_count": 11,
   "id": "776502a1",
   "metadata": {},
   "outputs": [
    {
     "data": {
      "text/plain": [
       "98.0"
      ]
     },
     "execution_count": 11,
     "metadata": {},
     "output_type": "execute_result"
    }
   ],
   "source": [
    "max_hardship_query = 'SELECT max(HARDSHIP_INDEX) FROM SOCIOECONOMIC_DATA'\n",
    "cursor.execute(max_hardship_query)\n",
    "rows = cursor.fetchone()\n",
    "\n",
    "rows[0]"
   ]
  },
  {
   "cell_type": "markdown",
   "id": "9473b928",
   "metadata": {},
   "source": [
    "## Question 4: Which community area has the highest hardship index?"
   ]
  },
  {
   "cell_type": "code",
   "execution_count": 12,
   "id": "e9a21deb",
   "metadata": {},
   "outputs": [
    {
     "name": "stdout",
     "output_type": "stream",
     "text": [
      "Riverdale\n"
     ]
    }
   ],
   "source": [
    "'''Alternative A'''\n",
    "max_hardship_community_query = 'SELECT community_area_name FROM SOCIOECONOMIC_DATA WHERE HARDSHIP_INDEX = (SELECT max(HARDSHIP_INDEX) FROM SOCIOECONOMIC_DATA)'\n",
    "cursor.execute(max_hardship_community_query)\n",
    "rows = cursor.fetchall()\n",
    "\n",
    "# Extract and print the SQL statement\n",
    "for row in rows:\n",
    "    print(\"\\t\".join(map(str,row)))"
   ]
  },
  {
   "cell_type": "code",
   "execution_count": 13,
   "id": "77a514a8",
   "metadata": {},
   "outputs": [
    {
     "data": {
      "text/plain": [
       "'Riverdale'"
      ]
     },
     "execution_count": 13,
     "metadata": {},
     "output_type": "execute_result"
    }
   ],
   "source": [
    "'''Alternative B'''\n",
    "max_hardship_community_query_B = 'SELECT community_area_name FROM SOCIOECONOMIC_DATA ORDER BY hardship_index DESC NULLS LAST LIMIT 1'\n",
    "cursor.execute(max_hardship_community_query_B)\n",
    "rows = cursor.fetchone()\n",
    "\n",
    "rows[0]"
   ]
  },
  {
   "cell_type": "markdown",
   "id": "989ecaf9",
   "metadata": {},
   "source": [
    "## Question 5: Which Chicago community areas have per-capita incomes greater than $60,000?"
   ]
  },
  {
   "cell_type": "code",
   "execution_count": 14,
   "id": "c41201d6",
   "metadata": {},
   "outputs": [
    {
     "name": "stdout",
     "output_type": "stream",
     "text": [
      "Lake View\n",
      "Lincoln Park\n",
      "Near North Side\n",
      "Loop\n"
     ]
    }
   ],
   "source": [
    "higher_income_communities = 'SELECT community_area_name FROM SOCIOECONOMIC_DATA WHERE per_capita_income_ > 60000'\n",
    "cursor.execute(higher_income_communities)\n",
    "rows = cursor.fetchall()\n",
    "\n",
    "# Extract and print the SQL statement\n",
    "for row in rows:\n",
    "    print(\"\\t\".join(map(str,row)))"
   ]
  },
  {
   "cell_type": "markdown",
   "id": "00fa1e6a",
   "metadata": {},
   "source": [
    "## Question 6: Create a scatter plot using the variables per_capita_income_ and hardship_index. Explain the correlation between the two variables."
   ]
  },
  {
   "cell_type": "code",
   "execution_count": 15,
   "id": "1225ac55",
   "metadata": {},
   "outputs": [
    {
     "data": {
      "text/html": [
       "<div>\n",
       "<style scoped>\n",
       "    .dataframe tbody tr th:only-of-type {\n",
       "        vertical-align: middle;\n",
       "    }\n",
       "\n",
       "    .dataframe tbody tr th {\n",
       "        vertical-align: top;\n",
       "    }\n",
       "\n",
       "    .dataframe thead th {\n",
       "        text-align: right;\n",
       "    }\n",
       "</style>\n",
       "<table border=\"1\" class=\"dataframe\">\n",
       "  <thead>\n",
       "    <tr style=\"text-align: right;\">\n",
       "      <th></th>\n",
       "      <th>INCOME</th>\n",
       "      <th>HARDSHIP</th>\n",
       "    </tr>\n",
       "  </thead>\n",
       "  <tbody>\n",
       "    <tr>\n",
       "      <th>0</th>\n",
       "      <td>23939</td>\n",
       "      <td>39.0</td>\n",
       "    </tr>\n",
       "    <tr>\n",
       "      <th>1</th>\n",
       "      <td>23040</td>\n",
       "      <td>46.0</td>\n",
       "    </tr>\n",
       "    <tr>\n",
       "      <th>2</th>\n",
       "      <td>35787</td>\n",
       "      <td>20.0</td>\n",
       "    </tr>\n",
       "    <tr>\n",
       "      <th>3</th>\n",
       "      <td>37524</td>\n",
       "      <td>17.0</td>\n",
       "    </tr>\n",
       "    <tr>\n",
       "      <th>4</th>\n",
       "      <td>57123</td>\n",
       "      <td>6.0</td>\n",
       "    </tr>\n",
       "  </tbody>\n",
       "</table>\n",
       "</div>"
      ],
      "text/plain": [
       "   INCOME  HARDSHIP\n",
       "0   23939      39.0\n",
       "1   23040      46.0\n",
       "2   35787      20.0\n",
       "3   37524      17.0\n",
       "4   57123       6.0"
      ]
     },
     "execution_count": 15,
     "metadata": {},
     "output_type": "execute_result"
    }
   ],
   "source": [
    "income_hardship_query = 'SELECT per_capita_income_ AS INCOME, hardship_index AS HARDSHIP FROM SOCIOECONOMIC_DATA'\n",
    "cursor.execute(income_hardship_query)\n",
    "\n",
    "correlation_df = pd.DataFrame(cursor.fetchall(), columns=[column[0] for column in cursor.description])\n",
    "correlation_df.head()"
   ]
  },
  {
   "cell_type": "code",
   "execution_count": 16,
   "id": "e3495f1e",
   "metadata": {
    "scrolled": false
   },
   "outputs": [
    {
     "data": {
      "image/png": "[encoded data removed]",
      "text/plain": [
       "<Figure size 600x600 with 3 Axes>"
      ]
     },
     "metadata": {},
     "output_type": "display_data"
    }
   ],
   "source": [
    "import seaborn as sns\n",
    "\n",
    "plot = sns.jointplot(x='INCOME',y='HARDSHIP', data=correlation_df)"
   ]
  },
  {
   "cell_type": "markdown",
   "id": "f70eb2fc",
   "metadata": {},
   "source": [
    "We can see that there is a negative correlation between hardship index and per capita income, the points distribution resemble that of a negative logarithmic curve. "
   ]
  },
  {
   "cell_type": "code",
   "execution_count": 17,
   "id": "ff365408-1cc9-4667-aaad-ed53d391cac1",
   "metadata": {},
   "outputs": [],
   "source": [
    "conn.commit()\n",
    "conn.close()"
   ]
  }
 ],
 "metadata": {
  "kernelspec": {
   "display_name": "Python 3 (ipykernel)",
   "language": "python",
   "name": "python3"
  },
  "language_info": {
   "codemirror_mode": {
    "name": "ipython",
    "version": 3
   },
   "file_extension": ".py",
   "mimetype": "text/x-python",
   "name": "python",
   "nbconvert_exporter": "python",
   "pygments_lexer": "ipython3",
   "version": "3.9.13"
  }
 },
 "nbformat": 4,
 "nbformat_minor": 5
}
