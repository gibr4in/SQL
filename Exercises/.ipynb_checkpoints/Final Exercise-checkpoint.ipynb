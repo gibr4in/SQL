{
 "cells": [
  {
   "cell_type": "code",
   "execution_count": 8,
   "id": "2ee2d92e",
   "metadata": {},
   "outputs": [],
   "source": [
    "import os\n",
    "import sqlite3"
   ]
  },
  {
   "cell_type": "markdown",
   "id": "e10dbca9",
   "metadata": {},
   "source": [
    "# Get database directory"
   ]
  },
  {
   "cell_type": "code",
   "execution_count": 6,
   "id": "ae87f149",
   "metadata": {},
   "outputs": [],
   "source": [
    "parent_dir = os.path.dirname(os.getcwd())\n",
    "database_dir = parent_dir + '\\\\sqlite3'"
   ]
  },
  {
   "cell_type": "code",
   "execution_count": 7,
   "id": "dbee0d85",
   "metadata": {},
   "outputs": [
    {
     "data": {
      "text/plain": [
       "'C:\\\\Users\\\\gibra\\\\Desktop\\\\Data Science\\\\Portfolio\\\\SQL\\\\sqlite3'"
      ]
     },
     "execution_count": 7,
     "metadata": {},
     "output_type": "execute_result"
    }
   ],
   "source": [
    "database_dir"
   ]
  },
  {
   "cell_type": "markdown",
   "id": "ae462a84",
   "metadata": {},
   "source": [
    "# Establish connection with database"
   ]
  },
  {
   "cell_type": "code",
   "execution_count": 10,
   "id": "1c68e235",
   "metadata": {},
   "outputs": [],
   "source": [
    "conn = sqlite3.connect(database_dir + '\\\\database.db')"
   ]
  },
  {
   "cell_type": "code",
   "execution_count": 11,
   "id": "38abbb21",
   "metadata": {},
   "outputs": [],
   "source": [
    "#Create a cursor object to execute SQL statements\n",
    "cursor = conn.cursor()"
   ]
  },
  {
   "cell_type": "markdown",
   "id": "1fbc607c",
   "metadata": {},
   "source": [
    "# Close Connection"
   ]
  },
  {
   "cell_type": "code",
   "execution_count": 12,
   "id": "cba05b0e",
   "metadata": {},
   "outputs": [],
   "source": [
    "conn.commit()\n",
    "conn.close()"
   ]
  },
  {
   "cell_type": "code",
   "execution_count": null,
   "id": "2811147a",
   "metadata": {},
   "outputs": [],
   "source": []
  }
 ],
 "metadata": {
  "kernelspec": {
   "display_name": "Python 3 (ipykernel)",
   "language": "python",
   "name": "python3"
  },
  "language_info": {
   "codemirror_mode": {
    "name": "ipython",
    "version": 3
   },
   "file_extension": ".py",
   "mimetype": "text/x-python",
   "name": "python",
   "nbconvert_exporter": "python",
   "pygments_lexer": "ipython3",
   "version": "3.9.13"
  }
 },
 "nbformat": 4,
 "nbformat_minor": 5
}
