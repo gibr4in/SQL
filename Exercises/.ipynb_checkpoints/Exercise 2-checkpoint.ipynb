{
 "cells": [
  {
   "cell_type": "code",
   "execution_count": 1,
   "id": "4d30f5a1-a7be-4b45-92d6-af812fd11ada",
   "metadata": {},
   "outputs": [],
   "source": [
    "import os\n",
    "import pandas as pd"
   ]
  },
  {
   "cell_type": "code",
   "execution_count": 2,
   "id": "8663bc23",
   "metadata": {},
   "outputs": [],
   "source": [
    "current_directory = os.getcwd()\n",
    "parent_directry = os.path.dirname(current_directory)\n",
    "database_directory = parent_directry + '\\\\sqlite3'"
   ]
  },
  {
   "cell_type": "code",
   "execution_count": 3,
   "id": "1a7b07a6",
   "metadata": {},
   "outputs": [
    {
     "data": {
      "text/plain": [
       "'C:\\\\Users\\\\gibra\\\\Desktop\\\\Data Science\\\\Portfolio\\\\SQL\\\\sqlite3'"
      ]
     },
     "execution_count": 3,
     "metadata": {},
     "output_type": "execute_result"
    }
   ],
   "source": [
    "database_directory"
   ]
  },
  {
   "cell_type": "markdown",
   "id": "52466829-8ac5-4719-b449-989eaa6c1521",
   "metadata": {},
   "source": [
    "# **Library for SQL in Python**"
   ]
  },
  {
   "cell_type": "code",
   "execution_count": 4,
   "id": "bac4d46c-81a7-4125-95fc-9611927eeb91",
   "metadata": {},
   "outputs": [],
   "source": [
    "#Import SQL\n",
    "import sqlite3"
   ]
  },
  {
   "cell_type": "code",
   "execution_count": 5,
   "id": "15cec501-4ced-420a-b036-53d48e762187",
   "metadata": {},
   "outputs": [],
   "source": [
    "# Connect to a database (creates a new database if it doesn't exist)\n",
    "conn = sqlite3.connect(database_directory + '\\\\database.db')"
   ]
  },
  {
   "cell_type": "code",
   "execution_count": 6,
   "id": "f3664813-08e6-4088-9b15-9ee0f0987fad",
   "metadata": {},
   "outputs": [],
   "source": [
    "#Create a cursor object to execute SQL statements\n",
    "cursor = conn.cursor()"
   ]
  },
  {
   "cell_type": "markdown",
   "id": "941e158f-71e5-43e4-a360-fb10167694fc",
   "metadata": {},
   "source": [
    "# Chicago Public Schools Data"
   ]
  },
  {
   "cell_type": "markdown",
   "id": "aeedd326",
   "metadata": {},
   "source": [
    "## Load data into a csv and export to sql"
   ]
  },
  {
   "cell_type": "code",
   "execution_count": 7,
   "id": "491500f8",
   "metadata": {},
   "outputs": [
    {
     "data": {
      "text/plain": [
       "566"
      ]
     },
     "execution_count": 7,
     "metadata": {},
     "output_type": "execute_result"
    }
   ],
   "source": [
    "'''In order to convert a pandas DataFrame into a table for our SQL database,\n",
    "so that it can be accessed and queried using SQL commands, we can use the pandas dataframe to_sql() function.'''\n",
    "#For example: Let's load data from the Chicago open data portal about socieconomic indicators in the city. \n",
    "# The data will be load from a csv file into a pandas dataframe, and then persisted to our database\n",
    "public_schools_df = pd.read_csv('https://ibm.box.com/shared/static/f9gjvj1gjmxxzycdhplzt01qtz0s7ew7.csv')\n",
    "public_schools_df.to_sql('public_schools_data', conn, if_exists='replace', index=False)"
   ]
  },
  {
   "cell_type": "code",
   "execution_count": 8,
   "id": "168f3825",
   "metadata": {
    "scrolled": true
   },
   "outputs": [
    {
     "data": {
      "text/html": [
       "<div>\n",
       "<style scoped>\n",
       "    .dataframe tbody tr th:only-of-type {\n",
       "        vertical-align: middle;\n",
       "    }\n",
       "\n",
       "    .dataframe tbody tr th {\n",
       "        vertical-align: top;\n",
       "    }\n",
       "\n",
       "    .dataframe thead th {\n",
       "        text-align: right;\n",
       "    }\n",
       "</style>\n",
       "<table border=\"1\" class=\"dataframe\">\n",
       "  <thead>\n",
       "    <tr style=\"text-align: right;\">\n",
       "      <th></th>\n",
       "      <th>School ID</th>\n",
       "      <th>NAME_OF_SCHOOL</th>\n",
       "      <th>Elementary, Middle, or High School</th>\n",
       "      <th>Street Address</th>\n",
       "      <th>City</th>\n",
       "      <th>State</th>\n",
       "      <th>ZIP Code</th>\n",
       "      <th>Phone Number</th>\n",
       "      <th>Link</th>\n",
       "      <th>Network Manager</th>\n",
       "      <th>...</th>\n",
       "      <th>Freshman on Track Rate %</th>\n",
       "      <th>X_COORDINATE</th>\n",
       "      <th>Y_COORDINATE</th>\n",
       "      <th>Latitude</th>\n",
       "      <th>Longitude</th>\n",
       "      <th>COMMUNITY_AREA_NUMBER</th>\n",
       "      <th>COMMUNITY_AREA_NAME</th>\n",
       "      <th>Ward</th>\n",
       "      <th>Police District</th>\n",
       "      <th>Location</th>\n",
       "    </tr>\n",
       "  </thead>\n",
       "  <tbody>\n",
       "    <tr>\n",
       "      <th>0</th>\n",
       "      <td>610038</td>\n",
       "      <td>Abraham Lincoln Elementary School</td>\n",
       "      <td>ES</td>\n",
       "      <td>615 W Kemper Pl</td>\n",
       "      <td>Chicago</td>\n",
       "      <td>IL</td>\n",
       "      <td>60614</td>\n",
       "      <td>(773) 534-5720</td>\n",
       "      <td>http://schoolreports.cps.edu/SchoolProgressRep...</td>\n",
       "      <td>Fullerton Elementary Network</td>\n",
       "      <td>...</td>\n",
       "      <td>NDA</td>\n",
       "      <td>1171699.458</td>\n",
       "      <td>1915829.428</td>\n",
       "      <td>41.924497</td>\n",
       "      <td>-87.644522</td>\n",
       "      <td>7</td>\n",
       "      <td>LINCOLN PARK</td>\n",
       "      <td>43</td>\n",
       "      <td>18</td>\n",
       "      <td>(41.92449696, -87.64452163)</td>\n",
       "    </tr>\n",
       "    <tr>\n",
       "      <th>1</th>\n",
       "      <td>610281</td>\n",
       "      <td>Adam Clayton Powell Paideia Community Academy ...</td>\n",
       "      <td>ES</td>\n",
       "      <td>7511 S South Shore Dr</td>\n",
       "      <td>Chicago</td>\n",
       "      <td>IL</td>\n",
       "      <td>60649</td>\n",
       "      <td>(773) 535-6650</td>\n",
       "      <td>http://schoolreports.cps.edu/SchoolProgressRep...</td>\n",
       "      <td>Skyway Elementary Network</td>\n",
       "      <td>...</td>\n",
       "      <td>NDA</td>\n",
       "      <td>1196129.985</td>\n",
       "      <td>1856209.466</td>\n",
       "      <td>41.760324</td>\n",
       "      <td>-87.556736</td>\n",
       "      <td>43</td>\n",
       "      <td>SOUTH SHORE</td>\n",
       "      <td>7</td>\n",
       "      <td>4</td>\n",
       "      <td>(41.76032435, -87.55673627)</td>\n",
       "    </tr>\n",
       "    <tr>\n",
       "      <th>2</th>\n",
       "      <td>610185</td>\n",
       "      <td>Adlai E Stevenson Elementary School</td>\n",
       "      <td>ES</td>\n",
       "      <td>8010 S Kostner Ave</td>\n",
       "      <td>Chicago</td>\n",
       "      <td>IL</td>\n",
       "      <td>60652</td>\n",
       "      <td>(773) 535-2280</td>\n",
       "      <td>http://schoolreports.cps.edu/SchoolProgressRep...</td>\n",
       "      <td>Midway Elementary Network</td>\n",
       "      <td>...</td>\n",
       "      <td>NDA</td>\n",
       "      <td>1148427.165</td>\n",
       "      <td>1851012.215</td>\n",
       "      <td>41.747111</td>\n",
       "      <td>-87.731702</td>\n",
       "      <td>70</td>\n",
       "      <td>ASHBURN</td>\n",
       "      <td>13</td>\n",
       "      <td>8</td>\n",
       "      <td>(41.74711093, -87.73170248)</td>\n",
       "    </tr>\n",
       "    <tr>\n",
       "      <th>3</th>\n",
       "      <td>609993</td>\n",
       "      <td>Agustin Lara Elementary Academy</td>\n",
       "      <td>ES</td>\n",
       "      <td>4619 S Wolcott Ave</td>\n",
       "      <td>Chicago</td>\n",
       "      <td>IL</td>\n",
       "      <td>60609</td>\n",
       "      <td>(773) 535-4389</td>\n",
       "      <td>http://schoolreports.cps.edu/SchoolProgressRep...</td>\n",
       "      <td>Pershing Elementary Network</td>\n",
       "      <td>...</td>\n",
       "      <td>NDA</td>\n",
       "      <td>1164504.290</td>\n",
       "      <td>1873959.199</td>\n",
       "      <td>41.809757</td>\n",
       "      <td>-87.672145</td>\n",
       "      <td>61</td>\n",
       "      <td>NEW CITY</td>\n",
       "      <td>20</td>\n",
       "      <td>9</td>\n",
       "      <td>(41.8097569, -87.6721446)</td>\n",
       "    </tr>\n",
       "    <tr>\n",
       "      <th>4</th>\n",
       "      <td>610513</td>\n",
       "      <td>Air Force Academy High School</td>\n",
       "      <td>HS</td>\n",
       "      <td>3630 S Wells St</td>\n",
       "      <td>Chicago</td>\n",
       "      <td>IL</td>\n",
       "      <td>60609</td>\n",
       "      <td>(773) 535-1590</td>\n",
       "      <td>http://schoolreports.cps.edu/SchoolProgressRep...</td>\n",
       "      <td>Southwest Side High School Network</td>\n",
       "      <td>...</td>\n",
       "      <td>91.8</td>\n",
       "      <td>1175177.622</td>\n",
       "      <td>1880745.126</td>\n",
       "      <td>41.828146</td>\n",
       "      <td>-87.632794</td>\n",
       "      <td>34</td>\n",
       "      <td>ARMOUR SQUARE</td>\n",
       "      <td>11</td>\n",
       "      <td>9</td>\n",
       "      <td>(41.82814609, -87.63279369)</td>\n",
       "    </tr>\n",
       "  </tbody>\n",
       "</table>\n",
       "<p>5 rows × 78 columns</p>\n",
       "</div>"
      ],
      "text/plain": [
       "   School ID                                     NAME_OF_SCHOOL  \\\n",
       "0     610038                  Abraham Lincoln Elementary School   \n",
       "1     610281  Adam Clayton Powell Paideia Community Academy ...   \n",
       "2     610185                Adlai E Stevenson Elementary School   \n",
       "3     609993                    Agustin Lara Elementary Academy   \n",
       "4     610513                      Air Force Academy High School   \n",
       "\n",
       "  Elementary, Middle, or High School          Street Address     City State  \\\n",
       "0                                 ES        615 W Kemper Pl   Chicago    IL   \n",
       "1                                 ES  7511 S South Shore Dr   Chicago    IL   \n",
       "2                                 ES     8010 S Kostner Ave   Chicago    IL   \n",
       "3                                 ES     4619 S Wolcott Ave   Chicago    IL   \n",
       "4                                 HS        3630 S Wells St   Chicago    IL   \n",
       "\n",
       "   ZIP Code    Phone Number  \\\n",
       "0     60614  (773) 534-5720   \n",
       "1     60649  (773) 535-6650   \n",
       "2     60652  (773) 535-2280   \n",
       "3     60609  (773) 535-4389   \n",
       "4     60609  (773) 535-1590   \n",
       "\n",
       "                                               Link   \\\n",
       "0  http://schoolreports.cps.edu/SchoolProgressRep...   \n",
       "1  http://schoolreports.cps.edu/SchoolProgressRep...   \n",
       "2  http://schoolreports.cps.edu/SchoolProgressRep...   \n",
       "3  http://schoolreports.cps.edu/SchoolProgressRep...   \n",
       "4  http://schoolreports.cps.edu/SchoolProgressRep...   \n",
       "\n",
       "                      Network Manager  ... Freshman on Track Rate %  \\\n",
       "0        Fullerton Elementary Network  ...                      NDA   \n",
       "1           Skyway Elementary Network  ...                      NDA   \n",
       "2           Midway Elementary Network  ...                      NDA   \n",
       "3         Pershing Elementary Network  ...                      NDA   \n",
       "4  Southwest Side High School Network  ...                     91.8   \n",
       "\n",
       "  X_COORDINATE Y_COORDINATE   Latitude  Longitude COMMUNITY_AREA_NUMBER  \\\n",
       "0  1171699.458  1915829.428  41.924497 -87.644522                     7   \n",
       "1  1196129.985  1856209.466  41.760324 -87.556736                    43   \n",
       "2  1148427.165  1851012.215  41.747111 -87.731702                    70   \n",
       "3  1164504.290  1873959.199  41.809757 -87.672145                    61   \n",
       "4  1175177.622  1880745.126  41.828146 -87.632794                    34   \n",
       "\n",
       "  COMMUNITY_AREA_NAME  Ward Police District                     Location  \n",
       "0        LINCOLN PARK    43              18  (41.92449696, -87.64452163)  \n",
       "1         SOUTH SHORE     7               4  (41.76032435, -87.55673627)  \n",
       "2             ASHBURN    13               8  (41.74711093, -87.73170248)  \n",
       "3            NEW CITY    20               9    (41.8097569, -87.6721446)  \n",
       "4       ARMOUR SQUARE    11               9  (41.82814609, -87.63279369)  \n",
       "\n",
       "[5 rows x 78 columns]"
      ]
     },
     "execution_count": 8,
     "metadata": {},
     "output_type": "execute_result"
    }
   ],
   "source": [
    "public_schools_df.head()"
   ]
  },
  {
   "cell_type": "code",
   "execution_count": 9,
   "id": "33879470",
   "metadata": {},
   "outputs": [
    {
     "data": {
      "text/html": [
       "<div>\n",
       "<style scoped>\n",
       "    .dataframe tbody tr th:only-of-type {\n",
       "        vertical-align: middle;\n",
       "    }\n",
       "\n",
       "    .dataframe tbody tr th {\n",
       "        vertical-align: top;\n",
       "    }\n",
       "\n",
       "    .dataframe thead th {\n",
       "        text-align: right;\n",
       "    }\n",
       "</style>\n",
       "<table border=\"1\" class=\"dataframe\">\n",
       "  <thead>\n",
       "    <tr style=\"text-align: right;\">\n",
       "      <th></th>\n",
       "      <th>COMMUNITY_AREA_NAME</th>\n",
       "      <th>COLLEGE_ENROLLMENT</th>\n",
       "    </tr>\n",
       "  </thead>\n",
       "  <tbody>\n",
       "    <tr>\n",
       "      <th>6</th>\n",
       "      <td>NORTH CENTER</td>\n",
       "      <td>4368</td>\n",
       "    </tr>\n",
       "    <tr>\n",
       "      <th>357</th>\n",
       "      <td>ARCHER HEIGHTS</td>\n",
       "      <td>3320</td>\n",
       "    </tr>\n",
       "    <tr>\n",
       "      <th>545</th>\n",
       "      <td>NORWOOD PARK</td>\n",
       "      <td>2922</td>\n",
       "    </tr>\n",
       "    <tr>\n",
       "      <th>508</th>\n",
       "      <td>BRIGHTON PARK</td>\n",
       "      <td>2883</td>\n",
       "    </tr>\n",
       "    <tr>\n",
       "      <th>60</th>\n",
       "      <td>IRVING PARK</td>\n",
       "      <td>2366</td>\n",
       "    </tr>\n",
       "    <tr>\n",
       "      <th>...</th>\n",
       "      <td>...</td>\n",
       "      <td>...</td>\n",
       "    </tr>\n",
       "    <tr>\n",
       "      <th>318</th>\n",
       "      <td>NORTH LAWNDALE</td>\n",
       "      <td>83</td>\n",
       "    </tr>\n",
       "    <tr>\n",
       "      <th>372</th>\n",
       "      <td>NORTH LAWNDALE</td>\n",
       "      <td>48</td>\n",
       "    </tr>\n",
       "    <tr>\n",
       "      <th>520</th>\n",
       "      <td>ENGLEWOOD</td>\n",
       "      <td>44</td>\n",
       "    </tr>\n",
       "    <tr>\n",
       "      <th>320</th>\n",
       "      <td>CALUMET HEIGHTS</td>\n",
       "      <td>26</td>\n",
       "    </tr>\n",
       "    <tr>\n",
       "      <th>386</th>\n",
       "      <td>NEAR WEST SIDE</td>\n",
       "      <td>21</td>\n",
       "    </tr>\n",
       "  </tbody>\n",
       "</table>\n",
       "<p>566 rows × 2 columns</p>\n",
       "</div>"
      ],
      "text/plain": [
       "    COMMUNITY_AREA_NAME  COLLEGE_ENROLLMENT\n",
       "6          NORTH CENTER                4368\n",
       "357      ARCHER HEIGHTS                3320\n",
       "545        NORWOOD PARK                2922\n",
       "508       BRIGHTON PARK                2883\n",
       "60          IRVING PARK                2366\n",
       "..                  ...                 ...\n",
       "318      NORTH LAWNDALE                  83\n",
       "372      NORTH LAWNDALE                  48\n",
       "520           ENGLEWOOD                  44\n",
       "320     CALUMET HEIGHTS                  26\n",
       "386      NEAR WEST SIDE                  21\n",
       "\n",
       "[566 rows x 2 columns]"
      ]
     },
     "execution_count": 9,
     "metadata": {},
     "output_type": "execute_result"
    }
   ],
   "source": [
    "public_schools_df[['COMMUNITY_AREA_NAME','COLLEGE_ENROLLMENT']].sort_values(by='COLLEGE_ENROLLMENT', ascending=False)"
   ]
  },
  {
   "cell_type": "code",
   "execution_count": 10,
   "id": "30a704eb",
   "metadata": {},
   "outputs": [
    {
     "name": "stdout",
     "output_type": "stream",
     "text": [
      "INSTRUCTOR\n",
      "PETSALE\n",
      "EMPLOYEES\n",
      "JOB_HISTORY\n",
      "JOBS\n",
      "DEPARTMENTS\n",
      "LOCATIONS\n",
      "socioeconomic_data\n",
      "public_schools_data\n"
     ]
    }
   ],
   "source": [
    "'''Getting a list of tables in our database'''\n",
    "tables_query = \"SELECT name FROM sqlite_master WHERE type='table'\"\n",
    "cursor.execute(tables_query)\n",
    "rows = cursor.fetchall()\n",
    "\n",
    "# Print the metadata\n",
    "for row in rows:\n",
    "    print(\"\\t\".join(map(str,row)))"
   ]
  },
  {
   "cell_type": "code",
   "execution_count": 11,
   "id": "46325c17",
   "metadata": {},
   "outputs": [
    {
     "name": "stdout",
     "output_type": "stream",
     "text": [
      "ID\t Name\t \tType\t #_Null Default Is_primary_Key?\n",
      "0\tSchool ID\tINTEGER\t0\tNone\t0\n",
      "1\tNAME_OF_SCHOOL\tTEXT\t0\tNone\t0\n",
      "2\tElementary, Middle, or High School\tTEXT\t0\tNone\t0\n",
      "3\tStreet Address\tTEXT\t0\tNone\t0\n",
      "4\tCity\tTEXT\t0\tNone\t0\n",
      "5\tState\tTEXT\t0\tNone\t0\n",
      "6\tZIP Code\tINTEGER\t0\tNone\t0\n",
      "7\tPhone Number\tTEXT\t0\tNone\t0\n",
      "8\tLink \tTEXT\t0\tNone\t0\n",
      "9\tNetwork Manager\tTEXT\t0\tNone\t0\n",
      "10\tCollaborative Name\tTEXT\t0\tNone\t0\n",
      "11\tAdequate Yearly Progress Made? \tTEXT\t0\tNone\t0\n",
      "12\tTrack Schedule\tTEXT\t0\tNone\t0\n",
      "13\tCPS Performance Policy Status\tTEXT\t0\tNone\t0\n",
      "14\tCPS Performance Policy Level\tTEXT\t0\tNone\t0\n",
      "15\tHEALTHY_SCHOOL_CERTIFIED\tTEXT\t0\tNone\t0\n",
      "16\tSafety Icon \tTEXT\t0\tNone\t0\n",
      "17\tSAFETY_SCORE\tREAL\t0\tNone\t0\n",
      "18\tFamily Involvement Icon\tTEXT\t0\tNone\t0\n",
      "19\tFamily Involvement Score\tTEXT\t0\tNone\t0\n",
      "20\tEnvironment Icon \tTEXT\t0\tNone\t0\n",
      "21\tEnvironment Score\tREAL\t0\tNone\t0\n",
      "22\tInstruction Icon \tTEXT\t0\tNone\t0\n",
      "23\tInstruction Score\tREAL\t0\tNone\t0\n",
      "24\tLeaders Icon \tTEXT\t0\tNone\t0\n",
      "25\tLeaders Score \tTEXT\t0\tNone\t0\n",
      "26\tTeachers Icon \tTEXT\t0\tNone\t0\n",
      "27\tTeachers Score\tTEXT\t0\tNone\t0\n",
      "28\tParent Engagement Icon \tTEXT\t0\tNone\t0\n",
      "29\tParent Engagement Score\tTEXT\t0\tNone\t0\n",
      "30\tParent Environment Icon\tTEXT\t0\tNone\t0\n",
      "31\tParent Environment Score\tTEXT\t0\tNone\t0\n",
      "32\tAVERAGE_STUDENT_ATTENDANCE\tTEXT\t0\tNone\t0\n",
      "33\tRate of Misconducts (per 100 students) \tREAL\t0\tNone\t0\n",
      "34\tAverage Teacher Attendance\tTEXT\t0\tNone\t0\n",
      "35\tIndividualized Education Program Compliance Rate \tTEXT\t0\tNone\t0\n",
      "36\tPk-2 Literacy %\tTEXT\t0\tNone\t0\n",
      "37\tPk-2 Math %\tTEXT\t0\tNone\t0\n",
      "38\tGr3-5 Grade Level Math %\tTEXT\t0\tNone\t0\n",
      "39\tGr3-5 Grade Level Read % \tTEXT\t0\tNone\t0\n",
      "40\tGr3-5 Keep Pace Read %\tTEXT\t0\tNone\t0\n",
      "41\tGr3-5 Keep Pace Math %\tTEXT\t0\tNone\t0\n",
      "42\tGr6-8 Grade Level Math %\tTEXT\t0\tNone\t0\n",
      "43\tGr6-8 Grade Level Read %\tTEXT\t0\tNone\t0\n",
      "44\tGr6-8 Keep Pace Math%\tTEXT\t0\tNone\t0\n",
      "45\tGr6-8 Keep Pace Read %\tTEXT\t0\tNone\t0\n",
      "46\tGr-8 Explore Math %\tTEXT\t0\tNone\t0\n",
      "47\tGr-8 Explore Read %\tTEXT\t0\tNone\t0\n",
      "48\tISAT Exceeding Math %\tREAL\t0\tNone\t0\n",
      "49\tISAT Exceeding Reading % \tREAL\t0\tNone\t0\n",
      "50\tISAT Value Add Math\tREAL\t0\tNone\t0\n",
      "51\tISAT Value Add Read\tREAL\t0\tNone\t0\n",
      "52\tISAT Value Add Color Math\tTEXT\t0\tNone\t0\n",
      "53\tISAT Value Add Color Read\tTEXT\t0\tNone\t0\n",
      "54\tStudents Taking  Algebra %\tTEXT\t0\tNone\t0\n",
      "55\tStudents Passing  Algebra %\tTEXT\t0\tNone\t0\n",
      "56\t9th Grade EXPLORE (2009) \tTEXT\t0\tNone\t0\n",
      "57\t9th Grade EXPLORE (2010) \tTEXT\t0\tNone\t0\n",
      "58\t10th Grade PLAN (2009) \tTEXT\t0\tNone\t0\n",
      "59\t10th Grade PLAN (2010) \tTEXT\t0\tNone\t0\n",
      "60\tNet Change EXPLORE and PLAN\tTEXT\t0\tNone\t0\n",
      "61\t11th Grade Average ACT (2011) \tTEXT\t0\tNone\t0\n",
      "62\tNet Change PLAN and ACT\tTEXT\t0\tNone\t0\n",
      "63\tCollege Eligibility %\tTEXT\t0\tNone\t0\n",
      "64\tGraduation Rate %\tTEXT\t0\tNone\t0\n",
      "65\tCollege Enrollment Rate %\tTEXT\t0\tNone\t0\n",
      "66\tCOLLEGE_ENROLLMENT\tINTEGER\t0\tNone\t0\n",
      "67\tGeneral Services Route \tINTEGER\t0\tNone\t0\n",
      "68\tFreshman on Track Rate %\tTEXT\t0\tNone\t0\n",
      "69\tX_COORDINATE\tREAL\t0\tNone\t0\n",
      "70\tY_COORDINATE\tREAL\t0\tNone\t0\n",
      "71\tLatitude\tREAL\t0\tNone\t0\n",
      "72\tLongitude\tREAL\t0\tNone\t0\n",
      "73\tCOMMUNITY_AREA_NUMBER\tINTEGER\t0\tNone\t0\n",
      "74\tCOMMUNITY_AREA_NAME\tTEXT\t0\tNone\t0\n",
      "75\tWard\tINTEGER\t0\tNone\t0\n",
      "76\tPolice District\tINTEGER\t0\tNone\t0\n",
      "77\tLocation\tTEXT\t0\tNone\t0\n"
     ]
    }
   ],
   "source": [
    "'''Getting table metadata:'''\n",
    "metadata_query = f\"PRAGMA table_info(public_schools_data)\"\n",
    "cursor.execute(metadata_query)\n",
    "\n",
    "# Fetch all rows returned by the PRAGMA command\n",
    "rows = cursor.fetchall()\n",
    "\n",
    "#List of attributes received by PRAGMA\n",
    "att_list = [\"ID\\t\",\"Name\\t\",\"\\tType\\t\",\"#_Null\",\"Default\",\"Is_primary_Key?\"]\n",
    "\n",
    "# Print the metadata\n",
    "print(\" \".join(map(str,att_list)))\n",
    "for row in rows:\n",
    "    print(\"\\t\".join(map(str,row)))"
   ]
  },
  {
   "cell_type": "markdown",
   "id": "9a54ffa1",
   "metadata": {},
   "source": [
    "## Question 1: How many elementary schools are in the data set?"
   ]
  },
  {
   "cell_type": "code",
   "execution_count": 12,
   "id": "46240838",
   "metadata": {},
   "outputs": [
    {
     "data": {
      "text/plain": [
       "462"
      ]
     },
     "execution_count": 12,
     "metadata": {},
     "output_type": "execute_result"
    }
   ],
   "source": [
    "elementary_schools_query = 'SELECT COUNT(*) FROM public_schools_data WHERE \"Elementary, Middle, or High School\" = \"ES\"'\n",
    "cursor.execute(elementary_schools_query)\n",
    "answer = cursor.fetchone()\n",
    "\n",
    "answer[0]"
   ]
  },
  {
   "cell_type": "markdown",
   "id": "af8e3aec",
   "metadata": {},
   "source": [
    "## Question 2: What is the highest Safety Score?"
   ]
  },
  {
   "cell_type": "code",
   "execution_count": 13,
   "id": "5ec2dfdf",
   "metadata": {},
   "outputs": [
    {
     "data": {
      "text/plain": [
       "99.0"
      ]
     },
     "execution_count": 13,
     "metadata": {},
     "output_type": "execute_result"
    }
   ],
   "source": [
    "max_safety_score_query = 'SELECT max(SAFETY_SCORE) FROM public_schools_data'\n",
    "cursor.execute(max_safety_score_query)\n",
    "answer = cursor.fetchone()\n",
    "\n",
    "answer[0]"
   ]
  },
  {
   "cell_type": "markdown",
   "id": "deda4173",
   "metadata": {},
   "source": [
    "## Question 3: Which schools have the highest Safety Score?"
   ]
  },
  {
   "cell_type": "code",
   "execution_count": 14,
   "id": "776502a1",
   "metadata": {},
   "outputs": [
    {
     "name": "stdout",
     "output_type": "stream",
     "text": [
      "Abraham Lincoln Elementary School\t99.0\n",
      "Alexander Graham Bell Elementary School\t99.0\n",
      "Annie Keller Elementary Gifted Magnet School\t99.0\n",
      "Augustus H Burley Elementary School\t99.0\n",
      "Edgar Allan Poe Elementary Classical School\t99.0\n",
      "Edgebrook Elementary School\t99.0\n",
      "Ellen Mitchell Elementary School\t99.0\n",
      "James E McDade Elementary Classical School\t99.0\n",
      "James G Blaine Elementary School\t99.0\n",
      "LaSalle Elementary Language Academy\t99.0\n",
      "Mary E Courtenay Elementary Language Arts Center\t99.0\n",
      "Northside College Preparatory High School\t99.0\n",
      "Northside Learning Center High School\t99.0\n",
      "Norwood Park Elementary School\t99.0\n",
      "Oriole Park Elementary School\t99.0\n",
      "Sauganash Elementary School\t99.0\n",
      "Stephen Decatur Classical Elementary School\t99.0\n",
      "Talman Elementary School\t99.0\n",
      "Wildwood Elementary School\t99.0\n"
     ]
    }
   ],
   "source": [
    "max_safety_schools_query = 'SELECT NAME_OF_SCHOOL, SAFETY_SCORE FROM public_schools_data WHERE SAFETY_SCORE = (SELECT MAX(SAFETY_SCORE) FROM public_schools_data)'\n",
    "cursor.execute(max_safety_schools_query)\n",
    "rows = cursor.fetchall()\n",
    "\n",
    "# Extract and print the SQL statement\n",
    "for row in rows:\n",
    "    print(\"\\t\".join(map(str,row)))"
   ]
  },
  {
   "cell_type": "markdown",
   "id": "9473b928",
   "metadata": {},
   "source": [
    "## Question 4: What are the top 10 schools with the highest \"Average Student Attendance\"??"
   ]
  },
  {
   "cell_type": "code",
   "execution_count": 15,
   "id": "e9a21deb",
   "metadata": {},
   "outputs": [
    {
     "name": "stdout",
     "output_type": "stream",
     "text": [
      "John Charles Haines Elementary School\t98.40%\n",
      "James Ward Elementary School\t97.80%\n",
      "Edgar Allan Poe Elementary Classical School\t97.60%\n",
      "Orozco Fine Arts & Sciences Elementary School\t97.60%\n",
      "Rachel Carson Elementary School\t97.60%\n",
      "Annie Keller Elementary Gifted Magnet School\t97.50%\n",
      "Andrew Jackson Elementary Language Academy\t97.40%\n",
      "Lenart Elementary Regional Gifted Center\t97.40%\n",
      "Disney II Magnet School\t97.30%\n",
      "John H Vanderpoel Elementary Magnet School\t97.20%\n"
     ]
    }
   ],
   "source": [
    "max_attendance_schools_query = 'SELECT NAME_OF_SCHOOL, AVERAGE_STUDENT_ATTENDANCE FROM public_schools_data ORDER BY AVERAGE_STUDENT_ATTENDANCE DESC NULLS LAST LIMIT 10'\n",
    "cursor.execute(max_attendance_schools_query)\n",
    "rows = cursor.fetchall()\n",
    "\n",
    "# Extract and print the SQL statement\n",
    "for row in rows:\n",
    "    print(\"\\t\".join(map(str,row)))"
   ]
  },
  {
   "cell_type": "markdown",
   "id": "989ecaf9",
   "metadata": {},
   "source": [
    "## Question 5: Retrieve the list of 5 Schools with the lowest Average Student Attendance sorted in ascending order based on attendance"
   ]
  },
  {
   "cell_type": "code",
   "execution_count": 16,
   "id": "c41201d6",
   "metadata": {},
   "outputs": [
    {
     "name": "stdout",
     "output_type": "stream",
     "text": [
      "Richard T Crane Technical Preparatory High School\t57.90%\n",
      "Barbara Vick Early Childhood & Family Center\t60.90%\n",
      "Dyett High School\t62.50%\n",
      "Wendell Phillips Academy High School\t63.00%\n",
      "Orr Academy High School\t66.30%\n"
     ]
    }
   ],
   "source": [
    "min_attendance_schools_query = 'SELECT NAME_OF_SCHOOL, AVERAGE_STUDENT_ATTENDANCE FROM public_schools_data ORDER BY AVERAGE_STUDENT_ATTENDANCE ASC NULLS LAST LIMIT 5'\n",
    "cursor.execute(min_attendance_schools_query)\n",
    "rows = cursor.fetchall()\n",
    "\n",
    "# Extract and print the SQL statement\n",
    "for row in rows:\n",
    "    print(\"\\t\".join(map(str,row)))"
   ]
  },
  {
   "cell_type": "markdown",
   "id": "00fa1e6a",
   "metadata": {},
   "source": [
    "## Question 6: Now remove the '%' sign from the above result set for Average Student Attendance column"
   ]
  },
  {
   "cell_type": "code",
   "execution_count": 17,
   "id": "1225ac55",
   "metadata": {
    "scrolled": true
   },
   "outputs": [
    {
     "name": "stdout",
     "output_type": "stream",
     "text": [
      "Richard T Crane Technical Preparatory High School\t57.90\n",
      "Barbara Vick Early Childhood & Family Center\t60.90\n",
      "Dyett High School\t62.50\n",
      "Wendell Phillips Academy High School\t63.00\n",
      "Orr Academy High School\t66.30\n"
     ]
    }
   ],
   "source": [
    "min_attendance_schools_no_perc_query = '''SELECT NAME_OF_SCHOOL, REPLACE(AVERAGE_STUDENT_ATTENDANCE, \"%\",'') FROM public_schools_data ORDER BY AVERAGE_STUDENT_ATTENDANCE ASC NULLS LAST LIMIT 5'''\n",
    "cursor.execute(min_attendance_schools_no_perc_query)\n",
    "rows = cursor.fetchall()\n",
    "\n",
    "# Extract and print the SQL statement\n",
    "for row in rows:\n",
    "    print(\"\\t\".join(map(str,row)))"
   ]
  },
  {
   "cell_type": "markdown",
   "id": "37886f29",
   "metadata": {},
   "source": [
    "## Question 7: Which Schools have Average Student Attendance lower than 70%?"
   ]
  },
  {
   "cell_type": "code",
   "execution_count": 18,
   "id": "e93cf700",
   "metadata": {
    "scrolled": true
   },
   "outputs": [
    {
     "name": "stdout",
     "output_type": "stream",
     "text": [
      "Barbara Vick Early Childhood & Family Center\t60.90%\n",
      "Chicago Vocational Career Academy High School\t68.80%\n",
      "Dyett High School\t62.50%\n",
      "Manley Career Academy High School\t66.80%\n",
      "Orr Academy High School\t66.30%\n",
      "Richard T Crane Technical Preparatory High School\t57.90%\n",
      "Roberto Clemente Community Academy High School\t69.60%\n",
      "Wendell Phillips Academy High School\t63.00%\n"
     ]
    }
   ],
   "source": [
    "low_attendance_schools = '''SELECT NAME_OF_SCHOOL, AVERAGE_STUDENT_ATTENDANCE FROM public_schools_data WHERE AVERAGE_STUDENT_ATTENDANCE < 70 '''\n",
    "cursor.execute(low_attendance_schools)\n",
    "rows = cursor.fetchall()\n",
    "\n",
    "# Extract and print the SQL statement\n",
    "for row in rows:\n",
    "    print(\"\\t\".join(map(str,row)))"
   ]
  },
  {
   "cell_type": "code",
   "execution_count": 19,
   "id": "bebaf8a8",
   "metadata": {},
   "outputs": [
    {
     "name": "stdout",
     "output_type": "stream",
     "text": [
      "Barbara Vick Early Childhood & Family Center\t60.90%\n",
      "Chicago Vocational Career Academy High School\t68.80%\n",
      "Dyett High School\t62.50%\n",
      "Manley Career Academy High School\t66.80%\n",
      "Orr Academy High School\t66.30%\n",
      "Richard T Crane Technical Preparatory High School\t57.90%\n",
      "Roberto Clemente Community Academy High School\t69.60%\n",
      "Wendell Phillips Academy High School\t63.00%\n"
     ]
    }
   ],
   "source": [
    "'''Sometimes you need to convert the variable to double or decimals:'''\n",
    "low_attendance_schools = '''SELECT NAME_OF_SCHOOL, AVERAGE_STUDENT_ATTENDANCE FROM public_schools_data WHERE CAST ( REPLACE(Average_Student_Attendance, '%', '') AS DOUBLE ) < 70 '''\n",
    "cursor.execute(low_attendance_schools)\n",
    "rows = cursor.fetchall()\n",
    "\n",
    "# Extract and print the SQL statement\n",
    "for row in rows:\n",
    "    print(\"\\t\".join(map(str,row)))"
   ]
  },
  {
   "cell_type": "markdown",
   "id": "22b940cc",
   "metadata": {},
   "source": [
    "## Question 8: Get the total College Enrollment for each Community Area"
   ]
  },
  {
   "cell_type": "code",
   "execution_count": 20,
   "id": "ed9a6241",
   "metadata": {},
   "outputs": [
    {
     "name": "stdout",
     "output_type": "stream",
     "text": [
      "OAKLAND\t140\n",
      "FULLER PARK\t531\n",
      "BURNSIDE\t549\n",
      "OHARE\t786\n",
      "LOOP\t871\n",
      "EDISON PARK\t910\n",
      "HEGEWISCH\t963\n",
      "MONTCLARE\t1317\n",
      "NEAR SOUTH SIDE\t1378\n",
      "FOREST GLEN\t1431\n",
      "ARMOUR SQUARE\t1458\n",
      "AVALON PARK\t1522\n",
      "RIVERDALE\t1547\n",
      "MCKINLEY PARK\t1552\n",
      "CALUMET HEIGHTS\t1568\n",
      "PULLMAN\t1620\n",
      "BEVERLY\t1636\n",
      "JEFFERSON PARK\t1755\n",
      "SOUTH DEERING\t1859\n",
      "HYDE PARK\t1930\n",
      "CLEARING\t2085\n",
      "MOUNT GREENWOOD\t2091\n",
      "WEST GARFIELD PARK\t2622\n",
      "WASHINGTON PARK\t2648\n",
      "GRAND BOULEVARD\t2809\n",
      "BRIDGEPORT\t3167\n",
      "WEST PULLMAN\t3240\n",
      "MORGAN PARK\t3271\n",
      "NEAR NORTH SIDE\t3362\n",
      "AVONDALE\t3640\n",
      "WEST ELSDON\t3700\n",
      "HERMOSA\t3975\n",
      "WASHINGTON HEIGHTS\t4006\n",
      "SOUTH CHICAGO\t4043\n",
      "GREATER GRAND CROSSING\t4051\n",
      "ROGERS PARK\t4068\n",
      "LINCOLN SQUARE\t4132\n",
      "AUBURN GRESHAM\t4175\n",
      "WOODLAWN\t4206\n",
      "WEST LAWN\t4207\n",
      "NORTH PARK\t4210\n",
      "KENWOOD\t4287\n",
      "UPTOWN\t4388\n",
      "SOUTH SHORE\t4543\n",
      "GARFIELD RIDGE\t4552\n",
      "DUNNING\t4568\n",
      "EDGEWATER\t4600\n",
      "DOUGLAS\t4670\n",
      "ARCHER HEIGHTS\t4823\n",
      "CHATHAM\t5042\n",
      "NORTH LAWNDALE\t5146\n",
      "EAST SIDE\t5305\n",
      "EAST GARFIELD PARK\t5337\n",
      "LINCOLN PARK\t5615\n",
      "WEST ENGLEWOOD\t5946\n",
      "NORWOOD PARK\t6469\n",
      "ASHBURN\t6483\n",
      "ENGLEWOOD\t6832\n",
      "ALBANY PARK\t6864\n",
      "PORTAGE PARK\t6954\n",
      "ROSELAND\t7020\n",
      "LAKE VIEW\t7055\n",
      "CHICAGO LAWN\t7086\n",
      "LOWER WEST SIDE\t7257\n",
      "LOGAN SQUARE\t7351\n",
      "NORTH CENTER\t7541\n",
      "IRVING PARK\t7764\n",
      "NEW CITY\t7922\n",
      "NEAR WEST SIDE\t7975\n",
      "WEST RIDGE\t8197\n",
      "HUMBOLDT PARK\t8620\n",
      "WEST TOWN\t9429\n",
      "BRIGHTON PARK\t9647\n",
      "GAGE PARK\t9915\n",
      "AUSTIN\t10933\n",
      "BELMONT CRAGIN\t14386\n",
      "SOUTH LAWNDALE\t14793\n"
     ]
    }
   ],
   "source": [
    "college_enrollment_by_area_query = '''SELECT COMMUNITY_AREA_NAME, SUM(COLLEGE_ENROLLMENT) AS TOTAL_ENROLLMENT FROM public_schools_data GROUP BY COMMUNITY_AREA_NAME ORDER BY TOTAL_ENROLLMENT ASC'''\n",
    "cursor.execute(college_enrollment_by_area_query)\n",
    "rows = cursor.fetchall()\n",
    "\n",
    "# Extract and print the SQL statement\n",
    "for row in rows:\n",
    "    print(\"\\t\".join(map(str,row)))"
   ]
  },
  {
   "cell_type": "markdown",
   "id": "c292ae21",
   "metadata": {},
   "source": [
    "## Question 9: Get the 5 Community Areas with the least total College Enrollment sorted in ascending order"
   ]
  },
  {
   "cell_type": "code",
   "execution_count": 21,
   "id": "b65dd227",
   "metadata": {},
   "outputs": [
    {
     "name": "stdout",
     "output_type": "stream",
     "text": [
      "OAKLAND\t140\n",
      "FULLER PARK\t531\n",
      "BURNSIDE\t549\n",
      "OHARE\t786\n",
      "LOOP\t871\n"
     ]
    }
   ],
   "source": [
    "lower_college_enrollment_by_area_query = '''SELECT COMMUNITY_AREA_NAME, SUM(COLLEGE_ENROLLMENT) AS TOTAL_ENROLLMENT FROM public_schools_data GROUP BY COMMUNITY_AREA_NAME ORDER BY TOTAL_ENROLLMENT ASC LIMIT 5'''\n",
    "cursor.execute(lower_college_enrollment_by_area_query)\n",
    "rows = cursor.fetchall()\n",
    "\n",
    "# Extract and print the SQL statement\n",
    "for row in rows:\n",
    "    print(\"\\t\".join(map(str,row)))"
   ]
  },
  {
   "cell_type": "markdown",
   "id": "c78247f1",
   "metadata": {},
   "source": [
    "## Question 10: Get the hardship index for the community area which has College Enrollment of 4638"
   ]
  },
  {
   "cell_type": "code",
   "execution_count": 22,
   "id": "2426b8b1",
   "metadata": {
    "scrolled": true
   },
   "outputs": [
    {
     "name": "stdout",
     "output_type": "stream",
     "text": [
      "ID\t Name\t \tType\t #_Null Default Is_primary_Key?\n",
      "0\tca\tREAL\t0\tNone\t0\n",
      "1\tcommunity_area_name\tTEXT\t0\tNone\t0\n",
      "2\tpercent_of_housing_crowded\tREAL\t0\tNone\t0\n",
      "3\tpercent_households_below_poverty\tREAL\t0\tNone\t0\n",
      "4\tpercent_aged_16_unemployed\tREAL\t0\tNone\t0\n",
      "5\tpercent_aged_25_without_high_school_diploma\tREAL\t0\tNone\t0\n",
      "6\tpercent_aged_under_18_or_over_64\tREAL\t0\tNone\t0\n",
      "7\tper_capita_income_\tINTEGER\t0\tNone\t0\n",
      "8\thardship_index\tREAL\t0\tNone\t0\n"
     ]
    }
   ],
   "source": [
    "'''Hint: Hardship index is not located in the public_schools_data table, but in the socioeconomic_data table \n",
    "created in Exercise 1. Use Join to get the Hardship Index '''\n",
    "\n",
    "'''Getting table metadata:'''\n",
    "socieconomic_metadata_query = f\"PRAGMA table_info(socioeconomic_data)\"\n",
    "cursor.execute(socieconomic_metadata_query)\n",
    "\n",
    "# Fetch all rows returned by the PRAGMA command\n",
    "rows = cursor.fetchall()\n",
    "\n",
    "#List of attributes received by PRAGMA\n",
    "att_list = [\"ID\\t\",\"Name\\t\",\"\\tType\\t\",\"#_Null\",\"Default\",\"Is_primary_Key?\"]\n",
    "\n",
    "# Print the metadata\n",
    "print(\" \".join(map(str,att_list)))\n",
    "for row in rows:\n",
    "    print(\"\\t\".join(map(str,row)))"
   ]
  },
  {
   "cell_type": "code",
   "execution_count": 23,
   "id": "4a68cd31",
   "metadata": {},
   "outputs": [
    {
     "name": "stdout",
     "output_type": "stream",
     "text": [
      "1.0\n",
      "2.0\n",
      "3.0\n",
      "4.0\n",
      "5.0\n"
     ]
    }
   ],
   "source": [
    "query = 'SELECT ca FROM socioeconomic_data LIMIT 5'\n",
    "cursor.execute(query)\n",
    "rows = cursor.fetchall()\n",
    "\n",
    "for row in rows:\n",
    "    print(\"\\t\".join(map(str,row)))"
   ]
  },
  {
   "cell_type": "markdown",
   "id": "2e3d9945",
   "metadata": {},
   "source": [
    "We can see that the socieconomic data can be joined to the public_schools_data by community_area_number"
   ]
  },
  {
   "cell_type": "code",
   "execution_count": 24,
   "id": "41596226",
   "metadata": {},
   "outputs": [
    {
     "name": "stdout",
     "output_type": "stream",
     "text": [
      "NORTH CENTER\t4368\t6.0\n"
     ]
    }
   ],
   "source": [
    "'''Option A'''\n",
    "left_outer_join_schools_socioeconomic = f\"SELECT P.COMMUNITY_AREA_NAME, P.COLLEGE_ENROLLMENT, S.hardship_index FROM public_schools_data P LEFT OUTER JOIN socioeconomic_data S ON P.COMMUNITY_AREA_NUMBER = S.ca WHERE P.COLLEGE_ENROLLMENT = 4368\"\n",
    "cursor.execute(left_outer_join_schools_socioeconomic)\n",
    "rows = cursor.fetchall()\n",
    "\n",
    "# Extract and print the SQL statement\n",
    "for row in rows:\n",
    "    print(\"\\t\".join(map(str,row)))"
   ]
  },
  {
   "cell_type": "code",
   "execution_count": 25,
   "id": "2aa90997",
   "metadata": {},
   "outputs": [
    {
     "name": "stdout",
     "output_type": "stream",
     "text": [
      "NORTH CENTER\t4368\t6.0\n"
     ]
    }
   ],
   "source": [
    "'''Option B'''\n",
    "left_outer_join_schools_socioeconomic_b = f\"SELECT PSD.COMMUNITY_AREA_NAME, COLLEGE_ENROLLMENT, hardship_index FROM socioeconomic_data SD, public_schools_data PSD WHERE SD.ca = PSD.COMMUNITY_AREA_NUMBER AND COLLEGE_ENROLLMENT = 4368\"\n",
    "cursor.execute(left_outer_join_schools_socioeconomic_b)\n",
    "rows = cursor.fetchall()\n",
    "\n",
    "# Extract and print the SQL statement\n",
    "for row in rows:\n",
    "    print(\"\\t\".join(map(str,row)))"
   ]
  },
  {
   "cell_type": "markdown",
   "id": "433eb90e",
   "metadata": {},
   "source": [
    "## Question 11: Get the hardship index for the community areas which have the 5 lowest Total Enrollment (sum of College_Enrollment)"
   ]
  },
  {
   "cell_type": "code",
   "execution_count": 26,
   "id": "01fc3500",
   "metadata": {},
   "outputs": [
    {
     "name": "stdout",
     "output_type": "stream",
     "text": [
      "OAKLAND\t140\t78.0\n",
      "FULLER PARK\t531\t97.0\n",
      "BURNSIDE\t549\t79.0\n",
      "OHARE\t786\t24.0\n",
      "LOOP\t871\t3.0\n"
     ]
    }
   ],
   "source": [
    "'''Option A'''\n",
    "hardship_total_enrollment = f\"SELECT P.COMMUNITY_AREA_NAME, SUM(P.COLLEGE_ENROLLMENT) AS TOTAL_ENROLLMENT, S.hardship_index FROM public_schools_data P LEFT OUTER JOIN socioeconomic_data S ON P.COMMUNITY_AREA_NUMBER = S.ca GROUP BY P.COMMUNITY_AREA_NAME ORDER BY TOTAL_ENROLLMENT ASC NULLS LAST LIMIT 5\"\n",
    "cursor.execute(hardship_total_enrollment)\n",
    "rows = cursor.fetchall()\n",
    "\n",
    "# Extract and print the SQL statement\n",
    "for row in rows:\n",
    "    print(\"\\t\".join(map(str,row)))"
   ]
  },
  {
   "cell_type": "code",
   "execution_count": 27,
   "id": "053af3f7",
   "metadata": {},
   "outputs": [
    {
     "name": "stdout",
     "output_type": "stream",
     "text": [
      "COMMUNITY_AREA_NAME\tTOTAL_ENROLLMENT\thardship_index\n",
      "OAKLAND\t140\t78.0\n",
      "FULLER PARK\t531\t97.0\n",
      "BURNSIDE\t549\t79.0\n",
      "OHARE\t786\t24.0\n",
      "LOOP\t871\t3.0\n"
     ]
    }
   ],
   "source": [
    "'''Option B'''\n",
    "hardship_total_enrollment_B = f\"SELECT PSD.COMMUNITY_AREA_NAME, SUM(PSD.COLLEGE_ENROLLMENT) AS TOTAL_ENROLLMENT, hardship_index FROM socioeconomic_data SD, public_schools_data PSD WHERE SD.ca = PSD.COMMUNITY_AREA_NUMBER GROUP BY PSD.COMMUNITY_AREA_NUMBER ORDER BY TOTAL_ENROLLMENT ASC NULLS LAST limit 5\"\n",
    "cursor.execute(hardship_total_enrollment_B)\n",
    "rows = cursor.fetchall()\n",
    "\n",
    "columns=[column[0] for column in cursor.description]\n",
    "print(\"\\t\".join(map(str,columns)))\n",
    "# Extract and print the SQL statement\n",
    "for row in rows:\n",
    "    print(\"\\t\".join(map(str,row)))"
   ]
  },
  {
   "cell_type": "markdown",
   "id": "85df1081",
   "metadata": {},
   "source": [
    "## Question 12: Get the hardship index for the community area which has the highest value for College Enrollment"
   ]
  },
  {
   "cell_type": "code",
   "execution_count": 28,
   "id": "2c48659e",
   "metadata": {},
   "outputs": [
    {
     "name": "stdout",
     "output_type": "stream",
     "text": [
      "COMMUNITY_AREA_NAME  COLLEGE_ENROLLMENT  hardship_index\n",
      "NORTH CENTER\t4368\t6.0\n"
     ]
    }
   ],
   "source": [
    "hardship_highest_enrollment = '''SELECT PSD.COMMUNITY_AREA_NAME, PSD.COLLEGE_ENROLLMENT, SD.hardship_index FROM socioeconomic_data SD, public_schools_data PSD WHERE SD.ca = PSD.COMMUNITY_AREA_NUMBER AND COLLEGE_ENROLLMENT = (SELECT MAX(COLLEGE_ENROLLMENT) FROM public_schools_data)'''\n",
    "cursor.execute(hardship_highest_enrollment)\n",
    "rows = cursor.fetchall()\n",
    "\n",
    "columns=[column[0] for column in cursor.description]\n",
    "print(\"  \".join(map(str,columns)))\n",
    "\n",
    "for row in rows:\n",
    "    print(\"\\t\".join(map(str,row)))"
   ]
  },
  {
   "cell_type": "code",
   "execution_count": 29,
   "id": "ff365408-1cc9-4667-aaad-ed53d391cac1",
   "metadata": {},
   "outputs": [],
   "source": [
    "conn.commit()\n",
    "conn.close()"
   ]
  }
 ],
 "metadata": {
  "kernelspec": {
   "display_name": "Python 3 (ipykernel)",
   "language": "python",
   "name": "python3"
  },
  "language_info": {
   "codemirror_mode": {
    "name": "ipython",
    "version": 3
   },
   "file_extension": ".py",
   "mimetype": "text/x-python",
   "name": "python",
   "nbconvert_exporter": "python",
   "pygments_lexer": "ipython3",
   "version": "3.9.13"
  }
 },
 "nbformat": 4,
 "nbformat_minor": 5
}
