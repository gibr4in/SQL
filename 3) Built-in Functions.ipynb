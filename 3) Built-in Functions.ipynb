{
 "cells": [
  {
   "cell_type": "code",
   "execution_count": 1,
   "id": "7c0574bc-7f5f-489e-b0f2-82dd098f6f8e",
   "metadata": {},
   "outputs": [],
   "source": [
    "#Get CWD\n",
    "import os"
   ]
  },
  {
   "cell_type": "code",
   "execution_count": 2,
   "id": "f6fdb9e9-aa2c-49d4-b158-06eec3c32a6d",
   "metadata": {},
   "outputs": [],
   "source": [
    "path = os.getcwd()"
   ]
  },
  {
   "cell_type": "code",
   "execution_count": 3,
   "id": "73d2c5e1-b842-49f1-95c8-37873112445d",
   "metadata": {},
   "outputs": [
    {
     "data": {
      "text/plain": [
       "'C:\\\\Users\\\\gibra\\\\Desktop\\\\Data Science 2023\\\\Portfolio\\\\SQL\\\\SQL with Python'"
      ]
     },
     "execution_count": 3,
     "metadata": {},
     "output_type": "execute_result"
    }
   ],
   "source": [
    "path"
   ]
  },
  {
   "cell_type": "markdown",
   "id": "e8e0c7ca-d175-4134-a460-39610844143e",
   "metadata": {},
   "source": [
    "# **Library for SQL in Python**"
   ]
  },
  {
   "cell_type": "code",
   "execution_count": 4,
   "id": "a50ac1d3-0b58-48bd-b2c4-e32ceb7647a3",
   "metadata": {},
   "outputs": [],
   "source": [
    "#Import SQL\n",
    "import sqlite3"
   ]
  },
  {
   "cell_type": "code",
   "execution_count": 5,
   "id": "6bf1b1e1-5167-4ff7-b677-d6da16d68971",
   "metadata": {},
   "outputs": [],
   "source": [
    "# Connect to a database (creates a new database if it doesn't exist)\n",
    "conn = sqlite3.connect('database.db')"
   ]
  },
  {
   "cell_type": "code",
   "execution_count": 6,
   "id": "5578ccd0-038f-4197-a331-5212d90aee97",
   "metadata": {},
   "outputs": [],
   "source": [
    "#Create a cursor object to execute SQL statements\n",
    "cursor = conn.cursor()"
   ]
  },
  {
   "cell_type": "markdown",
   "id": "0e083f2d-51f5-4ff0-a420-ad4cce821bbb",
   "metadata": {},
   "source": [
    "# **Drop** a table"
   ]
  },
  {
   "cell_type": "code",
   "execution_count": 7,
   "id": "781db384-39d1-4957-8781-e1bab5a8efb4",
   "metadata": {},
   "outputs": [],
   "source": [
    "#If the table PETSALE already exists, drop the table\n",
    "#cursor.execute('''drop table PETSALE''')"
   ]
  },
  {
   "cell_type": "markdown",
   "id": "96924381-b654-42fd-a78a-67b1cb48fca1",
   "metadata": {},
   "source": [
    "# **Create** a table"
   ]
  },
  {
   "cell_type": "markdown",
   "id": "f35f4a2c-7f42-4c85-a7c1-145f0e6df57d",
   "metadata": {},
   "source": [
    "Task 1: Create the INSTRUCTOR table as defined above. \n",
    "\n",
    "Have the ins_id be the primary key, and ensure the lastname and firstname are not null.\n",
    "\n",
    "(Hint: ins_id is of type INTEGER, country of type CHAR(2), and rest of the fields VARCHAR)"
   ]
  },
  {
   "cell_type": "code",
   "execution_count": 8,
   "id": "e23393cd-0bcc-4867-adef-fa62e5147c7e",
   "metadata": {},
   "outputs": [
    {
     "data": {
      "text/plain": [
       "<sqlite3.Cursor at 0x27c9305fe30>"
      ]
     },
     "execution_count": 8,
     "metadata": {},
     "output_type": "execute_result"
    }
   ],
   "source": [
    "cursor.execute('''create table PETSALE (\n",
    "            ID integer NOT NULL,\n",
    "            ANIMAL varchar(20),\n",
    "            QUANTITY integer,\n",
    "            SALEPRICE decimal(6,2),\n",
    "            SALEDATE date,\n",
    "            PRIMARY KEY (ID))''')"
   ]
  },
  {
   "cell_type": "markdown",
   "id": "a20d80d9-5858-4e94-b767-49e2e1f7fa01",
   "metadata": {},
   "source": [
    "# **Fill up** table"
   ]
  },
  {
   "cell_type": "code",
   "execution_count": 9,
   "id": "bf58644e-e1cb-4de8-9321-6b2b3ad7448a",
   "metadata": {},
   "outputs": [
    {
     "data": {
      "text/plain": [
       "<sqlite3.Cursor at 0x27c9305fe30>"
      ]
     },
     "execution_count": 9,
     "metadata": {},
     "output_type": "execute_result"
    }
   ],
   "source": [
    "#Insert set of values at once\n",
    "cursor.execute('''insert into PETSALE \n",
    "                VALUES \n",
    "                (1,'Cat',9,450.09,'2018-05-29'),\n",
    "                (2,'Dog',3,666.66,'2018-06-01'),\n",
    "                (3,'Dog',1,100.00,'2018-06-04'),\n",
    "                (4,'Parrot',2,50.00,'2018-06-04'),\n",
    "                (5,'Dog',1,75.75,'2018-06-10'),\n",
    "                (6,'Hamster',6,60.60,'2018-06-11'),\n",
    "                (7,'Cat',1,44.44,'2018-06-11'),\n",
    "                (8,'Goldfish',24,48.48,'2018-06-14'),\n",
    "                (9,'Dog',2,222.22,'2018-06-15')''')"
   ]
  },
  {
   "cell_type": "markdown",
   "id": "c3ba12ae-6663-4f03-b898-035374893117",
   "metadata": {},
   "source": [
    "# **Built-in Functions**"
   ]
  },
  {
   "cell_type": "markdown",
   "id": "983234bf-a3e1-481d-ac65-91bd958127da",
   "metadata": {},
   "source": [
    "## **Sum**"
   ]
  },
  {
   "cell_type": "code",
   "execution_count": 10,
   "id": "f787acc9-0aa8-4738-bc6d-d47dd0858619",
   "metadata": {},
   "outputs": [
    {
     "data": {
      "text/plain": [
       "1718.24"
      ]
     },
     "execution_count": 10,
     "metadata": {},
     "output_type": "execute_result"
    }
   ],
   "source": [
    "'''This query returns the sum of the values of the specified column'''\n",
    "sum_function = f\"SELECT SUM(SALEPRICE) FROM PETSALE\"\n",
    "cursor.execute(sum_function)\n",
    "total_sales = cursor.fetchone()[0] # We use fetchone as we only need to retrieve the next row from our query result (only one row produced from this command)\n",
    "\n",
    "total_sales"
   ]
  },
  {
   "cell_type": "code",
   "execution_count": 11,
   "id": "a8cfdd93-1978-4ff9-aa25-36d5be16f73a",
   "metadata": {},
   "outputs": [
    {
     "data": {
      "text/plain": [
       "1718.24"
      ]
     },
     "execution_count": 11,
     "metadata": {},
     "output_type": "execute_result"
    }
   ],
   "source": [
    "'''This query ADDS up all the values in the SALESPRICE column and names it as SUM_SALEPRICE.\n",
    "In order for AS to work on this cursor, we activate row factory so that the results are displayed as class row and not as tupples. \n",
    "Rows are usefull as they provide indexed case-sensitive named access to columns\n",
    "You can also activate row factory for the entire console with conn.row_factory = sqlite3.Row'''\n",
    "\n",
    "sum_function = f\"SELECT SUM(SALEPRICE) AS SUM_SALEPRICE FROM PETSALE\"\n",
    "cursor.row_factory = sqlite3.Row # We activate row_factories for this cursor.\n",
    "cursor.execute(sum_function)\n",
    "result = cursor.fetchone()\n",
    "#result.keys()\n",
    "result['SUM_SALEPRICE']"
   ]
  },
  {
   "cell_type": "code",
   "execution_count": 12,
   "id": "c796a4e0-ddf9-4cc9-96a8-42d0c3a6856f",
   "metadata": {},
   "outputs": [],
   "source": [
    "cursor.row_factory = None # To de-activate row_factories for this cursor."
   ]
  },
  {
   "cell_type": "markdown",
   "id": "f993668d-ccd6-45b0-9a40-b182f797c26b",
   "metadata": {},
   "source": [
    "## **Max**"
   ]
  },
  {
   "cell_type": "code",
   "execution_count": 13,
   "id": "1ec8c6fe-808f-4597-bdc6-1fd71a4ebcbc",
   "metadata": {},
   "outputs": [
    {
     "data": {
      "text/plain": [
       "(24,)"
      ]
     },
     "execution_count": 13,
     "metadata": {},
     "output_type": "execute_result"
    }
   ],
   "source": [
    "'''This query gets the max quantity of any animal sold from the PETSALE table'''\n",
    "max_function = f\"SELECT MAX(QUANTITY) FROM PETSALE\"\n",
    "cursor.execute(max_function)\n",
    "max_qty = cursor.fetchone() # We use fetchone as we only need to retrieve the next row from our query result (only one row produced from this command)\n",
    "\n",
    "max_qty"
   ]
  },
  {
   "cell_type": "markdown",
   "id": "dfe05bd0-962a-488b-9f30-68316ee0e2e6",
   "metadata": {
    "tags": []
   },
   "source": [
    "### **Max Group By**"
   ]
  },
  {
   "cell_type": "code",
   "execution_count": 14,
   "id": "a205726e-3b46-4619-9f28-dc5c936a6157",
   "metadata": {},
   "outputs": [
    {
     "name": "stdout",
     "output_type": "stream",
     "text": [
      "Animal: Cat, Max sold in one transaction: 9\n",
      "Animal: Dog, Max sold in one transaction: 3\n",
      "Animal: Goldfish, Max sold in one transaction: 24\n",
      "Animal: Hamster, Max sold in one transaction: 6\n",
      "Animal: Parrot, Max sold in one transaction: 2\n"
     ]
    }
   ],
   "source": [
    "'''This query gets the maximum amount of each animal that has been sold in one sale'''\n",
    "max_groupby_function = f\"SELECT ANIMAL, MAX(QUANTITY) FROM PETSALE GROUP BY ANIMAL\"\n",
    "cursor.execute(max_groupby_function)\n",
    "max_group_qty = cursor.fetchall() \n",
    "\n",
    "for row in cursor.execute(max_groupby_function):\n",
    "    Animal, qty = row\n",
    "    print(f\"Animal: {Animal}, Max sold in one transaction: {qty}\")"
   ]
  },
  {
   "cell_type": "markdown",
   "id": "fed43322-f9a8-4cfb-93e2-1d1d888bc566",
   "metadata": {
    "tags": []
   },
   "source": [
    "### **Max Group By AS**"
   ]
  },
  {
   "cell_type": "code",
   "execution_count": 15,
   "id": "791c9733-63c6-4565-b8c5-1c130c33e6e5",
   "metadata": {},
   "outputs": [
    {
     "name": "stdout",
     "output_type": "stream",
     "text": [
      "Cat 9\n",
      "Dog 3\n",
      "Goldfish 24\n",
      "Hamster 6\n",
      "Parrot 2\n"
     ]
    }
   ],
   "source": [
    "'''This query gets the maximum amount of each animal that has been sold in one sale'''\n",
    "max_groupby_alias_function = f\"SELECT ANIMAL, MAX(QUANTITY) AS AMOUNT FROM PETSALE GROUP BY ANIMAL\"\n",
    "cursor.row_factory = sqlite3.Row\n",
    "#cursor.execute(max_groupby_alias_function) #We will execute in our for loop to avoid using fetch\n",
    "#max_group_qty = cursor.fetchall() # We won't use fetchall because the alias gets lost\n",
    "\n",
    "for row in cursor.execute(max_groupby_alias_function):\n",
    "    print(row['ANIMAL'], row['AMOUNT'])"
   ]
  },
  {
   "cell_type": "code",
   "execution_count": 16,
   "id": "2ae0c6b1-9142-44cf-9d88-db279fea8ec8",
   "metadata": {},
   "outputs": [],
   "source": [
    "cursor.row_factory = None # To de-activate row_factories for this cursor."
   ]
  },
  {
   "cell_type": "markdown",
   "id": "0b340d9f-5fb9-454a-adbe-cd10062020ba",
   "metadata": {
    "tags": []
   },
   "source": [
    "## **Where**"
   ]
  },
  {
   "cell_type": "code",
   "execution_count": 17,
   "id": "f17bdafb-44e0-4aa5-a920-b29394127548",
   "metadata": {},
   "outputs": [
    {
     "name": "stdout",
     "output_type": "stream",
     "text": [
      "('Goldfish', 24)\n"
     ]
    }
   ],
   "source": [
    "'''This query gets the max quantity of any animal sold from the PETSALE table and the animal sold, using a where statement'''\n",
    "max_where_function = f\"SELECT ANIMAL, QUANTITY FROM PETSALE WHERE QUANTITY =(SELECT MAX(QUANTITY) FROM PETSALE)\"\n",
    "#cursor.execute(max_where_function) #We will execute in our for loop to avoid using fetch\n",
    "#max_group_qty = cursor.fetchall() # We won't use fetchall because the alias gets lost\n",
    "\n",
    "for row in cursor.execute(max_where_function):\n",
    "    print(row)"
   ]
  },
  {
   "cell_type": "code",
   "execution_count": 18,
   "id": "93dc24f5-e8cf-4c08-ac70-7bf9fc360150",
   "metadata": {},
   "outputs": [
    {
     "name": "stdout",
     "output_type": "stream",
     "text": [
      "('Dog', 1)\n"
     ]
    }
   ],
   "source": [
    "'''This functions gets the minimum amount of dogs sold in the store '''\n",
    "min_dogs_where = f\"SELECT ANIMAL, MIN(QUANTITY) FROM PETSALE WHERE ANIMAL = 'Dog'\"\n",
    "cursor.execute(min_dogs_where) \n",
    "result = cursor.fetchall()\n",
    "\n",
    "for row in result:\n",
    "    print(row)"
   ]
  },
  {
   "cell_type": "markdown",
   "id": "d9c12e2d-20e5-48f6-8564-f0b054cad48e",
   "metadata": {},
   "source": [
    "## **AVG**"
   ]
  },
  {
   "cell_type": "code",
   "execution_count": 19,
   "id": "2ff7152d-5977-4c30-a654-627f84e6df21",
   "metadata": {},
   "outputs": [
    {
     "name": "stdout",
     "output_type": "stream",
     "text": [
      "190.91555555555556\n"
     ]
    }
   ],
   "source": [
    "'''This query is used to get the average saleprice of the PETSALE table'''\n",
    "avg_query = f\"SELECT AVG(SALEPRICE) FROM PETSALE\"\n",
    "cursor.execute(avg_query)\n",
    "rows = cursor.fetchone()\n",
    "\n",
    "for row in rows:\n",
    "    print(row)"
   ]
  },
  {
   "cell_type": "code",
   "execution_count": 20,
   "id": "2f72e05d-f153-4c6a-9bd1-0691bae5cd05",
   "metadata": {},
   "outputs": [
    {
     "name": "stdout",
     "output_type": "stream",
     "text": [
      "266.15749999999997\n"
     ]
    }
   ],
   "source": [
    "'''This query is used to get the average saleprice of DOGS in the PETSALE table'''\n",
    "avg_query = f\"SELECT AVG(SALEPRICE) FROM PETSALE WHERE ANIMAL = 'Dog'\"\n",
    "cursor.execute(avg_query)\n",
    "rows = cursor.fetchone()\n",
    "\n",
    "for row in rows:\n",
    "    print(row)"
   ]
  },
  {
   "cell_type": "markdown",
   "id": "ebf18f25-a089-4bc3-848e-1f382e075d9d",
   "metadata": {},
   "source": [
    "## **ROUND**"
   ]
  },
  {
   "cell_type": "code",
   "execution_count": 21,
   "id": "9b2271e0-ea99-4094-ba8a-8ecbb3a20cfb",
   "metadata": {},
   "outputs": [
    {
     "name": "stdout",
     "output_type": "stream",
     "text": [
      "(450.0,)\n",
      "(667.0,)\n",
      "(100.0,)\n",
      "(50.0,)\n",
      "(76.0,)\n",
      "(61.0,)\n",
      "(44.0,)\n",
      "(48.0,)\n",
      "(222.0,)\n"
     ]
    }
   ],
   "source": [
    "'''This query rounds up or down every value in SALEPRICE'''\n",
    "round_query = f\"SELECT ROUND(SALEPRICE) FROM PETSALE\"\n",
    "cursor.execute(round_query)\n",
    "rows = cursor.fetchall()\n",
    "\n",
    "for row in rows:\n",
    "    print(row)"
   ]
  },
  {
   "cell_type": "markdown",
   "id": "637e807a-0d52-4a49-93dc-6c46aa8b9ce5",
   "metadata": {},
   "source": [
    "## **Length**"
   ]
  },
  {
   "cell_type": "code",
   "execution_count": 22,
   "id": "6fd26706-f885-4f1d-8095-e71456bdb406",
   "metadata": {},
   "outputs": [
    {
     "name": "stdout",
     "output_type": "stream",
     "text": [
      "(3,)\n",
      "(3,)\n",
      "(3,)\n",
      "(6,)\n",
      "(3,)\n",
      "(7,)\n",
      "(3,)\n",
      "(8,)\n",
      "(3,)\n"
     ]
    }
   ],
   "source": [
    "'''This query gets the length of each value in ANIMAL'''\n",
    "length_query = f\"SELECT LENGTH(ANIMAL) FROM PETSALE\"\n",
    "cursor.execute(length_query)\n",
    "rows = cursor.fetchall()\n",
    "\n",
    "for row in rows:\n",
    "    print(row)"
   ]
  },
  {
   "cell_type": "markdown",
   "id": "4eadd828-1748-42db-8358-23b7fbf77881",
   "metadata": {},
   "source": [
    "## **Cases**"
   ]
  },
  {
   "cell_type": "markdown",
   "id": "d495a94f-d455-4a7b-aab3-b00df698cc03",
   "metadata": {},
   "source": [
    "### **Uppercase**"
   ]
  },
  {
   "cell_type": "code",
   "execution_count": 23,
   "id": "8d66487e-d90f-48ab-8e23-2dbaa5dc3d21",
   "metadata": {},
   "outputs": [
    {
     "name": "stdout",
     "output_type": "stream",
     "text": [
      "('CAT',)\n",
      "('DOG',)\n",
      "('DOG',)\n",
      "('PARROT',)\n",
      "('DOG',)\n",
      "('HAMSTER',)\n",
      "('CAT',)\n",
      "('GOLDFISH',)\n",
      "('DOG',)\n"
     ]
    }
   ],
   "source": [
    "'''This query retrieves ANIMAL values in uppercase'''\n",
    "upcase_query = f\"SELECT UPPER(ANIMAL) FROM PETSALE\"\n",
    "cursor.execute(upcase_query)\n",
    "rows = cursor.fetchall()\n",
    "\n",
    "for row in rows:\n",
    "    print(row)"
   ]
  },
  {
   "cell_type": "markdown",
   "id": "e1135f42-1a5f-4efe-94c7-24a60c4d9266",
   "metadata": {},
   "source": [
    "### **Lowercase**"
   ]
  },
  {
   "cell_type": "code",
   "execution_count": 24,
   "id": "1857bff3-d63d-407b-871a-8c45ec79bc43",
   "metadata": {},
   "outputs": [
    {
     "name": "stdout",
     "output_type": "stream",
     "text": [
      "('cat',)\n",
      "('dog',)\n",
      "('dog',)\n",
      "('parrot',)\n",
      "('dog',)\n",
      "('hamster',)\n",
      "('cat',)\n",
      "('goldfish',)\n",
      "('dog',)\n"
     ]
    }
   ],
   "source": [
    "'''This query retrieves ANIMAL values in lowercase'''\n",
    "lcase_query = f\"SELECT LOWER(ANIMAL) FROM PETSALE\"\n",
    "cursor.execute(lcase_query)\n",
    "rows = cursor.fetchall()\n",
    "\n",
    "for row in rows:\n",
    "    print(row)"
   ]
  },
  {
   "cell_type": "markdown",
   "id": "310c18e4-2b4b-4ecd-8ea4-5d6910b93164",
   "metadata": {
    "tags": []
   },
   "source": [
    "### **Application**"
   ]
  },
  {
   "cell_type": "code",
   "execution_count": 25,
   "id": "402198aa-7c46-4554-ab20-4d3d12d82f19",
   "metadata": {},
   "outputs": [
    {
     "name": "stdout",
     "output_type": "stream",
     "text": [
      "(1, 'Cat', 9, 450.09, '2018-05-29')\n",
      "(7, 'Cat', 1, 44.44, '2018-06-11')\n"
     ]
    }
   ],
   "source": [
    "'''Uper/lowercase is particulary useful when we want to use a filter (where) but we can't recall if our text is in upper or lower case'''\n",
    "w_lcase_query = f\"SELECT * from PETSALE WHERE LOWER(ANIMAL) = 'cat'\"\n",
    "cursor.execute(w_lcase_query)\n",
    "rows = cursor.fetchall()\n",
    "\n",
    "for row in rows:\n",
    "    print(row)"
   ]
  },
  {
   "cell_type": "markdown",
   "id": "3c2a1151-02de-44be-b7fd-cfe7d475b27b",
   "metadata": {},
   "source": [
    "## **Unique**"
   ]
  },
  {
   "cell_type": "code",
   "execution_count": 32,
   "id": "95f0169f-7b09-40b4-b914-9ea83dbdc3a2",
   "metadata": {},
   "outputs": [
    {
     "name": "stdout",
     "output_type": "stream",
     "text": [
      "('cat',)\n",
      "('dog',)\n",
      "('parrot',)\n",
      "('hamster',)\n",
      "('goldfish',)\n"
     ]
    }
   ],
   "source": [
    "'''This querry gets the unique values from the ANIMAL column, and displays it in lowercase.'''\n",
    "unique_query = f\"SELECT DISTINCT(LOWER(ANIMAL)) FROM PETSALE\"\n",
    "cursor.execute(unique_query)\n",
    "rows = cursor.fetchall()\n",
    "\n",
    "for row in rows:\n",
    "    print(row)"
   ]
  },
  {
   "cell_type": "markdown",
   "id": "c903beb4-6545-489a-bf42-825c3abf05c9",
   "metadata": {},
   "source": [
    "## **Dates**"
   ]
  },
  {
   "cell_type": "code",
   "execution_count": 40,
   "id": "51f1e07e-6b13-46c8-87d8-e5757206defa",
   "metadata": {},
   "outputs": [
    {
     "name": "stdout",
     "output_type": "stream",
     "text": [
      "('29',)\n",
      "('01',)\n",
      "('04',)\n",
      "('04',)\n",
      "('10',)\n",
      "('11',)\n",
      "('11',)\n",
      "('14',)\n",
      "('15',)\n"
     ]
    }
   ],
   "source": [
    "'''This querry gets the Day portion of a date in PETSALE.\n",
    "%d, %W, %m, %Y, %H, %M, and %S represent the day, week, month, year, hour, minute, and second components, respectively.'''\n",
    "day_query = f\"SELECT strftime('%d', SALEDATE) FROM PETSALE\"\n",
    "cursor.execute(day_query)\n",
    "rows = cursor.fetchall()\n",
    "\n",
    "for row in rows:\n",
    "    print(row)"
   ]
  },
  {
   "cell_type": "code",
   "execution_count": 49,
   "id": "0659aeb9-4d6e-4039-92e7-aeb2edc098df",
   "metadata": {},
   "outputs": [
    {
     "name": "stdout",
     "output_type": "stream",
     "text": [
      "('2',)\n",
      "('5',)\n",
      "('1',)\n",
      "('1',)\n",
      "('0',)\n",
      "('1',)\n",
      "('1',)\n",
      "('4',)\n",
      "('5',)\n"
     ]
    }
   ],
   "source": [
    "'''This querry gets the day of week from the SALEDATE column in PETSALE.\n",
    "%w represents the day of the week in number, where 0 is sunday and 6 is Saturday'''\n",
    "day_week_query = f\"SELECT strftime('%w', SALEDATE) FROM PETSALE\"\n",
    "cursor.execute(day_week_query)\n",
    "rows = cursor.fetchall()\n",
    "\n",
    "for row in rows:\n",
    "    print(row)"
   ]
  },
  {
   "cell_type": "code",
   "execution_count": 55,
   "id": "0b261257-7ef3-4cc0-b988-251e00b336f7",
   "metadata": {},
   "outputs": [
    {
     "name": "stdout",
     "output_type": "stream",
     "text": [
      "(1,)\n"
     ]
    }
   ],
   "source": [
    "'''This querry gets the number of sales in the month of May'''\n",
    "may_query = f\"SELECT COUNT(*) FROM PETSALE WHERE strftime('%m', SALEDATE) = '05'\"\n",
    "cursor.execute(may_query)\n",
    "rows = cursor.fetchall()\n",
    "\n",
    "for row in rows:\n",
    "    print(row)"
   ]
  },
  {
   "cell_type": "code",
   "execution_count": 91,
   "id": "11e806e9-ab7d-45fe-84ae-7f814cdd3931",
   "metadata": {},
   "outputs": [
    {
     "name": "stdout",
     "output_type": "stream",
     "text": [
      "('2018-05-29', '2018-06-01')\n",
      "('2018-06-01', '2018-06-04')\n",
      "('2018-06-04', '2018-06-07')\n",
      "('2018-06-04', '2018-06-07')\n",
      "('2018-06-10', '2018-06-13')\n",
      "('2018-06-11', '2018-06-14')\n",
      "('2018-06-11', '2018-06-14')\n",
      "('2018-06-14', '2018-06-17')\n",
      "('2018-06-15', '2018-06-18')\n"
     ]
    }
   ],
   "source": [
    "'''This querry gets the date 3 days after the sale date'''\n",
    "three_days_query = f\"SELECT SALEDATE, date(SALEDATE, + '3 days') FROM PETSALE\"\n",
    "cursor.execute(three_days_query)\n",
    "rows = cursor.fetchall()\n",
    "\n",
    "for row in rows:\n",
    "    print(row)"
   ]
  },
  {
   "cell_type": "code",
   "execution_count": 92,
   "id": "1c926b9e-26e7-418b-94ba-652014f94481",
   "metadata": {},
   "outputs": [
    {
     "name": "stdout",
     "output_type": "stream",
     "text": [
      "(-14,)\n",
      "(14,)\n",
      "(11,)\n",
      "(11,)\n",
      "(5,)\n",
      "(4,)\n",
      "(4,)\n",
      "(1,)\n",
      "(0,)\n"
     ]
    }
   ],
   "source": [
    "'''This querry gets the date 3 days after the sale date'''\n",
    "three_days_query = f\"SELECT STRFTIME('%d', 'now') - STRFTIME('%d', SALEDATE) FROM PETSALE\"\n",
    "cursor.execute(three_days_query)\n",
    "rows = cursor.fetchall()\n",
    "\n",
    "for row in rows:\n",
    "    print(row)"
   ]
  },
  {
   "cell_type": "code",
   "execution_count": 93,
   "id": "e22da0bb-9d30-4cbf-a6c4-91fdc13b6d86",
   "metadata": {},
   "outputs": [
    {
     "name": "stdout",
     "output_type": "stream",
     "text": [
      "(1, 'Cat', 9, 450.09, '2018-05-29')\n",
      "(2, 'Dog', 3, 666.66, '2018-06-01')\n",
      "(3, 'Dog', 1, 100, '2018-06-04')\n",
      "(4, 'Parrot', 2, 50, '2018-06-04')\n",
      "(5, 'Dog', 1, 75.75, '2018-06-10')\n",
      "(6, 'Hamster', 6, 60.6, '2018-06-11')\n",
      "(7, 'Cat', 1, 44.44, '2018-06-11')\n",
      "(8, 'Goldfish', 24, 48.48, '2018-06-14')\n",
      "(9, 'Dog', 2, 222.22, '2018-06-15')\n"
     ]
    }
   ],
   "source": [
    "cursor.execute(\"SELECT * FROM PETSALE\")\n",
    "rows = cursor.fetchall()\n",
    "for row in rows:\n",
    "    print(row)"
   ]
  },
  {
   "cell_type": "code",
   "execution_count": 96,
   "id": "eab83ac7-4260-4ef4-8a3f-50f23329e06b",
   "metadata": {},
   "outputs": [],
   "source": [
    "conn.close()"
   ]
  },
  {
   "cell_type": "code",
   "execution_count": null,
   "id": "18066b2e-3b6f-4559-9423-0aa1586a685d",
   "metadata": {},
   "outputs": [],
   "source": []
  }
 ],
 "metadata": {
  "kernelspec": {
   "display_name": "Python 3 (ipykernel)",
   "language": "python",
   "name": "python3"
  },
  "language_info": {
   "codemirror_mode": {
    "name": "ipython",
    "version": 3
   },
   "file_extension": ".py",
   "mimetype": "text/x-python",
   "name": "python",
   "nbconvert_exporter": "python",
   "pygments_lexer": "ipython3",
   "version": "3.9.13"
  }
 },
 "nbformat": 4,
 "nbformat_minor": 5
}
