{
 "cells": [
  {
   "cell_type": "code",
   "execution_count": 1,
   "id": "4ea8498d-7dec-4ba6-86ed-e5e45d776e62",
   "metadata": {},
   "outputs": [],
   "source": [
    "#Get CWD\n",
    "import os"
   ]
  },
  {
   "cell_type": "code",
   "execution_count": 2,
   "id": "32f1c805-b810-4db0-a938-2aa2472ab004",
   "metadata": {},
   "outputs": [],
   "source": [
    "path = os.getcwd()"
   ]
  },
  {
   "cell_type": "code",
   "execution_count": 3,
   "id": "40f1d57f-646f-4abe-9e27-a12a1374e631",
   "metadata": {},
   "outputs": [
    {
     "data": {
      "text/plain": [
       "'C:\\\\Users\\\\gibra\\\\Desktop\\\\Data Science 2023\\\\Portfolio\\\\SQL\\\\SQL with Python'"
      ]
     },
     "execution_count": 3,
     "metadata": {},
     "output_type": "execute_result"
    }
   ],
   "source": [
    "path"
   ]
  },
  {
   "cell_type": "markdown",
   "id": "16ffe02d-1737-4db0-a989-c5db8c29726f",
   "metadata": {},
   "source": [
    "# **Library for SQL in Python**"
   ]
  },
  {
   "cell_type": "code",
   "execution_count": 4,
   "id": "5232c305-b332-4194-bb9d-f97e9ab63119",
   "metadata": {},
   "outputs": [],
   "source": [
    "#Import SQL\n",
    "import sqlite3"
   ]
  },
  {
   "cell_type": "code",
   "execution_count": 5,
   "id": "8a13082f-23f9-4b6a-b3f4-63e44f782a82",
   "metadata": {},
   "outputs": [],
   "source": [
    "# Connect to a database (creates a new database if it doesn't exist)\n",
    "conn = sqlite3.connect('database.db')"
   ]
  },
  {
   "cell_type": "code",
   "execution_count": 6,
   "id": "4bb1b531-cfe6-4e5e-ac45-4dccb5e41dc8",
   "metadata": {},
   "outputs": [],
   "source": [
    "#Create a cursor object to execute SQL statements\n",
    "cursor = conn.cursor()"
   ]
  },
  {
   "cell_type": "markdown",
   "id": "d21e9f86-8b55-4cf5-bb6e-974b81080537",
   "metadata": {},
   "source": [
    "# **Drop** a table"
   ]
  },
  {
   "cell_type": "code",
   "execution_count": 18,
   "id": "40d80cca-3f9e-473a-a9c0-4a35fd2ac6b0",
   "metadata": {},
   "outputs": [],
   "source": [
    "#If the table INSTRUCTOR already exists, drop the table\n",
    "#cursor.execute('''drop table INSTRUCTOR''')"
   ]
  },
  {
   "cell_type": "markdown",
   "id": "5a6844d7-9bbc-442b-82ca-a6df00eb4ab2",
   "metadata": {},
   "source": [
    "# **Create** a table"
   ]
  },
  {
   "cell_type": "markdown",
   "id": "7f73a070-05a2-494f-964c-7a3e932fd3c4",
   "metadata": {},
   "source": [
    "Task 1: Create the INSTRUCTOR table as defined above. \n",
    "\n",
    "Have the ins_id be the primary key, and ensure the lastname and firstname are not null.\n",
    "\n",
    "(Hint: ins_id is of type INTEGER, country of type CHAR(2), and rest of the fields VARCHAR)"
   ]
  },
  {
   "cell_type": "code",
   "execution_count": 8,
   "id": "535acc2f-47bb-4638-ad36-edd175225d79",
   "metadata": {},
   "outputs": [
    {
     "data": {
      "text/plain": [
       "<sqlite3.Cursor at 0x1c3002dfb20>"
      ]
     },
     "execution_count": 8,
     "metadata": {},
     "output_type": "execute_result"
    }
   ],
   "source": [
    "cursor.execute('''create table INSTRUCTOR (\n",
    "            ins_id integer NOT NULL,\n",
    "            lastname varchar(60) NOT NULL,\n",
    "            firstname varchar(60) NOT NULL,\n",
    "            city varchar(30),\n",
    "            country char(2),\n",
    "            PRIMARY KEY (ins_id))''')"
   ]
  },
  {
   "cell_type": "markdown",
   "id": "55296918-f48f-496f-843d-0a7c726321ce",
   "metadata": {},
   "source": [
    "# **Insert** a row"
   ]
  },
  {
   "cell_type": "markdown",
   "id": "a4a5059b-aa0c-4dbc-a897-3c631488ec93",
   "metadata": {},
   "source": [
    "Task 2.A: Insert one raw into the table for instructor Rav Ahuja"
   ]
  },
  {
   "cell_type": "code",
   "execution_count": 9,
   "id": "dc422869-3044-45b0-9ffc-21f363996a25",
   "metadata": {},
   "outputs": [
    {
     "data": {
      "text/plain": [
       "<sqlite3.Cursor at 0x1c3002dfb20>"
      ]
     },
     "execution_count": 9,
     "metadata": {},
     "output_type": "execute_result"
    }
   ],
   "source": [
    "# Insert data into the table\n",
    "cursor.execute(\"insert into INSTRUCTOR (ins_id, lastname, firstname, city, country) VALUES (?, ?, ?, ?, ?)\", (1, 'Ahuja','Rav','Toronto','CA'))"
   ]
  },
  {
   "cell_type": "markdown",
   "id": "7b7ba3e5-aa66-44f6-bc4c-203d8500cfec",
   "metadata": {},
   "source": [
    "Task 2.B . - Insert two rows at once for instructors Raul and Hima."
   ]
  },
  {
   "cell_type": "code",
   "execution_count": 10,
   "id": "86b2dbe8-bf20-48a4-a759-42dd7d4b50ba",
   "metadata": {},
   "outputs": [
    {
     "data": {
      "text/plain": [
       "<sqlite3.Cursor at 0x1c3002dfb20>"
      ]
     },
     "execution_count": 10,
     "metadata": {},
     "output_type": "execute_result"
    }
   ],
   "source": [
    "#Insert 2 set of values at once\n",
    "cursor.execute('''insert into INSTRUCTOR (ins_id, lastname, firstname, city, country) \n",
    "                VALUES \n",
    "                (2, 'Chong','Raul','Toronto','CA'),\n",
    "                (3, 'Vasudevan','Hima','Chicago','US')''')"
   ]
  },
  {
   "cell_type": "markdown",
   "id": "769f3dd7-2fbc-4b6d-965c-e66cd039eea0",
   "metadata": {},
   "source": [
    "# **Queries**"
   ]
  },
  {
   "cell_type": "markdown",
   "id": "21c97e01-d3ab-43ea-86bb-d001c2dd2d5c",
   "metadata": {},
   "source": [
    "Task 3 - Select all rows from the instructor table "
   ]
  },
  {
   "cell_type": "code",
   "execution_count": 11,
   "id": "e7367da0-1eb1-4b9f-995f-d09cb91d33ca",
   "metadata": {},
   "outputs": [
    {
     "name": "stdout",
     "output_type": "stream",
     "text": [
      "(1, 'Ahuja', 'Rav', 'Toronto', 'CA')\n",
      "(2, 'Chong', 'Raul', 'Toronto', 'CA')\n",
      "(3, 'Vasudevan', 'Hima', 'Chicago', 'US')\n"
     ]
    }
   ],
   "source": [
    "all_query = \"select * from INSTRUCTOR\" \n",
    "cursor.execute(all_query)\n",
    "rows = cursor.fetchall()\n",
    "for row in rows:\n",
    "    print(row)"
   ]
  },
  {
   "cell_type": "code",
   "execution_count": 12,
   "id": "9ce550da-f78e-4622-8f26-b32db14ac5d3",
   "metadata": {},
   "outputs": [
    {
     "data": {
      "text/plain": [
       "list"
      ]
     },
     "execution_count": 12,
     "metadata": {},
     "output_type": "execute_result"
    }
   ],
   "source": [
    "type(rows)"
   ]
  },
  {
   "cell_type": "markdown",
   "id": "791e70aa-d06d-4ffb-86e6-a143556a0a2d",
   "metadata": {},
   "source": [
    "Task 3B - Select the first name, last name and country where the city is Toronto"
   ]
  },
  {
   "cell_type": "code",
   "execution_count": 13,
   "id": "40991bc1-9f12-4232-b7fd-0739b518f712",
   "metadata": {},
   "outputs": [
    {
     "name": "stdout",
     "output_type": "stream",
     "text": [
      "('Rav', 'Ahuja', 'CA')\n",
      "('Raul', 'Chong', 'CA')\n"
     ]
    }
   ],
   "source": [
    "cursor.execute('''select firstname, lastname, country from INSTRUCTOR where city = 'Toronto' ''')\n",
    "rows = cursor.fetchall()\n",
    "for row in rows:\n",
    "    print(row)"
   ]
  },
  {
   "cell_type": "markdown",
   "id": "6534f562-4e6f-41ac-878f-3e71350b2dc5",
   "metadata": {},
   "source": [
    "# **Update** data"
   ]
  },
  {
   "cell_type": "markdown",
   "id": "82785647-5690-4ed3-845e-645ae4f4283b",
   "metadata": {},
   "source": [
    "Task 4: Update the row for Rav Ahuja and change his city to Markham."
   ]
  },
  {
   "cell_type": "code",
   "execution_count": 14,
   "id": "1311c7f0-5d9e-4c78-921d-2d869751b2da",
   "metadata": {},
   "outputs": [
    {
     "data": {
      "text/plain": [
       "<sqlite3.Cursor at 0x1c3002dfb20>"
      ]
     },
     "execution_count": 14,
     "metadata": {},
     "output_type": "execute_result"
    }
   ],
   "source": [
    "cursor.execute('''update INSTRUCTOR set city='Markham' where ins_id=1''')"
   ]
  },
  {
   "cell_type": "markdown",
   "id": "10bf8878-dc01-4123-aadc-ca62cde254bd",
   "metadata": {},
   "source": [
    "# **Delete** a row"
   ]
  },
  {
   "cell_type": "markdown",
   "id": "a852c166-2219-4d3a-9e14-7cae551d2c71",
   "metadata": {},
   "source": [
    "Task 5: Delete the row for Raul Chong from the table"
   ]
  },
  {
   "cell_type": "code",
   "execution_count": 15,
   "id": "ec185c56-c8db-47cd-bba5-ced94f0bb422",
   "metadata": {},
   "outputs": [
    {
     "data": {
      "text/plain": [
       "<sqlite3.Cursor at 0x1c3002dfb20>"
      ]
     },
     "execution_count": 15,
     "metadata": {},
     "output_type": "execute_result"
    }
   ],
   "source": [
    "query = 'delete from INSTRUCTOR where ins_id =2'\n",
    "cursor.execute(query)"
   ]
  },
  {
   "cell_type": "markdown",
   "id": "24e8f422-1ad6-47f5-906a-8b9c6c19bf06",
   "metadata": {},
   "source": [
    "Task 5B: Retrieve all rows in the INSTRUCTOR table"
   ]
  },
  {
   "cell_type": "code",
   "execution_count": 16,
   "id": "1c5c8cf0-3354-4ea0-9e28-24bcf314d40e",
   "metadata": {},
   "outputs": [
    {
     "name": "stdout",
     "output_type": "stream",
     "text": [
      "(1, 'Ahuja', 'Rav', 'Markham', 'CA')\n",
      "(3, 'Vasudevan', 'Hima', 'Chicago', 'US')\n"
     ]
    }
   ],
   "source": [
    "cursor.execute(all_query)\n",
    "rows = cursor.fetchall()\n",
    "for row in rows:\n",
    "    print(row)"
   ]
  },
  {
   "cell_type": "markdown",
   "id": "7bd2a774-91a5-4372-a791-1db9d830b899",
   "metadata": {},
   "source": [
    "# **Commit** changes to a Table"
   ]
  },
  {
   "cell_type": "code",
   "execution_count": 17,
   "id": "c64145cc-9182-4b47-bb9e-5841f8ab99e2",
   "metadata": {},
   "outputs": [],
   "source": [
    "conn.commit()\n",
    "conn.close()"
   ]
  },
  {
   "cell_type": "code",
   "execution_count": null,
   "id": "b4d63cb3-f518-4a40-92de-71df26caa63d",
   "metadata": {},
   "outputs": [],
   "source": []
  }
 ],
 "metadata": {
  "kernelspec": {
   "display_name": "Python 3 (ipykernel)",
   "language": "python",
   "name": "python3"
  },
  "language_info": {
   "codemirror_mode": {
    "name": "ipython",
    "version": 3
   },
   "file_extension": ".py",
   "mimetype": "text/x-python",
   "name": "python",
   "nbconvert_exporter": "python",
   "pygments_lexer": "ipython3",
   "version": "3.9.13"
  }
 },
 "nbformat": 4,
 "nbformat_minor": 5
}
