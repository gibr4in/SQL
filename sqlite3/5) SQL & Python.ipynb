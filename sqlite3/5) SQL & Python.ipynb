{
 "cells": [
  {
   "cell_type": "code",
   "execution_count": 1,
   "id": "4d30f5a1-a7be-4b45-92d6-af812fd11ada",
   "metadata": {},
   "outputs": [],
   "source": [
    "import os\n",
    "import pandas as pd"
   ]
  },
  {
   "cell_type": "code",
   "execution_count": 2,
   "id": "8f6220f5-e940-45ee-829c-cb9f536c56fa",
   "metadata": {},
   "outputs": [],
   "source": [
    "path = os.getcwd()"
   ]
  },
  {
   "cell_type": "code",
   "execution_count": 3,
   "id": "3feec931-f8d1-40c4-a022-4c037348e6c5",
   "metadata": {},
   "outputs": [
    {
     "data": {
      "text/plain": [
       "'C:\\\\Users\\\\gibra\\\\Desktop\\\\Data Science\\\\Portfolio\\\\SQL\\\\sqlite3'"
      ]
     },
     "execution_count": 3,
     "metadata": {},
     "output_type": "execute_result"
    }
   ],
   "source": [
    "path"
   ]
  },
  {
   "cell_type": "markdown",
   "id": "52466829-8ac5-4719-b449-989eaa6c1521",
   "metadata": {},
   "source": [
    "# **Library for SQL in Python**"
   ]
  },
  {
   "cell_type": "code",
   "execution_count": 4,
   "id": "bac4d46c-81a7-4125-95fc-9611927eeb91",
   "metadata": {},
   "outputs": [],
   "source": [
    "#Import SQL\n",
    "import sqlite3"
   ]
  },
  {
   "cell_type": "code",
   "execution_count": 5,
   "id": "15cec501-4ced-420a-b036-53d48e762187",
   "metadata": {},
   "outputs": [],
   "source": [
    "# Connect to a database (creates a new database if it doesn't exist)\n",
    "conn = sqlite3.connect('database.db')"
   ]
  },
  {
   "cell_type": "code",
   "execution_count": 6,
   "id": "f3664813-08e6-4088-9b15-9ee0f0987fad",
   "metadata": {},
   "outputs": [],
   "source": [
    "#Create a cursor object to execute SQL statements\n",
    "cursor = conn.cursor()"
   ]
  },
  {
   "cell_type": "markdown",
   "id": "941e158f-71e5-43e4-a360-fb10167694fc",
   "metadata": {},
   "source": [
    "# Pandas and SQL"
   ]
  },
  {
   "cell_type": "markdown",
   "id": "f8c368db",
   "metadata": {},
   "source": [
    "## Import sql table into a Dataframe"
   ]
  },
  {
   "cell_type": "code",
   "execution_count": 7,
   "id": "65477bbf",
   "metadata": {
    "scrolled": true
   },
   "outputs": [],
   "source": [
    "''' We can create a pandas dataframe with the results from our sql query'''\n",
    "\n",
    "all_employees_query = f\"SELECT * from EMPLOYEES;\"\n",
    "employees_df = pd.read_sql(all_employees_query, conn) #read_sql needs the query, and the connection to the database"
   ]
  },
  {
   "cell_type": "code",
   "execution_count": 8,
   "id": "cfa1a65b",
   "metadata": {
    "scrolled": false
   },
   "outputs": [
    {
     "data": {
      "text/html": [
       "<div>\n",
       "<style scoped>\n",
       "    .dataframe tbody tr th:only-of-type {\n",
       "        vertical-align: middle;\n",
       "    }\n",
       "\n",
       "    .dataframe tbody tr th {\n",
       "        vertical-align: top;\n",
       "    }\n",
       "\n",
       "    .dataframe thead th {\n",
       "        text-align: right;\n",
       "    }\n",
       "</style>\n",
       "<table border=\"1\" class=\"dataframe\">\n",
       "  <thead>\n",
       "    <tr style=\"text-align: right;\">\n",
       "      <th></th>\n",
       "      <th>EMP_ID</th>\n",
       "      <th>F_NAME</th>\n",
       "      <th>L_NAME</th>\n",
       "      <th>SSN</th>\n",
       "      <th>B_DATE</th>\n",
       "      <th>SEX</th>\n",
       "      <th>ADDRESS</th>\n",
       "      <th>JOB_ID</th>\n",
       "      <th>SALARY</th>\n",
       "      <th>MANAGER_ID</th>\n",
       "      <th>DEP_ID</th>\n",
       "    </tr>\n",
       "  </thead>\n",
       "  <tbody>\n",
       "    <tr>\n",
       "      <th>0</th>\n",
       "      <td>E1001</td>\n",
       "      <td>John</td>\n",
       "      <td>Thomas</td>\n",
       "      <td>123456</td>\n",
       "      <td>1976-01-09</td>\n",
       "      <td>M</td>\n",
       "      <td>5631 Rice, OakPark,IL</td>\n",
       "      <td>100</td>\n",
       "      <td>100000</td>\n",
       "      <td>30001</td>\n",
       "      <td>2</td>\n",
       "    </tr>\n",
       "    <tr>\n",
       "      <th>1</th>\n",
       "      <td>E1002</td>\n",
       "      <td>Alice</td>\n",
       "      <td>James</td>\n",
       "      <td>123457</td>\n",
       "      <td>1972-07-31</td>\n",
       "      <td>F</td>\n",
       "      <td>980 Berry ln, Elgin,IL</td>\n",
       "      <td>200</td>\n",
       "      <td>80000</td>\n",
       "      <td>30002</td>\n",
       "      <td>5</td>\n",
       "    </tr>\n",
       "    <tr>\n",
       "      <th>2</th>\n",
       "      <td>E1003</td>\n",
       "      <td>Steve</td>\n",
       "      <td>Wells</td>\n",
       "      <td>123458</td>\n",
       "      <td>1980-08-10</td>\n",
       "      <td>M</td>\n",
       "      <td>291 Springs, Gary,IL</td>\n",
       "      <td>300</td>\n",
       "      <td>50000</td>\n",
       "      <td>30002</td>\n",
       "      <td>5</td>\n",
       "    </tr>\n",
       "    <tr>\n",
       "      <th>3</th>\n",
       "      <td>E1004</td>\n",
       "      <td>Santosh</td>\n",
       "      <td>Kumar</td>\n",
       "      <td>123459</td>\n",
       "      <td>1985-07-20</td>\n",
       "      <td>M</td>\n",
       "      <td>511 Aurora Av, Aurora,IL</td>\n",
       "      <td>400</td>\n",
       "      <td>60000</td>\n",
       "      <td>30004</td>\n",
       "      <td>5</td>\n",
       "    </tr>\n",
       "    <tr>\n",
       "      <th>4</th>\n",
       "      <td>E1005</td>\n",
       "      <td>Ahmed</td>\n",
       "      <td>Hussain</td>\n",
       "      <td>123410</td>\n",
       "      <td>1981-01-04</td>\n",
       "      <td>M</td>\n",
       "      <td>216 Oak Tree, Geneva,IL</td>\n",
       "      <td>500</td>\n",
       "      <td>70000</td>\n",
       "      <td>30001</td>\n",
       "      <td>2</td>\n",
       "    </tr>\n",
       "  </tbody>\n",
       "</table>\n",
       "</div>"
      ],
      "text/plain": [
       "  EMP_ID   F_NAME   L_NAME     SSN      B_DATE SEX                   ADDRESS  \\\n",
       "0  E1001     John   Thomas  123456  1976-01-09   M     5631 Rice, OakPark,IL   \n",
       "1  E1002    Alice    James  123457  1972-07-31   F    980 Berry ln, Elgin,IL   \n",
       "2  E1003    Steve    Wells  123458  1980-08-10   M      291 Springs, Gary,IL   \n",
       "3  E1004  Santosh    Kumar  123459  1985-07-20   M  511 Aurora Av, Aurora,IL   \n",
       "4  E1005    Ahmed  Hussain  123410  1981-01-04   M   216 Oak Tree, Geneva,IL   \n",
       "\n",
       "  JOB_ID  SALARY MANAGER_ID DEP_ID  \n",
       "0    100  100000      30001      2  \n",
       "1    200   80000      30002      5  \n",
       "2    300   50000      30002      5  \n",
       "3    400   60000      30004      5  \n",
       "4    500   70000      30001      2  "
      ]
     },
     "execution_count": 8,
     "metadata": {},
     "output_type": "execute_result"
    }
   ],
   "source": [
    "employees_df.head()"
   ]
  },
  {
   "cell_type": "markdown",
   "id": "7a73e231",
   "metadata": {},
   "source": [
    "# Converting a pandas Dataframe into a SQL table"
   ]
  },
  {
   "cell_type": "code",
   "execution_count": 9,
   "id": "4fd778e0",
   "metadata": {},
   "outputs": [
    {
     "data": {
      "text/html": [
       "<div>\n",
       "<style scoped>\n",
       "    .dataframe tbody tr th:only-of-type {\n",
       "        vertical-align: middle;\n",
       "    }\n",
       "\n",
       "    .dataframe tbody tr th {\n",
       "        vertical-align: top;\n",
       "    }\n",
       "\n",
       "    .dataframe thead th {\n",
       "        text-align: right;\n",
       "    }\n",
       "</style>\n",
       "<table border=\"1\" class=\"dataframe\">\n",
       "  <thead>\n",
       "    <tr style=\"text-align: right;\">\n",
       "      <th></th>\n",
       "      <th>ca</th>\n",
       "      <th>community_area_name</th>\n",
       "      <th>percent_of_housing_crowded</th>\n",
       "      <th>percent_households_below_poverty</th>\n",
       "      <th>percent_aged_16_unemployed</th>\n",
       "      <th>percent_aged_25_without_high_school_diploma</th>\n",
       "      <th>percent_aged_under_18_or_over_64</th>\n",
       "      <th>per_capita_income_</th>\n",
       "      <th>hardship_index</th>\n",
       "    </tr>\n",
       "  </thead>\n",
       "  <tbody>\n",
       "    <tr>\n",
       "      <th>0</th>\n",
       "      <td>1.0</td>\n",
       "      <td>Rogers Park</td>\n",
       "      <td>7.7</td>\n",
       "      <td>23.6</td>\n",
       "      <td>8.7</td>\n",
       "      <td>18.2</td>\n",
       "      <td>27.5</td>\n",
       "      <td>23939</td>\n",
       "      <td>39.0</td>\n",
       "    </tr>\n",
       "    <tr>\n",
       "      <th>1</th>\n",
       "      <td>2.0</td>\n",
       "      <td>West Ridge</td>\n",
       "      <td>7.8</td>\n",
       "      <td>17.2</td>\n",
       "      <td>8.8</td>\n",
       "      <td>20.8</td>\n",
       "      <td>38.5</td>\n",
       "      <td>23040</td>\n",
       "      <td>46.0</td>\n",
       "    </tr>\n",
       "  </tbody>\n",
       "</table>\n",
       "</div>"
      ],
      "text/plain": [
       "    ca community_area_name  percent_of_housing_crowded  \\\n",
       "0  1.0         Rogers Park                         7.7   \n",
       "1  2.0          West Ridge                         7.8   \n",
       "\n",
       "   percent_households_below_poverty  percent_aged_16_unemployed  \\\n",
       "0                              23.6                         8.7   \n",
       "1                              17.2                         8.8   \n",
       "\n",
       "   percent_aged_25_without_high_school_diploma  \\\n",
       "0                                         18.2   \n",
       "1                                         20.8   \n",
       "\n",
       "   percent_aged_under_18_or_over_64  per_capita_income_  hardship_index  \n",
       "0                              27.5               23939            39.0  \n",
       "1                              38.5               23040            46.0  "
      ]
     },
     "execution_count": 9,
     "metadata": {},
     "output_type": "execute_result"
    }
   ],
   "source": [
    "'''In order to convert a pandas DataFrame into a table for our SQL database,\n",
    "so that it can be accessed and queried using SQL commands, we can use the pandas dataframe to_sql() function.'''\n",
    "#For example: Let's load data from the Chicago open data portal about socieconomic indicators in the city. \n",
    "# The data will be load from a csv file into a pandas dataframe, and then persisted to our database\n",
    "socioeconomic_df = pd.read_csv('https://data.cityofchicago.org/resource/jcxq-k9xf.csv')\n",
    "socioeconomic_df.head(2)"
   ]
  },
  {
   "cell_type": "code",
   "execution_count": 10,
   "id": "a2b0952d",
   "metadata": {
    "scrolled": true
   },
   "outputs": [
    {
     "data": {
      "text/plain": [
       "78"
      ]
     },
     "execution_count": 10,
     "metadata": {},
     "output_type": "execute_result"
    }
   ],
   "source": [
    "#This function requires the name of the sql table where our df will be stored, the connector, and what to do if the table\n",
    "#already exists. \n",
    "socioeconomic_df.to_sql('socioeconomic_data', conn, if_exists='replace', index=False)"
   ]
  },
  {
   "cell_type": "code",
   "execution_count": 11,
   "id": "f0961d0d",
   "metadata": {},
   "outputs": [
    {
     "name": "stdout",
     "output_type": "stream",
     "text": [
      "1.0\tRogers Park\t7.7\t23.6\t8.7\t18.2\t27.5\t23939\t39.0\n",
      "2.0\tWest Ridge\t7.8\t17.2\t8.8\t20.8\t38.5\t23040\t46.0\n",
      "3.0\tUptown\t3.8\t24.0\t8.9\t11.8\t22.2\t35787\t20.0\n",
      "4.0\tLincoln Square\t3.4\t10.9\t8.2\t13.4\t25.5\t37524\t17.0\n",
      "5.0\tNorth Center\t0.3\t7.5\t5.2\t4.5\t26.2\t57123\t6.0\n"
     ]
    }
   ],
   "source": [
    "#We can verify the table creation by making a simple query\n",
    "simple_query = 'SELECT * FROM SOCIOECONOMIC_DATA LIMIT 5'\n",
    "cursor.execute(simple_query)\n",
    "rows = cursor.fetchall()\n",
    "\n",
    "# Extract and print the SQL statement\n",
    "for row in rows:\n",
    "    print(\"\\t\".join(map(str,row)))"
   ]
  },
  {
   "cell_type": "markdown",
   "id": "1a58d99b-7b54-4d09-9cfa-e91a261418fe",
   "metadata": {},
   "source": [
    "# Python Variables"
   ]
  },
  {
   "cell_type": "markdown",
   "id": "5edcbd77",
   "metadata": {},
   "source": [
    "## Queries"
   ]
  },
  {
   "cell_type": "code",
   "execution_count": 12,
   "id": "9ac9ff0a",
   "metadata": {},
   "outputs": [
    {
     "name": "stdout",
     "output_type": "stream",
     "text": [
      "5.0\tNorth Center\t0.3\t7.5\t5.2\t4.5\t26.2\t57123\t6.0\n"
     ]
    }
   ],
   "source": [
    "'''You can use python variables in sql queries using the \":\" sign'''\n",
    "community = 'North Center'\n",
    "\n",
    "python_variable_query = 'SELECT * FROM SOCIOECONOMIC_DATA WHERE COMMUNITY_AREA_NAME = :python_var'\n",
    "cursor.execute(python_variable_query, {'python_var': community})\n",
    "rows = cursor.fetchall()\n",
    "\n",
    "# Extract and print the SQL statement\n",
    "for row in rows:\n",
    "    print(\"\\t\".join(map(str,row)))"
   ]
  },
  {
   "cell_type": "markdown",
   "id": "d1981b0c",
   "metadata": {},
   "source": [
    "## Saving sql queries in python variables"
   ]
  },
  {
   "cell_type": "code",
   "execution_count": 13,
   "id": "47a960a3",
   "metadata": {
    "scrolled": true
   },
   "outputs": [
    {
     "data": {
      "text/html": [
       "<div>\n",
       "<style scoped>\n",
       "    .dataframe tbody tr th:only-of-type {\n",
       "        vertical-align: middle;\n",
       "    }\n",
       "\n",
       "    .dataframe tbody tr th {\n",
       "        vertical-align: top;\n",
       "    }\n",
       "\n",
       "    .dataframe thead th {\n",
       "        text-align: right;\n",
       "    }\n",
       "</style>\n",
       "<table border=\"1\" class=\"dataframe\">\n",
       "  <thead>\n",
       "    <tr style=\"text-align: right;\">\n",
       "      <th></th>\n",
       "      <th>ca</th>\n",
       "      <th>community_area_name</th>\n",
       "      <th>percent_of_housing_crowded</th>\n",
       "      <th>percent_households_below_poverty</th>\n",
       "      <th>percent_aged_16_unemployed</th>\n",
       "      <th>percent_aged_25_without_high_school_diploma</th>\n",
       "      <th>percent_aged_under_18_or_over_64</th>\n",
       "      <th>per_capita_income_</th>\n",
       "      <th>hardship_index</th>\n",
       "    </tr>\n",
       "  </thead>\n",
       "  <tbody>\n",
       "    <tr>\n",
       "      <th>0</th>\n",
       "      <td>14.0</td>\n",
       "      <td>Albany Park</td>\n",
       "      <td>11.3</td>\n",
       "      <td>19.2</td>\n",
       "      <td>10.0</td>\n",
       "      <td>32.9</td>\n",
       "      <td>32.0</td>\n",
       "      <td>21323</td>\n",
       "      <td>53.0</td>\n",
       "    </tr>\n",
       "    <tr>\n",
       "      <th>1</th>\n",
       "      <td>19.0</td>\n",
       "      <td>Belmont Cragin</td>\n",
       "      <td>10.8</td>\n",
       "      <td>18.7</td>\n",
       "      <td>14.6</td>\n",
       "      <td>37.3</td>\n",
       "      <td>37.3</td>\n",
       "      <td>15461</td>\n",
       "      <td>70.0</td>\n",
       "    </tr>\n",
       "    <tr>\n",
       "      <th>2</th>\n",
       "      <td>20.0</td>\n",
       "      <td>Hermosa</td>\n",
       "      <td>6.9</td>\n",
       "      <td>20.5</td>\n",
       "      <td>13.1</td>\n",
       "      <td>41.6</td>\n",
       "      <td>36.4</td>\n",
       "      <td>15089</td>\n",
       "      <td>71.0</td>\n",
       "    </tr>\n",
       "    <tr>\n",
       "      <th>3</th>\n",
       "      <td>23.0</td>\n",
       "      <td>Humboldt park</td>\n",
       "      <td>14.8</td>\n",
       "      <td>33.9</td>\n",
       "      <td>17.3</td>\n",
       "      <td>35.4</td>\n",
       "      <td>38.0</td>\n",
       "      <td>13781</td>\n",
       "      <td>85.0</td>\n",
       "    </tr>\n",
       "    <tr>\n",
       "      <th>4</th>\n",
       "      <td>25.0</td>\n",
       "      <td>Austin</td>\n",
       "      <td>6.3</td>\n",
       "      <td>28.6</td>\n",
       "      <td>22.6</td>\n",
       "      <td>24.4</td>\n",
       "      <td>37.9</td>\n",
       "      <td>15957</td>\n",
       "      <td>73.0</td>\n",
       "    </tr>\n",
       "  </tbody>\n",
       "</table>\n",
       "</div>"
      ],
      "text/plain": [
       "     ca community_area_name  percent_of_housing_crowded  \\\n",
       "0  14.0         Albany Park                        11.3   \n",
       "1  19.0      Belmont Cragin                        10.8   \n",
       "2  20.0             Hermosa                         6.9   \n",
       "3  23.0       Humboldt park                        14.8   \n",
       "4  25.0              Austin                         6.3   \n",
       "\n",
       "   percent_households_below_poverty  percent_aged_16_unemployed  \\\n",
       "0                              19.2                        10.0   \n",
       "1                              18.7                        14.6   \n",
       "2                              20.5                        13.1   \n",
       "3                              33.9                        17.3   \n",
       "4                              28.6                        22.6   \n",
       "\n",
       "   percent_aged_25_without_high_school_diploma  \\\n",
       "0                                         32.9   \n",
       "1                                         37.3   \n",
       "2                                         41.6   \n",
       "3                                         35.4   \n",
       "4                                         24.4   \n",
       "\n",
       "   percent_aged_under_18_or_over_64  per_capita_income_  hardship_index  \n",
       "0                              32.0               21323            53.0  \n",
       "1                              37.3               15461            70.0  \n",
       "2                              36.4               15089            71.0  \n",
       "3                              38.0               13781            85.0  \n",
       "4                              37.9               15957            73.0  "
      ]
     },
     "execution_count": 13,
     "metadata": {},
     "output_type": "execute_result"
    }
   ],
   "source": [
    "'''You can fetch the results of a query into a pandas dataframe, by adding the column attributes from cursor.description'''\n",
    "hi = 50.0\n",
    "\n",
    "query_for_dataframe = 'SELECT * FROM SOCIOECONOMIC_DATA WHERE HARDSHIP_INDEX > :hardship'\n",
    "cursor.execute(query_for_dataframe, {'hardship':hi})\n",
    "\n",
    "high_hardship_df = pd.DataFrame(cursor.fetchall(), columns=[column[0] for column in cursor.description])\n",
    "high_hardship_df.head()"
   ]
  },
  {
   "cell_type": "code",
   "execution_count": 14,
   "id": "ff365408-1cc9-4667-aaad-ed53d391cac1",
   "metadata": {},
   "outputs": [],
   "source": [
    "conn.commit()\n",
    "conn.close()"
   ]
  }
 ],
 "metadata": {
  "kernelspec": {
   "display_name": "Python 3 (ipykernel)",
   "language": "python",
   "name": "python3"
  },
  "language_info": {
   "codemirror_mode": {
    "name": "ipython",
    "version": 3
   },
   "file_extension": ".py",
   "mimetype": "text/x-python",
   "name": "python",
   "nbconvert_exporter": "python",
   "pygments_lexer": "ipython3",
   "version": "3.9.13"
  }
 },
 "nbformat": 4,
 "nbformat_minor": 5
}
