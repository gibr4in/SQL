{
 "cells": [
  {
   "cell_type": "code",
   "execution_count": 1,
   "id": "4d30f5a1-a7be-4b45-92d6-af812fd11ada",
   "metadata": {},
   "outputs": [],
   "source": [
    "import os"
   ]
  },
  {
   "cell_type": "code",
   "execution_count": 2,
   "id": "8f6220f5-e940-45ee-829c-cb9f536c56fa",
   "metadata": {},
   "outputs": [],
   "source": [
    "path = os.getcwd()"
   ]
  },
  {
   "cell_type": "code",
   "execution_count": 3,
   "id": "3feec931-f8d1-40c4-a022-4c037348e6c5",
   "metadata": {},
   "outputs": [
    {
     "data": {
      "text/plain": [
       "'C:\\\\Users\\\\gibra\\\\Desktop\\\\Data Science\\\\Portfolio\\\\SQL\\\\sqlite3'"
      ]
     },
     "execution_count": 3,
     "metadata": {},
     "output_type": "execute_result"
    }
   ],
   "source": [
    "path"
   ]
  },
  {
   "cell_type": "markdown",
   "id": "52466829-8ac5-4719-b449-989eaa6c1521",
   "metadata": {},
   "source": [
    "# **Library for SQL in Python**"
   ]
  },
  {
   "cell_type": "code",
   "execution_count": 4,
   "id": "bac4d46c-81a7-4125-95fc-9611927eeb91",
   "metadata": {},
   "outputs": [],
   "source": [
    "#Import SQL\n",
    "import sqlite3"
   ]
  },
  {
   "cell_type": "code",
   "execution_count": 5,
   "id": "15cec501-4ced-420a-b036-53d48e762187",
   "metadata": {},
   "outputs": [],
   "source": [
    "# Connect to a database (creates a new database if it doesn't exist)\n",
    "conn = sqlite3.connect('database.db')"
   ]
  },
  {
   "cell_type": "code",
   "execution_count": 6,
   "id": "f3664813-08e6-4088-9b15-9ee0f0987fad",
   "metadata": {},
   "outputs": [],
   "source": [
    "#Create a cursor object to execute SQL statements\n",
    "cursor = conn.cursor()"
   ]
  },
  {
   "cell_type": "markdown",
   "id": "941e158f-71e5-43e4-a360-fb10167694fc",
   "metadata": {},
   "source": [
    "# **Retrieve** tables generated on Module 1"
   ]
  },
  {
   "cell_type": "code",
   "execution_count": 7,
   "id": "b582741b-31cc-460c-9b10-6c1a56257ec9",
   "metadata": {},
   "outputs": [],
   "source": [
    "# On this module, the tables created on Module 1 will be used: EMPLOYEES, JOB_HISTORY, JOBS, DEPARTMENTS, LOCATIONS"
   ]
  },
  {
   "cell_type": "code",
   "execution_count": 8,
   "id": "6890e8d1-bca9-4b0f-ac67-64b28a95596c",
   "metadata": {},
   "outputs": [],
   "source": [
    "'''  This function reads the sql table stored on our database '''\n",
    "def read_sql_table(table_name):\n",
    "    all_query = f\"select * from {table_name}\"\n",
    "    attribute_query = f\"PRAGMA table_info({table_name})\"\n",
    "    \n",
    "    #Execute the query that gets the attributes of the columns of table_name\n",
    "    cursor.execute(attribute_query)\n",
    "    columns = [[column[1], column[2]] for column in cursor.fetchall()]\n",
    "    \n",
    "    #Create empty lists were the values will be stored\n",
    "    column_headers = []\n",
    "    column_attributes = []\n",
    "    \n",
    "    #Get a list of the column names and attributes\n",
    "    for column in columns:\n",
    "        column_headers.append(column[0])\n",
    "        column_attributes.append(column[1])\n",
    "    \n",
    "    # Execute the query to fetch all rows\n",
    "    cursor.execute(all_query)\n",
    "    rows = cursor.fetchall()\n",
    "    \n",
    "    #Add the column names and column attributes to the table's rows\n",
    "    rows = [column_headers] + [column_attributes] + ['_' * len(columns)] + rows\n",
    "    \n",
    "    # Find the maximum length of each column value\n",
    "    column_lengths = [len(column) for column in column_headers]\n",
    "    for row in rows:\n",
    "        for i, value in enumerate(row):\n",
    "            column_lengths[i] = max(column_lengths[i], len(str(value)))\n",
    "\n",
    "    for row in rows:\n",
    "        print(\" | \".join(f\"{str(value):<{length}}\" for value, length in zip(row, column_lengths)))"
   ]
  },
  {
   "cell_type": "code",
   "execution_count": 9,
   "id": "633599b0-1142-4e2c-8430-44a0e4c18bb3",
   "metadata": {},
   "outputs": [
    {
     "name": "stdout",
     "output_type": "stream",
     "text": [
      "EMP_ID  | F_NAME      | L_NAME      | SSN     | B_DATE     | SEX  | ADDRESS                      | JOB_ID  | SALARY        | MANAGER_ID | DEP_ID \n",
      "CHAR(9) | VARCHAR(15) | VARCHAR(15) | CHAR(9) | DATE       | CHAR | VARCHAR(30)                  | CHAR(9) | DECIMAL(10,2) | CHAR(9)    | CHAR(9)\n",
      "_       | _           | _           | _       | _          | _    | _                            | _       | _             | _          | _      \n",
      "E1001   | John        | Thomas      | 123456  | 1976-01-09 | M    | 5631 Rice, OakPark,IL        | 100     | 100000        | 30001      | 2      \n",
      "E1002   | Alice       | James       | 123457  | 1972-07-31 | F    | 980 Berry ln, Elgin,IL       | 200     | 80000         | 30002      | 5      \n",
      "E1003   | Steve       | Wells       | 123458  | 1980-08-10 | M    | 291 Springs, Gary,IL         | 300     | 50000         | 30002      | 5      \n",
      "E1004   | Santosh     | Kumar       | 123459  | 1985-07-20 | M    | 511 Aurora Av, Aurora,IL     | 400     | 60000         | 30004      | 5      \n",
      "E1005   | Ahmed       | Hussain     | 123410  | 1981-01-04 | M    | 216 Oak Tree, Geneva,IL      | 500     | 70000         | 30001      | 2      \n",
      "E1006   | Nancy       | Allen       | 123411  | 1978-02-06 | F    | 111 Green Pl, Elgin,IL       | 600     | 90000         | 30001      | 2      \n",
      "E1007   | Mary        | Thomas      | 123412  | 1975-05-05 | F    | 100 Rose Pl, Gary,IL         | 650     | 65000         | 30003      | 7      \n",
      "E1008   | Bharath     | Gupta       | 123413  | 1985-05-06 | M    | 145 Berry Ln, Naperville,IL  | 660     | 65000         | 30003      | 7      \n",
      "E1009   | Andrea      | Jones       | 123414  | 1990-07-09 | F    | 120 Fall Creek, Gary,IL      | 234     | 70000         | 30003      | 7      \n",
      "E1010   | Ann         | Jacob       | 123415  | 1982-03-30 | F    | 111 Britany Springs,Elgin,IL | 220     | 70000         | 30004      | 5      \n"
     ]
    }
   ],
   "source": [
    "read_sql_table('EMPLOYEES')"
   ]
  },
  {
   "cell_type": "code",
   "execution_count": 10,
   "id": "c4307904-4116-457b-a075-b65ff505d9a7",
   "metadata": {},
   "outputs": [
    {
     "name": "stdout",
     "output_type": "stream",
     "text": [
      "EMPL_ID | START_DATE | JOBS_ID | DEPT_ID\n",
      "CHAR(9) | DATE       | CHAR(9) | CHAR(9)\n",
      "_       | _          | _       | _      \n",
      "E1001   | 2000-08-01 | 100     | 2      \n",
      "E1002   | 2001-08-01 | 200     | 5      \n",
      "E1003   | 2001-08-16 | 300     | 5      \n",
      "E1004   | 2000-08-16 | 400     | 5      \n",
      "E1005   | 2000-05-30 | 500     | 2      \n",
      "E1006   | 2001-08-16 | 600     | 2      \n",
      "E1007   | 2002-05-30 | 650     | 7      \n",
      "E1008   | 2010-05-06 | 660     | 7      \n",
      "E1009   | 2016-08-16 | 234     | 7      \n",
      "E1010   | 2016-08-16 | 220     | 5      \n"
     ]
    }
   ],
   "source": [
    "read_sql_table('JOB_HISTORY')"
   ]
  },
  {
   "cell_type": "code",
   "execution_count": 11,
   "id": "3c93c0b5-6959-46cc-9992-123be4aced19",
   "metadata": {},
   "outputs": [
    {
     "name": "stdout",
     "output_type": "stream",
     "text": [
      "JOB_IDENT | JOB_TITLE              | MIN_SALARY    | MAX_SALARY   \n",
      "CHAR(9)   | VARCHAR(15)            | DECIMAL(10,2) | DECIMAL(10,2)\n",
      "_         | _                      | _             | _            \n",
      "100       | Sr. Architect          | 60000         | 100000       \n",
      "200       | Sr. Software Developer | 60000         | 80000        \n",
      "300       | Jr.Software Developer  | 40000         | 60000        \n",
      "400       | Jr.Software Developer  | 40000         | 60000        \n",
      "500       | Jr. Architect          | 50000         | 70000        \n",
      "600       | Lead Architect         | 70000         | 100000       \n",
      "650       | Jr. Designer           | 60000         | 70000        \n",
      "660       | Jr. Designer           | 60000         | 70000        \n",
      "234       | Sr. Designer           | 70000         | 90000        \n",
      "220       | Sr. Designer           | 70000         | 90000        \n"
     ]
    }
   ],
   "source": [
    "read_sql_table('JOBS')"
   ]
  },
  {
   "cell_type": "code",
   "execution_count": 12,
   "id": "57961251-c077-4fd0-b62c-322bd6ec9b6a",
   "metadata": {},
   "outputs": [
    {
     "name": "stdout",
     "output_type": "stream",
     "text": [
      "DEPT_ID_DEP | DEP_NAME        | MANAGER_ID | LOC_ID \n",
      "CHAR(9)     | VARCHAR(15)     | CHAR(9)    | CHAR(9)\n",
      "_           | _               | _          | _      \n",
      "2           | Architect Group | 30001      | L0001  \n",
      "5           | Software Group  | 30002      | L0002  \n",
      "7           | Design Team     | 30003      | L0003  \n"
     ]
    }
   ],
   "source": [
    "read_sql_table('DEPARTMENTS')"
   ]
  },
  {
   "cell_type": "markdown",
   "id": "1a58d99b-7b54-4d09-9cfa-e91a261418fe",
   "metadata": {},
   "source": [
    "# JOIN types"
   ]
  },
  {
   "cell_type": "markdown",
   "id": "7e906bc4-164d-4562-9c4d-78529804ab93",
   "metadata": {},
   "source": [
    "## Inner join"
   ]
  },
  {
   "cell_type": "code",
   "execution_count": 13,
   "id": "b54aaf9b-d634-4b55-b54c-d7606f53e0b0",
   "metadata": {},
   "outputs": [
    {
     "data": {
      "text/plain": [
       "'\\n* An INNER JOIN returns only the rows from both tables that satisfy the join condition.\\n* If there is no matching row in the other table, those rows are excluded from the result set.\\n* The result contains only the rows where the join condition is met. \\n'"
      ]
     },
     "execution_count": 13,
     "metadata": {},
     "output_type": "execute_result"
    }
   ],
   "source": [
    "'''\n",
    "* An INNER JOIN returns only the rows from both tables that satisfy the join condition.\n",
    "* If there is no matching row in the other table, those rows are excluded from the result set.\n",
    "* The result contains only the rows where the join condition is met. \n",
    "'''"
   ]
  },
  {
   "cell_type": "code",
   "execution_count": 14,
   "id": "098d02a3-1e8f-4aa1-aecc-3dd80615e1b2",
   "metadata": {},
   "outputs": [
    {
     "name": "stdout",
     "output_type": "stream",
     "text": [
      "Alice\tJames\t2001-08-01\n",
      "Steve\tWells\t2001-08-16\n",
      "Santosh\tKumar\t2000-08-16\n",
      "Ann\tJacob\t2016-08-16\n"
     ]
    }
   ],
   "source": [
    "''' We can use inner join to select the names and job start dates of all employees who work for the department number 5. EMPLOYEES will be our left table and JOB_HISTORY our right table'''\n",
    "\n",
    "inner_join_query = f\"SELECT E.F_NAME, E.L_NAME, JH.START_DATE FROM EMPLOYEES AS E INNER JOIN JOB_HISTORY AS JH ON E.EMP_ID = JH.EMPL_ID WHERE DEP_ID = '5';\"\n",
    "cursor.execute(inner_join_query)\n",
    "rows = cursor.fetchall()\n",
    "\n",
    "# Extract and print the SQL statement\n",
    "for row in rows:\n",
    "    print(\"\\t\".join(map(str,row)))"
   ]
  },
  {
   "cell_type": "code",
   "execution_count": 15,
   "id": "dc4396b6-6a25-4001-8e53-09c8b07c4d1e",
   "metadata": {},
   "outputs": [
    {
     "name": "stdout",
     "output_type": "stream",
     "text": [
      "Alice\tJames\tSr. Software Developer\t2001-08-01\n",
      "Steve\tWells\tJr.Software Developer\t2001-08-16\n",
      "Santosh\tKumar\tJr.Software Developer\t2000-08-16\n",
      "Ann\tJacob\tSr. Designer\t2016-08-16\n"
     ]
    }
   ],
   "source": [
    "''' We can use inner join to select the names, job start dates, and job titles of all employees who work for the department number 5. This requires an inner join with 3 tables'''\n",
    "\n",
    "inner_join_query = f\"SELECT E.F_NAME, E.L_NAME, J.JOB_TITLE, JH.START_DATE FROM EMPLOYEES AS E INNER JOIN JOBS AS J ON E.JOB_ID = J.JOB_IDENT INNER JOIN JOB_HISTORY AS JH ON E.EMP_ID = JH.EMPL_ID WHERE DEP_ID = '5';\"\n",
    "cursor.execute(inner_join_query)\n",
    "rows = cursor.fetchall()\n",
    "\n",
    "# Extract and print the SQL statement\n",
    "for row in rows:\n",
    "    print(\"\\t\".join(map(str,row)))"
   ]
  },
  {
   "cell_type": "markdown",
   "id": "244115e7-9988-45c0-8056-b86da122975e",
   "metadata": {},
   "source": [
    "## Left Outer Join"
   ]
  },
  {
   "cell_type": "code",
   "execution_count": 16,
   "id": "d607f353-1c30-40b2-b95c-fbbe057eff41",
   "metadata": {},
   "outputs": [
    {
     "data": {
      "text/plain": [
       "'\\n* A LEFT OUTER JOIN returns all rows from the left table (the table specified before the JOIN keyword) and the matching rows from the right table.\\n* If there is no matching row in the right table, NULL values are included for columns from the right table.\\n* The result includes all rows from the left table, even if there are no matches in the right table.\\n'"
      ]
     },
     "execution_count": 16,
     "metadata": {},
     "output_type": "execute_result"
    }
   ],
   "source": [
    "'''\n",
    "* A LEFT OUTER JOIN returns all rows from the left table (the table specified before the JOIN keyword) and the matching rows from the right table.\n",
    "* If there is no matching row in the right table, NULL values are included for columns from the right table.\n",
    "* The result includes all rows from the left table, even if there are no matches in the right table.\n",
    "'''"
   ]
  },
  {
   "cell_type": "code",
   "execution_count": 17,
   "id": "b716d31f-2bce-4bee-95df-95447021ed96",
   "metadata": {},
   "outputs": [
    {
     "name": "stdout",
     "output_type": "stream",
     "text": [
      "E1001\tThomas\t2\tArchitect Group\n",
      "E1002\tJames\t5\tSoftware Group\n",
      "E1003\tWells\t5\tSoftware Group\n",
      "E1004\tKumar\t5\tSoftware Group\n",
      "E1005\tHussain\t2\tArchitect Group\n",
      "E1006\tAllen\t2\tArchitect Group\n",
      "E1007\tThomas\t7\tDesign Team\n",
      "E1008\tGupta\t7\tDesign Team\n",
      "E1009\tJones\t7\tDesign Team\n",
      "E1010\tJacob\t5\tSoftware Group\n"
     ]
    }
   ],
   "source": [
    "''' We can use left outer join on the EMPLOYEES and DEPARTMENT tables to select employee id, last name, department id and department name for all employees. \n",
    "EMPLOYEES will be our left table and DEPARTMETNS our right table'''\n",
    "\n",
    "left_outer_join_query = f\"SELECT E.EMP_ID, E.L_NAME, E.DEP_ID, D.DEP_NAME FROM EMPLOYEES E LEFT OUTER JOIN DEPARTMENTS D ON E.DEP_ID = D.DEPT_ID_DEP ;\"\n",
    "cursor.execute(left_outer_join_query)\n",
    "rows = cursor.fetchall()\n",
    "\n",
    "# Extract and print the SQL statement\n",
    "for row in rows:\n",
    "    print(\"\\t\".join(map(str,row)))"
   ]
  },
  {
   "cell_type": "code",
   "execution_count": 18,
   "id": "df3d4a9d-8adb-4ad5-a1d8-c21c718ed0a8",
   "metadata": {},
   "outputs": [
    {
     "name": "stdout",
     "output_type": "stream",
     "text": [
      "E1001\tThomas\t1976-01-09\t2\tArchitect Group\n",
      "E1002\tJames\t1972-07-31\t5\tSoftware Group\n",
      "E1006\tAllen\t1978-02-06\t2\tArchitect Group\n",
      "E1007\tThomas\t1975-05-05\t7\tDesign Team\n"
     ]
    }
   ],
   "source": [
    "''' Same as before, but limiting our results to employees born before 1980'''\n",
    "\n",
    "left_outer_join_query_1980 = f\"SELECT E.EMP_ID, E.L_NAME, E.B_DATE, E.DEP_ID, D.DEP_NAME FROM EMPLOYEES E LEFT OUTER JOIN DEPARTMENTS D ON E.DEP_ID = D.DEPT_ID_DEP WHERE strftime('%Y', E.B_DATE) < '1980';\"\n",
    "cursor.execute(left_outer_join_query_1980)\n",
    "rows = cursor.fetchall()\n",
    "\n",
    "# Extract and print the SQL statement\n",
    "for row in rows:\n",
    "    print(\"\\t\".join(map(str,row)))"
   ]
  },
  {
   "cell_type": "code",
   "execution_count": 19,
   "id": "53df7e3f-fb72-4e11-bb25-3544b2fc7134",
   "metadata": {},
   "outputs": [
    {
     "name": "stdout",
     "output_type": "stream",
     "text": [
      "E1001\tThomas\t2\tArchitect Group\n",
      "E1002\tJames\t5\tSoftware Group\n",
      "E1003\tWells\t5\tNone\n",
      "E1004\tKumar\t5\tNone\n",
      "E1005\tHussain\t2\tNone\n",
      "E1006\tAllen\t2\tArchitect Group\n",
      "E1007\tThomas\t7\tDesign Team\n",
      "E1008\tGupta\t7\tNone\n",
      "E1009\tJones\t7\tNone\n",
      "E1010\tJacob\t5\tNone\n"
     ]
    }
   ],
   "source": [
    "''' We can use LEFT OUTER JOIN on the EMPLOYEES and DEPARTMENT tables to select employee id, last name, but to show only department id and department name for the employees born \n",
    "before 1980 (join with a condition on the right table). \n",
    "EMPLOYEES will be our left table and DEPARTMETNS our right table'''\n",
    "\n",
    "inner_join_and = f\"SELECT E.EMP_ID, E.L_NAME, E.DEP_ID, D.DEP_NAME FROM EMPLOYEES E LEFT OUTER JOIN DEPARTMENTS D ON E.DEP_ID = D.DEPT_ID_DEP AND strftime('%Y', E.B_DATE) < '1980';\"\n",
    "cursor.execute(inner_join_and)\n",
    "rows = cursor.fetchall()\n",
    "\n",
    "# Extract and print the SQL statement\n",
    "for row in rows:\n",
    "    print(\"\\t\".join(map(str,row)))"
   ]
  },
  {
   "cell_type": "markdown",
   "id": "6bf69fe5-8eb3-4112-86af-13f2af578db1",
   "metadata": {},
   "source": [
    "## Full outer join"
   ]
  },
  {
   "cell_type": "code",
   "execution_count": 20,
   "id": "2d0ad614-a8ed-4b82-8cb4-65102b6d35c5",
   "metadata": {},
   "outputs": [
    {
     "data": {
      "text/plain": [
       "'\\n* A FULL OUTER JOIN returns all rows from BOTH tables regardless of whether there is a match between the tables or not.\\n* If there is no matching row in one table, NULL values are included for columns from the other table.\\n* The result includes all rows from BOTH tables, even if there are no matches in one of the other tables.\\n'"
      ]
     },
     "execution_count": 20,
     "metadata": {},
     "output_type": "execute_result"
    }
   ],
   "source": [
    "'''\n",
    "* A FULL OUTER JOIN returns all rows from BOTH tables regardless of whether there is a match between the tables or not.\n",
    "* If there is no matching row in one table, NULL values are included for columns from the other table.\n",
    "* The result includes all rows from BOTH tables, even if there are no matches in one of the other tables.\n",
    "'''"
   ]
  },
  {
   "cell_type": "code",
   "execution_count": 21,
   "id": "2974bfcc-6a91-4718-b23c-a31aab77d2ea",
   "metadata": {},
   "outputs": [
    {
     "name": "stdout",
     "output_type": "stream",
     "text": [
      "John\tThomas\tArchitect Group\n",
      "Alice\tJames\tSoftware Group\n",
      "Steve\tWells\tSoftware Group\n",
      "Santosh\tKumar\tSoftware Group\n",
      "Ahmed\tHussain\tArchitect Group\n",
      "Nancy\tAllen\tArchitect Group\n",
      "Mary\tThomas\tDesign Team\n",
      "Bharath\tGupta\tDesign Team\n",
      "Andrea\tJones\tDesign Team\n",
      "Ann\tJacob\tSoftware Group\n"
     ]
    }
   ],
   "source": [
    "''' We can use a full outer join on the EMPLOYEES and DEPARTMENT tables to select the First Name, Last Name and Department name of all employees'''\n",
    "\n",
    "full_outer_join_query = f\"SELECT E.F_NAME, E.L_NAME, D.DEP_NAME FROM EMPLOYEES E FULL OUTER JOIN DEPARTMENTS D ON E.DEP_ID = D.DEPT_ID_DEP ;\"\n",
    "cursor.execute(full_outer_join_query)\n",
    "rows = cursor.fetchall()\n",
    "\n",
    "# Extract and print the SQL statement\n",
    "for row in rows:\n",
    "    print(\"\\t\".join(map(str,row)))"
   ]
  },
  {
   "cell_type": "code",
   "execution_count": 22,
   "id": "31becfd3-8441-4226-9824-486a025b05ab",
   "metadata": {},
   "outputs": [
    {
     "name": "stdout",
     "output_type": "stream",
     "text": [
      "John\tThomas\t2\tArchitect Group\n",
      "Alice\tJames\tNone\tNone\n",
      "Steve\tWells\t5\tSoftware Group\n",
      "Santosh\tKumar\t5\tSoftware Group\n",
      "Ahmed\tHussain\t2\tArchitect Group\n",
      "Nancy\tAllen\tNone\tNone\n",
      "Mary\tThomas\tNone\tNone\n",
      "Bharath\tGupta\t7\tDesign Team\n",
      "Andrea\tJones\tNone\tNone\n",
      "Ann\tJacob\tNone\tNone\n"
     ]
    }
   ],
   "source": [
    "''' We can use a full outer join on the EMPLOYEES and DEPARTMENT tables to select all the employee names, but only department ID and deparment Names for male employees'''\n",
    "\n",
    "full_outer_join_and_query = f\"SELECT E.F_NAME, E.L_NAME, D.DEPT_ID_DEP, D.DEP_NAME FROM EMPLOYEES E FULL OUTER JOIN DEPARTMENTS D ON E.DEP_ID = D.DEPT_ID_DEP AND E.SEX = 'M';\"\n",
    "cursor.execute(full_outer_join_and_query)\n",
    "rows = cursor.fetchall()\n",
    "\n",
    "# Extract and print the SQL statement\n",
    "for row in rows:\n",
    "    print(\"\\t\".join(map(str,row)))"
   ]
  },
  {
   "cell_type": "code",
   "execution_count": 23,
   "id": "ff365408-1cc9-4667-aaad-ed53d391cac1",
   "metadata": {},
   "outputs": [],
   "source": [
    "conn.commit()\n",
    "conn.close()"
   ]
  }
 ],
 "metadata": {
  "kernelspec": {
   "display_name": "Python 3 (ipykernel)",
   "language": "python",
   "name": "python3"
  },
  "language_info": {
   "codemirror_mode": {
    "name": "ipython",
    "version": 3
   },
   "file_extension": ".py",
   "mimetype": "text/x-python",
   "name": "python",
   "nbconvert_exporter": "python",
   "pygments_lexer": "ipython3",
   "version": "3.9.13"
  }
 },
 "nbformat": 4,
 "nbformat_minor": 5
}
