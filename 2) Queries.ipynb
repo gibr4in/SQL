{
 "cells": [
  {
   "cell_type": "code",
   "execution_count": 1,
   "id": "e388e4fe-6b04-42cd-b96e-c59c5c4adcea",
   "metadata": {},
   "outputs": [],
   "source": [
    "#Get CWD\n",
    "import os\n",
    "import csv\n",
    "import pandas as pd"
   ]
  },
  {
   "cell_type": "code",
   "execution_count": 2,
   "id": "6057e653-58e0-4219-9f16-392a24a349ec",
   "metadata": {},
   "outputs": [],
   "source": [
    "path = os.getcwd()"
   ]
  },
  {
   "cell_type": "code",
   "execution_count": 3,
   "id": "c64b3f96-bf09-4029-9354-c626f7b6328d",
   "metadata": {},
   "outputs": [
    {
     "data": {
      "text/plain": [
       "'C:\\\\Users\\\\gibra\\\\Desktop\\\\Data Science 2023\\\\Portfolio\\\\SQL\\\\SQL with Python'"
      ]
     },
     "execution_count": 3,
     "metadata": {},
     "output_type": "execute_result"
    }
   ],
   "source": [
    "path"
   ]
  },
  {
   "cell_type": "markdown",
   "id": "4f8cdc60-43c1-4325-afaa-d0ae299b65b3",
   "metadata": {},
   "source": [
    "# **Library for SQL in Python**"
   ]
  },
  {
   "cell_type": "code",
   "execution_count": 4,
   "id": "091385e2-40ba-44a4-b0a3-18fecf79b705",
   "metadata": {},
   "outputs": [],
   "source": [
    "#Import SQL\n",
    "import sqlite3"
   ]
  },
  {
   "cell_type": "code",
   "execution_count": 5,
   "id": "f4999800-b903-4166-85e8-7294035b59ab",
   "metadata": {},
   "outputs": [],
   "source": [
    "# Connect to a database (creates a new database if it doesn't exist)\n",
    "conn = sqlite3.connect('database.db')"
   ]
  },
  {
   "cell_type": "code",
   "execution_count": 6,
   "id": "3cd5c9b4-e876-4722-9bbc-b02589d64127",
   "metadata": {},
   "outputs": [],
   "source": [
    "#Create a cursor object to execute SQL statements\n",
    "cursor = conn.cursor()"
   ]
  },
  {
   "cell_type": "markdown",
   "id": "3db2c935-d3de-4339-afd9-70a1a35b44de",
   "metadata": {
    "tags": []
   },
   "source": [
    "# **SQL Queries**"
   ]
  },
  {
   "cell_type": "markdown",
   "id": "49792a4d-8161-4319-9b94-bca515b618ae",
   "metadata": {
    "tags": []
   },
   "source": [
    "## **Attributes**"
   ]
  },
  {
   "cell_type": "code",
   "execution_count": 7,
   "id": "bb0e13dc-4dbd-4c16-9110-9ebc44e4b35f",
   "metadata": {},
   "outputs": [
    {
     "data": {
      "text/plain": [
       "[('EMP_ID', 'CHAR(9)'),\n",
       " ('F_NAME', 'VARCHAR(15)'),\n",
       " ('L_NAME', 'VARCHAR(15)'),\n",
       " ('SSN', 'CHAR(9)'),\n",
       " ('B_DATE', 'DATE'),\n",
       " ('SEX', 'CHAR'),\n",
       " ('ADDRESS', 'VARCHAR(30)'),\n",
       " ('JOB_ID', 'CHAR(9)'),\n",
       " ('SALARY', 'DECIMAL(10,2)'),\n",
       " ('MANAGER_ID', 'CHAR(9)'),\n",
       " ('DEP_ID', 'CHAR(9)')]"
      ]
     },
     "execution_count": 7,
     "metadata": {},
     "output_type": "execute_result"
    }
   ],
   "source": [
    "'''This query can be used  to retrieve the attribute names of a table'''\n",
    "table_name = 'EMPLOYEES'\n",
    "query = f\"PRAGMA table_info({table_name})\"\n",
    "\n",
    "cursor.execute(query)\n",
    "columns = cursor.fetchall()\n",
    "\n",
    "# Extract attribute names\n",
    "attribute_names = [(column[1], column[2]) for column in columns]\n",
    "attribute_names"
   ]
  },
  {
   "cell_type": "code",
   "execution_count": 8,
   "id": "ab402fbf-d9b8-4294-ae04-bfd207b5a690",
   "metadata": {},
   "outputs": [
    {
     "name": "stdout",
     "output_type": "stream",
     "text": [
      "Table Definition: CREATE TABLE EMPLOYEES (\n",
      "    EMP_ID CHAR(9) NOT NULL,\n",
      "    F_NAME VARCHAR(15) NOT NULL,\n",
      "    L_NAME VARCHAR(15) NOT NULL,\n",
      "    SSN CHAR(9),\n",
      "    B_DATE DATE,\n",
      "    SEX CHAR,\n",
      "    ADDRESS VARCHAR(30),\n",
      "    JOB_ID CHAR(9),\n",
      "    SALARY DECIMAL(10,2),\n",
      "    MANAGER_ID CHAR(9),\n",
      "    DEP_ID CHAR(9) NOT NULL,\n",
      "    PRIMARY KEY (EMP_ID))\n"
     ]
    }
   ],
   "source": [
    "'''Another way is to use the sqlilte_master to find our desired table and get that table's definition'''\n",
    "query = f\"SELECT sql FROM sqlite_master WHERE type = 'table' AND name = '{table_name}';\"\n",
    "cursor.execute(query)\n",
    "result = cursor.fetchone()\n",
    "\n",
    "# Extract and print the SQL statement\n",
    "if result:\n",
    "    table_definition = result[0]\n",
    "    print(\"Table Definition:\", table_definition)\n",
    "else:\n",
    "    print(f\"Table '{table_name}' not found.\")"
   ]
  },
  {
   "cell_type": "markdown",
   "id": "909fad19-5138-4f53-acfd-4ecf9dfd68bb",
   "metadata": {
    "tags": []
   },
   "source": [
    "## **Like**"
   ]
  },
  {
   "cell_type": "code",
   "execution_count": 9,
   "id": "2a9f9316-54ad-44f4-ba5e-fdc28a9998e7",
   "metadata": {},
   "outputs": [
    {
     "name": "stdout",
     "output_type": "stream",
     "text": [
      "('E1002', 'Alice', 'James', '123457', '07/31/1972', 'F', '980 Berry ln, Elgin,IL', '200', 80000, '30002', '5')\n",
      "('E1006', 'Nancy', 'Allen', '123411', '02/06/1978', 'F', '111 Green Pl, Elgin,IL', '600', 90000, '30001', '2')\n",
      "('E1010', 'Ann', 'Jacob', '123415', '03/30/1982', 'F', '111 Britany Springs,Elgin,IL', '220', 70000, '30004', '5')\n"
     ]
    }
   ],
   "source": [
    "'''This query can be used  to retrieve employees whose address contains a certain city'''\n",
    "like_query = f\"SELECT * FROM EMPLOYEES WHERE ADDRESS LIKE '%Elgin,IL'\"\n",
    "cursor.execute(like_query)\n",
    "rows = cursor.fetchall()\n",
    "\n",
    "for row in rows:\n",
    "    print(row)"
   ]
  },
  {
   "cell_type": "code",
   "execution_count": 10,
   "id": "7971aa0c-efe9-48b6-932a-45868a2d5d3c",
   "metadata": {},
   "outputs": [
    {
     "name": "stdout",
     "output_type": "stream",
     "text": [
      "('E1001', 'John', 'Thomas', '123456', '01/09/1976', 'M', '5631 Rice, OakPark,IL', '100', 100000, '30001', '2')\n",
      "('E1002', 'Alice', 'James', '123457', '07/31/1972', 'F', '980 Berry ln, Elgin,IL', '200', 80000, '30002', '5')\n",
      "('E1006', 'Nancy', 'Allen', '123411', '02/06/1978', 'F', '111 Green Pl, Elgin,IL', '600', 90000, '30001', '2')\n",
      "('E1007', 'Mary', 'Thomas', '123412', '05/05/1975', 'F', '100 Rose Pl, Gary,IL', '650', 65000, '30003', '7')\n"
     ]
    }
   ],
   "source": [
    "'''This query can be used  to retrieve employees whose date of birth is within a certain decade'''\n",
    "like_query = f\"SELECT * FROM EMPLOYEES WHERE B_DATE LIKE '%197%'\"\n",
    "cursor.execute(like_query)\n",
    "rows = cursor.fetchall()\n",
    "\n",
    "for row in rows:\n",
    "    print(row)"
   ]
  },
  {
   "cell_type": "markdown",
   "id": "52e3eaab-d649-4842-a1f9-a2a100d9a531",
   "metadata": {},
   "source": [
    "## **Equal**"
   ]
  },
  {
   "cell_type": "code",
   "execution_count": 11,
   "id": "797af6d3-50f6-4f7c-96ee-a9603c387d07",
   "metadata": {},
   "outputs": [
    {
     "name": "stdout",
     "output_type": "stream",
     "text": [
      "('E1002', 'Alice', 'James', '123457', '07/31/1972', 'F', '980 Berry ln, Elgin,IL', '200', 80000, '30002', '5')\n",
      "('E1003', 'Steve', 'Wells', '123458', '08/10/1980', 'M', '291 Springs, Gary,IL', '300', 50000, '30002', '5')\n",
      "('E1004', 'Santosh', 'Kumar', '123459', '07/20/1985', 'M', '511 Aurora Av, Aurora,IL', '400', 60000, '30004', '5')\n",
      "('E1010', 'Ann', 'Jacob', '123415', '03/30/1982', 'F', '111 Britany Springs,Elgin,IL', '220', 70000, '30004', '5')\n"
     ]
    }
   ],
   "source": [
    "'''This query can be used  to retrieve employees whose Department ID is equal to five'''\n",
    "equal_query = f\"SELECT * FROM EMPLOYEES WHERE DEP_ID = '5'\"\n",
    "cursor.execute(equal_query)\n",
    "rows = cursor.fetchall()\n",
    "\n",
    "for row in rows:\n",
    "    print(row)"
   ]
  },
  {
   "cell_type": "markdown",
   "id": "6e05df69-1a28-4fc6-86cf-28ac93f466bb",
   "metadata": {
    "tags": []
   },
   "source": [
    "## **Range**"
   ]
  },
  {
   "cell_type": "code",
   "execution_count": 12,
   "id": "89f76d33-c706-450d-963c-d3f3b8798c4b",
   "metadata": {},
   "outputs": [
    {
     "name": "stdout",
     "output_type": "stream",
     "text": [
      "('E1004', 'Santosh', 'Kumar', '123459', '07/20/1985', 'M', '511 Aurora Av, Aurora,IL', '400', 60000, '30004', '5')\n",
      "('E1005', 'Ahmed', 'Hussain', '123410', '01/04/1981', 'M', '216 Oak Tree, Geneva,IL', '500', 70000, '30001', '2')\n",
      "('E1007', 'Mary', 'Thomas', '123412', '05/05/1975', 'F', '100 Rose Pl, Gary,IL', '650', 65000, '30003', '7')\n",
      "('E1008', 'Bharath', 'Gupta', '123413', '05/06/1985', 'M', '145 Berry Ln, Naperville,IL', '660', 65000, '30003', '7')\n",
      "('E1009', 'Andrea', 'Jones', '123414', '07/09/1990', 'F', '120 Fall Creek, Gary,IL', '234', 70000, '30003', '7')\n",
      "('E1010', 'Ann', 'Jacob', '123415', '03/30/1982', 'F', '111 Britany Springs,Elgin,IL', '220', 70000, '30004', '5')\n"
     ]
    }
   ],
   "source": [
    "'''This query can be used  to retrieve employees whose Salary is in the range between 60,000 and 70,000'''\n",
    "range_query = f\"SELECT * FROM EMPLOYEES WHERE SALARY BETWEEN 60000 AND 70000\"\n",
    "cursor.execute(range_query)\n",
    "rows = cursor.fetchall()\n",
    "\n",
    "for row in rows:\n",
    "    print(row)"
   ]
  },
  {
   "cell_type": "markdown",
   "id": "3e49b0c6-3382-4030-adaa-be65ad7b8ccd",
   "metadata": {
    "tags": []
   },
   "source": [
    "## **Equal AND Range**"
   ]
  },
  {
   "cell_type": "code",
   "execution_count": 21,
   "id": "91a359cf-c2c7-4255-8084-7c69e0e65935",
   "metadata": {},
   "outputs": [
    {
     "name": "stdout",
     "output_type": "stream",
     "text": [
      "('E1004', 'Santosh', 'Kumar', '123459', '07/20/1985', 'M', '511 Aurora Av, Aurora,IL', '400', 60000, '30004', '5')\n",
      "('E1010', 'Ann', 'Jacob', '123415', '03/30/1982', 'F', '111 Britany Springs,Elgin,IL', '220', 70000, '30004', '5')\n"
     ]
    }
   ],
   "source": [
    "'''This query can be used  to retrieve employees whose Salary is in the range between 60,000 and 70,000'''\n",
    "range_query = f\"SELECT * FROM EMPLOYEES WHERE DEP_ID = 5 AND SALARY BETWEEN 60000 AND 70000\"\n",
    "cursor.execute(range_query)\n",
    "rows = cursor.fetchall()\n",
    "\n",
    "for row in rows:\n",
    "    print(row)"
   ]
  },
  {
   "cell_type": "markdown",
   "id": "6aeb4412-dc50-4289-a2f8-bc73addf6b51",
   "metadata": {},
   "source": [
    "## **Order**"
   ]
  },
  {
   "cell_type": "code",
   "execution_count": 13,
   "id": "20bf5180-e588-49f0-bb9e-684f73cfcfac",
   "metadata": {},
   "outputs": [
    {
     "name": "stdout",
     "output_type": "stream",
     "text": [
      "('E1001', 'John', 'Thomas', '123456', '01/09/1976', 'M', '5631 Rice, OakPark,IL', '100', 100000, '30001', '2')\n",
      "('E1005', 'Ahmed', 'Hussain', '123410', '01/04/1981', 'M', '216 Oak Tree, Geneva,IL', '500', 70000, '30001', '2')\n",
      "('E1006', 'Nancy', 'Allen', '123411', '02/06/1978', 'F', '111 Green Pl, Elgin,IL', '600', 90000, '30001', '2')\n",
      "('E1002', 'Alice', 'James', '123457', '07/31/1972', 'F', '980 Berry ln, Elgin,IL', '200', 80000, '30002', '5')\n",
      "('E1003', 'Steve', 'Wells', '123458', '08/10/1980', 'M', '291 Springs, Gary,IL', '300', 50000, '30002', '5')\n",
      "('E1004', 'Santosh', 'Kumar', '123459', '07/20/1985', 'M', '511 Aurora Av, Aurora,IL', '400', 60000, '30004', '5')\n",
      "('E1010', 'Ann', 'Jacob', '123415', '03/30/1982', 'F', '111 Britany Springs,Elgin,IL', '220', 70000, '30004', '5')\n",
      "('E1007', 'Mary', 'Thomas', '123412', '05/05/1975', 'F', '100 Rose Pl, Gary,IL', '650', 65000, '30003', '7')\n",
      "('E1008', 'Bharath', 'Gupta', '123413', '05/06/1985', 'M', '145 Berry Ln, Naperville,IL', '660', 65000, '30003', '7')\n",
      "('E1009', 'Andrea', 'Jones', '123414', '07/09/1990', 'F', '120 Fall Creek, Gary,IL', '234', 70000, '30003', '7')\n"
     ]
    }
   ],
   "source": [
    "'''This query can be used  to retrieve employees ordered by department ID (ascending)'''\n",
    "order_query = f\"SELECT * FROM EMPLOYEES ORDER BY DEP_ID\"\n",
    "cursor.execute(order_query)\n",
    "rows = cursor.fetchall()\n",
    "\n",
    "for row in rows:\n",
    "    print(row)"
   ]
  },
  {
   "cell_type": "code",
   "execution_count": 14,
   "id": "128b2d18-7198-4ab2-a6fe-ed92910105ef",
   "metadata": {},
   "outputs": [
    {
     "name": "stdout",
     "output_type": "stream",
     "text": [
      "('E1007', 'Mary', 'Thomas', '123412', '05/05/1975', 'F', '100 Rose Pl, Gary,IL', '650', 65000, '30003', '7')\n",
      "('E1008', 'Bharath', 'Gupta', '123413', '05/06/1985', 'M', '145 Berry Ln, Naperville,IL', '660', 65000, '30003', '7')\n",
      "('E1009', 'Andrea', 'Jones', '123414', '07/09/1990', 'F', '120 Fall Creek, Gary,IL', '234', 70000, '30003', '7')\n",
      "('E1002', 'Alice', 'James', '123457', '07/31/1972', 'F', '980 Berry ln, Elgin,IL', '200', 80000, '30002', '5')\n",
      "('E1003', 'Steve', 'Wells', '123458', '08/10/1980', 'M', '291 Springs, Gary,IL', '300', 50000, '30002', '5')\n",
      "('E1004', 'Santosh', 'Kumar', '123459', '07/20/1985', 'M', '511 Aurora Av, Aurora,IL', '400', 60000, '30004', '5')\n",
      "('E1010', 'Ann', 'Jacob', '123415', '03/30/1982', 'F', '111 Britany Springs,Elgin,IL', '220', 70000, '30004', '5')\n",
      "('E1001', 'John', 'Thomas', '123456', '01/09/1976', 'M', '5631 Rice, OakPark,IL', '100', 100000, '30001', '2')\n",
      "('E1005', 'Ahmed', 'Hussain', '123410', '01/04/1981', 'M', '216 Oak Tree, Geneva,IL', '500', 70000, '30001', '2')\n",
      "('E1006', 'Nancy', 'Allen', '123411', '02/06/1978', 'F', '111 Green Pl, Elgin,IL', '600', 90000, '30001', '2')\n"
     ]
    }
   ],
   "source": [
    "'''This query can be used  to retrieve employees ordered by department ID (descending)'''\n",
    "order_query_desc = f\"SELECT * FROM EMPLOYEES ORDER BY DEP_ID DESC\"\n",
    "cursor.execute(order_query_desc)\n",
    "rows = cursor.fetchall()\n",
    "\n",
    "for row in rows:\n",
    "    print(row)"
   ]
  },
  {
   "cell_type": "code",
   "execution_count": 15,
   "id": "3ef5f25e-b3a0-400f-9944-a89e5ac34869",
   "metadata": {},
   "outputs": [
    {
     "name": "stdout",
     "output_type": "stream",
     "text": [
      "('E1007', 'Mary', 'Thomas', '123412', '05/05/1975', 'F', '100 Rose Pl, Gary,IL', '650', 65000, '30003', '7')\n",
      "('E1009', 'Andrea', 'Jones', '123414', '07/09/1990', 'F', '120 Fall Creek, Gary,IL', '234', 70000, '30003', '7')\n",
      "('E1008', 'Bharath', 'Gupta', '123413', '05/06/1985', 'M', '145 Berry Ln, Naperville,IL', '660', 65000, '30003', '7')\n",
      "('E1003', 'Steve', 'Wells', '123458', '08/10/1980', 'M', '291 Springs, Gary,IL', '300', 50000, '30002', '5')\n",
      "('E1004', 'Santosh', 'Kumar', '123459', '07/20/1985', 'M', '511 Aurora Av, Aurora,IL', '400', 60000, '30004', '5')\n",
      "('E1002', 'Alice', 'James', '123457', '07/31/1972', 'F', '980 Berry ln, Elgin,IL', '200', 80000, '30002', '5')\n",
      "('E1010', 'Ann', 'Jacob', '123415', '03/30/1982', 'F', '111 Britany Springs,Elgin,IL', '220', 70000, '30004', '5')\n",
      "('E1001', 'John', 'Thomas', '123456', '01/09/1976', 'M', '5631 Rice, OakPark,IL', '100', 100000, '30001', '2')\n",
      "('E1005', 'Ahmed', 'Hussain', '123410', '01/04/1981', 'M', '216 Oak Tree, Geneva,IL', '500', 70000, '30001', '2')\n",
      "('E1006', 'Nancy', 'Allen', '123411', '02/06/1978', 'F', '111 Green Pl, Elgin,IL', '600', 90000, '30001', '2')\n"
     ]
    }
   ],
   "source": [
    "'''This query can be used  to retrieve employees ordered by department ID, ad within that department ID, order in descending order by last name'''\n",
    "order_query_mult = f\"SELECT * FROM EMPLOYEES ORDER BY DEP_ID DESC, L_NAME DESC\"\n",
    "cursor.execute(order_query_mult)\n",
    "rows = cursor.fetchall()\n",
    "\n",
    "for row in rows:\n",
    "    print(row)"
   ]
  },
  {
   "cell_type": "markdown",
   "id": "1f2778ff-72a0-43fb-9d36-b3876baa38a5",
   "metadata": {},
   "source": [
    "## **Group By**"
   ]
  },
  {
   "cell_type": "markdown",
   "id": "ca76c46b-5830-4c21-8ef3-997941ef3b9e",
   "metadata": {},
   "source": [
    "### **Count**"
   ]
  },
  {
   "cell_type": "code",
   "execution_count": 16,
   "id": "0d757f90-a615-436e-9686-fb65209b819f",
   "metadata": {},
   "outputs": [
    {
     "name": "stdout",
     "output_type": "stream",
     "text": [
      "('2', 3)\n",
      "('5', 4)\n",
      "('7', 3)\n"
     ]
    }
   ],
   "source": [
    "'''This query counts the number of IDs in the department ID column (total count of a column=10), and then groups them by Department ID \n",
    "total count of dep_ID 2 = 3, total count of dept_ID 5 = 4, .... 3)'''\n",
    "\n",
    "groupby_count_query = f\"SELECT DEP_ID, COUNT(DEP_ID) FROM EMPLOYEES GROUP BY DEP_ID\"\n",
    "cursor.execute(groupby_count_query)\n",
    "rows = cursor.fetchall()\n",
    "\n",
    "for row in rows:\n",
    "    print(row)"
   ]
  },
  {
   "cell_type": "markdown",
   "id": "59f47927-e321-4345-80ef-6f16cf8e4ba0",
   "metadata": {},
   "source": [
    "### **Average**"
   ]
  },
  {
   "cell_type": "code",
   "execution_count": 17,
   "id": "0064e90c-a7af-4fe8-8feb-89e29c7e42dc",
   "metadata": {},
   "outputs": [
    {
     "name": "stdout",
     "output_type": "stream",
     "text": [
      "Department ID: 2, Employee Count: 3, Average Salary: 86666.67\n",
      "Department ID: 5, Employee Count: 4, Average Salary: 65000.00\n",
      "Department ID: 7, Employee Count: 3, Average Salary: 66666.67\n"
     ]
    }
   ],
   "source": [
    "'''This query counts the number of IDs in the department ID column (total count of a column=10), and then groups them by Department ID \n",
    "total count of dep_ID 2 = 3, total count of dept_ID 5 = 4, .... 3), AND SAME PROCESS FOR AVERAGE'''\n",
    "\n",
    "groupby_avg_query = f\"SELECT DEP_ID, COUNT(DEP_ID), AVG(SALARY) FROM EMPLOYEES GROUP BY DEP_ID\"\n",
    "cursor.execute(groupby_avg_query)\n",
    "rows = cursor.fetchall()\n",
    "\n",
    "for row in rows:\n",
    "    dep_id, employee_count, avg_salary = row\n",
    "    print(f\"Department ID: {dep_id}, Employee Count: {employee_count}, Average Salary: {avg_salary:.2f}\")"
   ]
  },
  {
   "cell_type": "markdown",
   "id": "eb489c05-8735-4c4e-b3de-e0ced70880f1",
   "metadata": {
    "tags": []
   },
   "source": [
    "### **Labeling**"
   ]
  },
  {
   "cell_type": "markdown",
   "id": "312fa9d6-19d2-4119-bc63-772cccb1f649",
   "metadata": {},
   "source": [
    "#### **AS**"
   ]
  },
  {
   "cell_type": "code",
   "execution_count": 18,
   "id": "da46f770-7bdd-4327-a1d0-a507068c41bd",
   "metadata": {},
   "outputs": [
    {
     "name": "stdout",
     "output_type": "stream",
     "text": [
      "('2', 3, 86666.66666666667)\n",
      "('5', 4, 65000.0)\n",
      "('7', 3, 66666.66666666667)\n"
     ]
    }
   ],
   "source": [
    "'''This query counts the number of IDs in the department ID column (total count of a column=10), and then groups them by Department ID \n",
    "total count of dep_ID 2 = 3, total count of dept_ID 5 = 4, .... 3), AND SAME PROCESS FOR AVERAGE\n",
    "THEN it labels the newly created columns as NUM_EMPLOYEES and AVG_SALARY respectively'''\n",
    "\n",
    "label_query = f'''SELECT DEP_ID, COUNT(DEP_ID) AS \"NUM_EMPLOYEES\", AVG(SALARY) AS \"AVG_SALARY\" FROM EMPLOYEES GROUP BY DEP_ID'''\n",
    "cursor.execute(label_query)\n",
    "rows = cursor.fetchall()\n",
    "\n",
    "for row in rows:\n",
    "    print(row)"
   ]
  },
  {
   "cell_type": "markdown",
   "id": "fe841c0f-0170-45bd-bbc1-7faadbf8aaf8",
   "metadata": {},
   "source": [
    "#### **Using the labels**"
   ]
  },
  {
   "cell_type": "code",
   "execution_count": 19,
   "id": "03e000bc-c2f5-41f5-b6a3-65dcfefaf5ba",
   "metadata": {},
   "outputs": [
    {
     "name": "stdout",
     "output_type": "stream",
     "text": [
      "('5', 4, 65000.0)\n",
      "('7', 3, 66666.66666666667)\n",
      "('2', 3, 86666.66666666667)\n"
     ]
    }
   ],
   "source": [
    "'''This query uses the newly created label to order the just calculated average salary'''\n",
    "\n",
    "use_label_query = f'''SELECT DEP_ID, count(DEP_ID), AVG(SALARY) AS \"AVG_SALARY\" FROM EMPLOYEES GROUP BY DEP_ID ORDER BY AVG_SALARY'''\n",
    "cursor.execute(use_label_query)\n",
    "rows = cursor.fetchall()\n",
    "\n",
    "for row in rows:\n",
    "    print(row)"
   ]
  },
  {
   "cell_type": "markdown",
   "id": "d5c9f600-1b74-4134-810b-82ddf09ef3a8",
   "metadata": {},
   "source": [
    "### **Having**"
   ]
  },
  {
   "cell_type": "code",
   "execution_count": 23,
   "id": "9810afd2-08ea-4ba4-ac9a-83c051dba879",
   "metadata": {},
   "outputs": [
    {
     "name": "stdout",
     "output_type": "stream",
     "text": [
      "('7', 3, 66666.66666666667)\n",
      "('2', 3, 86666.66666666667)\n"
     ]
    }
   ],
   "source": [
    "'''This query adds a condition to a previously grouped by information. In this case, show the dep id for departments with avg salary higher than 65000'''\n",
    "\n",
    "having_groupby_query = f'''\n",
    "SELECT DEP_ID, count(DEP_ID) AS \"NUM_EMPLOYEES\", AVG(SALARY) AS \"AVG_SALARY\" \n",
    "FROM EMPLOYEES \n",
    "GROUP BY DEP_ID \n",
    "HAVING AVG_SALARY > 65000 \n",
    "ORDER BY AVG_SALARY'''\n",
    "\n",
    "cursor.execute(having_groupby_query)\n",
    "rows = cursor.fetchall()\n",
    "\n",
    "for row in rows:\n",
    "    print(row)"
   ]
  }
 ],
 "metadata": {
  "kernelspec": {
   "display_name": "Python 3 (ipykernel)",
   "language": "python",
   "name": "python3"
  },
  "language_info": {
   "codemirror_mode": {
    "name": "ipython",
    "version": 3
   },
   "file_extension": ".py",
   "mimetype": "text/x-python",
   "name": "python",
   "nbconvert_exporter": "python",
   "pygments_lexer": "ipython3",
   "version": "3.9.13"
  }
 },
 "nbformat": 4,
 "nbformat_minor": 5
}
