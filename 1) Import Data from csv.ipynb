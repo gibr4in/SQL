{
 "cells": [
  {
   "cell_type": "code",
   "execution_count": 1,
   "id": "75865bb8-9478-45b5-9723-1a2a07cc32f4",
   "metadata": {},
   "outputs": [],
   "source": [
    "#Get CWD\n",
    "import os\n",
    "import csv\n",
    "import pandas as pd"
   ]
  },
  {
   "cell_type": "code",
   "execution_count": 2,
   "id": "d6c6cd1f-7207-473e-9880-1a7cdbaea9f1",
   "metadata": {},
   "outputs": [],
   "source": [
    "path = os.getcwd()"
   ]
  },
  {
   "cell_type": "code",
   "execution_count": 3,
   "id": "d79f731d-da67-4f62-b5a0-bc1a71f8c342",
   "metadata": {},
   "outputs": [
    {
     "data": {
      "text/plain": [
       "'C:\\\\Users\\\\gibra\\\\Desktop\\\\Data Science 2023\\\\Portfolio\\\\SQL\\\\SQL with Python'"
      ]
     },
     "execution_count": 3,
     "metadata": {},
     "output_type": "execute_result"
    }
   ],
   "source": [
    "path"
   ]
  },
  {
   "cell_type": "markdown",
   "id": "66839b6b-b363-41b5-9ff2-d3e4721791fb",
   "metadata": {},
   "source": [
    "# **Library for SQL in Python**"
   ]
  },
  {
   "cell_type": "code",
   "execution_count": 4,
   "id": "243b62ee-7693-4f9b-841b-ab65c5137670",
   "metadata": {},
   "outputs": [],
   "source": [
    "#Import SQL\n",
    "import sqlite3"
   ]
  },
  {
   "cell_type": "code",
   "execution_count": 5,
   "id": "2f0d6de1-2d2c-40eb-b3c0-954186a20b48",
   "metadata": {},
   "outputs": [],
   "source": [
    "# Connect to a database (creates a new database if it doesn't exist)\n",
    "conn = sqlite3.connect('database.db')"
   ]
  },
  {
   "cell_type": "code",
   "execution_count": 6,
   "id": "e43efd8c-3dc9-43e6-bd82-ebd1708f1ea7",
   "metadata": {},
   "outputs": [],
   "source": [
    "#Create a cursor object to execute SQL statements\n",
    "cursor = conn.cursor()"
   ]
  },
  {
   "cell_type": "code",
   "execution_count": 7,
   "id": "db4e8acd-59d3-4081-bd2d-a981a5ac2283",
   "metadata": {},
   "outputs": [],
   "source": [
    "#cursor.execute('''drop table EMPLOYEES''')"
   ]
  },
  {
   "cell_type": "markdown",
   "id": "2a13e046-a8bc-4939-9180-6ce090355e4a",
   "metadata": {},
   "source": [
    "# **CREATE** a table"
   ]
  },
  {
   "cell_type": "code",
   "execution_count": 8,
   "id": "134513ea-805b-4927-9691-278be2d5006a",
   "metadata": {},
   "outputs": [],
   "source": [
    "# Let's assume that HR has an excel data base of all the employees in the company\n",
    "# With information on Employees.\n",
    "# First we create a table with the attributes that we can find in the excel sheets."
   ]
  },
  {
   "cell_type": "code",
   "execution_count": 9,
   "id": "9daa85aa-e919-4a46-87fd-af13cbb5f47a",
   "metadata": {},
   "outputs": [
    {
     "data": {
      "text/plain": [
       "<sqlite3.Cursor at 0x1c9013a2420>"
      ]
     },
     "execution_count": 9,
     "metadata": {},
     "output_type": "execute_result"
    }
   ],
   "source": [
    "# The excel with information of employees has 11 different attributes, so we create a table with the same number of attributes and the same type of\n",
    "# attribute as in the excel sheet\n",
    "\n",
    "cursor.execute('''CREATE TABLE EMPLOYEES (\n",
    "    EMP_ID CHAR(9) NOT NULL,\n",
    "    F_NAME VARCHAR(15) NOT NULL,\n",
    "    L_NAME VARCHAR(15) NOT NULL,\n",
    "    SSN CHAR(9),\n",
    "    B_DATE DATE,\n",
    "    SEX CHAR,\n",
    "    ADDRESS VARCHAR(30),\n",
    "    JOB_ID CHAR(9),\n",
    "    SALARY DECIMAL(10,2),\n",
    "    MANAGER_ID CHAR(9),\n",
    "    DEP_ID CHAR(9) NOT NULL,\n",
    "    PRIMARY KEY (EMP_ID))''')"
   ]
  },
  {
   "cell_type": "markdown",
   "id": "fdaf01d4-e0b5-4682-b017-e5ea3583d80a",
   "metadata": {},
   "source": [
    "# **INSERT** data from a csv/excel/etc file"
   ]
  },
  {
   "cell_type": "code",
   "execution_count": 10,
   "id": "2948a797-f0d6-4806-825d-cfecdcc36bd2",
   "metadata": {},
   "outputs": [],
   "source": [
    "csv_file = path + '//Data//Employees.csv'"
   ]
  },
  {
   "cell_type": "code",
   "execution_count": 11,
   "id": "4e466c88-715a-458a-850c-55a10eb98269",
   "metadata": {},
   "outputs": [],
   "source": [
    "# Get attribute names of a table\n",
    "table_name = 'EMPLOYEES'\n",
    "query = f\"PRAGMA table_info({table_name})\"\n",
    "\n",
    "cursor.execute(query)\n",
    "columns = cursor.fetchall()\n",
    "\n",
    "# Extract attribute names\n",
    "attribute_names = [column[1] for column in columns]"
   ]
  },
  {
   "cell_type": "code",
   "execution_count": 12,
   "id": "29eec563-3985-4653-882e-2819799de117",
   "metadata": {},
   "outputs": [
    {
     "data": {
      "text/plain": [
       "['EMP_ID',\n",
       " 'F_NAME',\n",
       " 'L_NAME',\n",
       " 'SSN',\n",
       " 'B_DATE',\n",
       " 'SEX',\n",
       " 'ADDRESS',\n",
       " 'JOB_ID',\n",
       " 'SALARY',\n",
       " 'MANAGER_ID',\n",
       " 'DEP_ID']"
      ]
     },
     "execution_count": 12,
     "metadata": {},
     "output_type": "execute_result"
    }
   ],
   "source": [
    "attribute_names"
   ]
  },
  {
   "cell_type": "code",
   "execution_count": 13,
   "id": "b5c474df-5bc8-4f6c-8b05-3872042a3b54",
   "metadata": {},
   "outputs": [],
   "source": [
    "columns = ', '.join(attribute_names)\n",
    "placeholders = ', '.join(['?'] * len(attribute_names))"
   ]
  },
  {
   "cell_type": "code",
   "execution_count": 14,
   "id": "f20b0d9b-7f58-4ab0-8fb6-7000b30f291e",
   "metadata": {},
   "outputs": [],
   "source": [
    "#Insert every row in our excel file \n",
    "with open(csv_file, 'r') as file:\n",
    "    csv_data = csv.reader(file)\n",
    "\n",
    "    insert_query = f'''insert into EMPLOYEES ({columns}) values ({placeholders})'''\n",
    "    cursor.executemany(insert_query, csv_data)\n"
   ]
  },
  {
   "cell_type": "code",
   "execution_count": 15,
   "id": "e5d8f571-c6fb-4d09-b81d-c3e1561a312a",
   "metadata": {},
   "outputs": [
    {
     "name": "stdout",
     "output_type": "stream",
     "text": [
      "('E1001', 'John', 'Thomas', '123456', '01/09/1976', 'M', '5631 Rice, OakPark,IL', '100', 100000, '30001', '2')\n",
      "('E1002', 'Alice', 'James', '123457', '07/31/1972', 'F', '980 Berry ln, Elgin,IL', '200', 80000, '30002', '5')\n",
      "('E1003', 'Steve', 'Wells', '123458', '08/10/1980', 'M', '291 Springs, Gary,IL', '300', 50000, '30002', '5')\n",
      "('E1004', 'Santosh', 'Kumar', '123459', '07/20/1985', 'M', '511 Aurora Av, Aurora,IL', '400', 60000, '30004', '5')\n",
      "('E1005', 'Ahmed', 'Hussain', '123410', '01/04/1981', 'M', '216 Oak Tree, Geneva,IL', '500', 70000, '30001', '2')\n",
      "('E1006', 'Nancy', 'Allen', '123411', '02/06/1978', 'F', '111 Green Pl, Elgin,IL', '600', 90000, '30001', '2')\n",
      "('E1007', 'Mary', 'Thomas', '123412', '05/05/1975', 'F', '100 Rose Pl, Gary,IL', '650', 65000, '30003', '7')\n",
      "('E1008', 'Bharath', 'Gupta', '123413', '05/06/1985', 'M', '145 Berry Ln, Naperville,IL', '660', 65000, '30003', '7')\n",
      "('E1009', 'Andrea', 'Jones', '123414', '07/09/1990', 'F', '120 Fall Creek, Gary,IL', '234', 70000, '30003', '7')\n",
      "('E1010', 'Ann', 'Jacob', '123415', '03/30/1982', 'F', '111 Britany Springs,Elgin,IL', '220', 70000, '30004', '5')\n"
     ]
    }
   ],
   "source": [
    "all_query = \"select * from EMPLOYEES\" \n",
    "cursor.execute(all_query)\n",
    "rows = cursor.fetchall()\n",
    "for row in rows:\n",
    "    print(row)"
   ]
  },
  {
   "cell_type": "markdown",
   "id": "9a55c80c-393c-4787-8bd7-4a2cdf7daec8",
   "metadata": {},
   "source": [
    "# **FUNCTION** TO ADD EXCEL DATABASE TO A SQL TABLE"
   ]
  },
  {
   "cell_type": "code",
   "execution_count": 36,
   "id": "490ac6b7-1c5b-4c68-9b7e-7b0f1a02f159",
   "metadata": {},
   "outputs": [],
   "source": [
    "def fill_sql_table(table_name, csv_file):\n",
    "    '''Function that receives a string with the SQL table name and a path to a csv file in string format'''\n",
    "    \n",
    "    # Get attribute names of a table\n",
    "    query = f\"PRAGMA table_info({table_name})\"\n",
    "\n",
    "    cursor.execute(query)\n",
    "    columns = cursor.fetchall()\n",
    "\n",
    "    # Extract attribute names\n",
    "    attribute_names = [column[1] for column in columns]\n",
    "\n",
    "    # Get the column names of our tables and save them in a list split by commas\n",
    "    columns = ', '.join(attribute_names)\n",
    "    #create the placeholders for the fill querry i.e. (?,?,?,?)\n",
    "    placeholders = ', '.join(['?'] * len(attribute_names))\n",
    "    \n",
    "    #Insert every row in our excel file \n",
    "    with open(csv_file, 'r') as file:\n",
    "        csv_data = csv.reader(file)\n",
    "\n",
    "        insert_query = f'''insert into {table_name} ({columns}) values ({placeholders})'''\n",
    "        \n",
    "        try:\n",
    "            cursor.executemany(insert_query, csv_data)\n",
    "        \n",
    "        except sqlite3.IntegrityError:\n",
    "            print(f\"IntegrityError: UNIQUE constraint failed. The ID Column does not have UNIQUE values, the filling process was interrupted.\")        "
   ]
  },
  {
   "cell_type": "markdown",
   "id": "8c25d705-d609-4958-95b7-b5a134ad44cc",
   "metadata": {},
   "source": [
    "# **FUNCTION** to read all the sql table"
   ]
  },
  {
   "cell_type": "code",
   "execution_count": 17,
   "id": "c58ef6ea-4296-47ea-883f-bb9e1c597488",
   "metadata": {},
   "outputs": [],
   "source": [
    "def read_sql_table(table_name):\n",
    "    all_query = f\"select * from {table_name}\" \n",
    "    cursor.execute(all_query)\n",
    "    rows = cursor.fetchall()\n",
    "    for row in rows:\n",
    "        print(row)"
   ]
  },
  {
   "cell_type": "markdown",
   "id": "085423a8-468d-416f-a11c-1e7a347e9fa4",
   "metadata": {},
   "source": [
    "## *Create & Fill Job History table*"
   ]
  },
  {
   "cell_type": "code",
   "execution_count": 18,
   "id": "0fafd325-9423-465f-8d0c-49911714b9b4",
   "metadata": {},
   "outputs": [
    {
     "data": {
      "text/plain": [
       "<sqlite3.Cursor at 0x1c9013a2420>"
      ]
     },
     "execution_count": 18,
     "metadata": {},
     "output_type": "execute_result"
    }
   ],
   "source": [
    "cursor.execute('''CREATE TABLE JOB_HISTORY (\n",
    "                  EMPL_ID CHAR(9) NOT NULL,\n",
    "                  START_DATE DATE,\n",
    "                  JOBS_ID CHAR(9) NOT NULL,\n",
    "                  DEPT_ID CHAR(9),\n",
    "                  PRIMARY KEY (\n",
    "                  EMPL_ID,JOBS_ID))''')"
   ]
  },
  {
   "cell_type": "code",
   "execution_count": 19,
   "id": "eec15020-b39d-40d6-bee1-741556c42976",
   "metadata": {},
   "outputs": [],
   "source": [
    "csv_path = path + '\\\\Data\\\\JobsHistory.csv'"
   ]
  },
  {
   "cell_type": "code",
   "execution_count": 20,
   "id": "a9c291d1-a2e5-4a8b-8c13-2445ed1b6310",
   "metadata": {},
   "outputs": [],
   "source": [
    "#cursor.execute('''drop table JOB_HISTORY''')"
   ]
  },
  {
   "cell_type": "code",
   "execution_count": 21,
   "id": "ad2107cf-4a8e-4db2-b524-6506ce4042df",
   "metadata": {},
   "outputs": [],
   "source": [
    "fill_sql_table('JOB_HISTORY', csv_path)"
   ]
  },
  {
   "cell_type": "code",
   "execution_count": 22,
   "id": "745919d2-5545-48e2-a963-2fbe2598b624",
   "metadata": {},
   "outputs": [
    {
     "name": "stdout",
     "output_type": "stream",
     "text": [
      "('E1001', '08/01/2000', '100', '2')\n",
      "('E1002', '08/01/2001', '200', '5')\n",
      "('E1003', '08/16/2001', '300', '5')\n",
      "('E1004', '08/16/2000', '400', '5')\n",
      "('E1005', '05/30/2000', '500', '2')\n",
      "('E1006', '08/16/2001', '600', '2')\n",
      "('E1007', '05/30/2002', '650', '7')\n",
      "('E1008', '05/06/2010', '660', '7')\n",
      "('E1009', '08/16/2016', '234', '7')\n",
      "('E1010', '08/16/2016', '220', '5')\n"
     ]
    }
   ],
   "source": [
    "read_sql_table('JOB_HISTORY')"
   ]
  },
  {
   "cell_type": "markdown",
   "id": "6947ee38-e4a2-4078-9511-c2bd9490b7cc",
   "metadata": {
    "tags": []
   },
   "source": [
    "## *Create & fill Jobs table*"
   ]
  },
  {
   "cell_type": "code",
   "execution_count": 23,
   "id": "1b9ab09c-eeaa-4cb9-ac16-118fa04c6756",
   "metadata": {},
   "outputs": [
    {
     "data": {
      "text/plain": [
       "<sqlite3.Cursor at 0x1c9013a2420>"
      ]
     },
     "execution_count": 23,
     "metadata": {},
     "output_type": "execute_result"
    }
   ],
   "source": [
    "cursor.execute('''CREATE TABLE JOBS (\n",
    "                  JOB_IDENT CHAR(9) NOT NULL,\n",
    "                  JOB_TITLE VARCHAR(15) ,\n",
    "                  MIN_SALARY DECIMAL(10,2),\n",
    "                  MAX_SALARY DECIMAL(10,2),\n",
    "                  PRIMARY KEY (JOB_IDENT))''')"
   ]
  },
  {
   "cell_type": "code",
   "execution_count": 24,
   "id": "303b390f-4d78-4ecd-b6da-023254610422",
   "metadata": {},
   "outputs": [],
   "source": [
    "csv_path = path + '\\\\Data\\\\Jobs.csv'"
   ]
  },
  {
   "cell_type": "code",
   "execution_count": 25,
   "id": "37baf1d1-37f5-4753-9f2a-bd18482f9fbf",
   "metadata": {},
   "outputs": [],
   "source": [
    "fill_sql_table('JOBS', csv_path)"
   ]
  },
  {
   "cell_type": "code",
   "execution_count": 26,
   "id": "b9eec5e3-9792-42e7-af61-511968663096",
   "metadata": {},
   "outputs": [
    {
     "name": "stdout",
     "output_type": "stream",
     "text": [
      "('100', 'Sr. Architect', 60000, 100000)\n",
      "('200', 'Sr. Software Developer', 60000, 80000)\n",
      "('300', 'Jr.Software Developer', 40000, 60000)\n",
      "('400', 'Jr.Software Developer', 40000, 60000)\n",
      "('500', 'Jr. Architect', 50000, 70000)\n",
      "('600', 'Lead Architect', 70000, 100000)\n",
      "('650', 'Jr. Designer', 60000, 70000)\n",
      "('660', 'Jr. Designer', 60000, 70000)\n",
      "('234', 'Sr. Designer', 70000, 90000)\n",
      "('220', 'Sr. Designer', 70000, 90000)\n"
     ]
    }
   ],
   "source": [
    "read_sql_table('JOBS')"
   ]
  },
  {
   "cell_type": "markdown",
   "id": "c9dfe327-6b31-4e79-8c88-779aaacea4b4",
   "metadata": {
    "tags": []
   },
   "source": [
    "## *Create & fill Departments & Locations table*"
   ]
  },
  {
   "cell_type": "code",
   "execution_count": 27,
   "id": "94c5eee1-be14-4a03-94ff-89f993095d3a",
   "metadata": {},
   "outputs": [
    {
     "data": {
      "text/plain": [
       "<sqlite3.Cursor at 0x1c9013a2420>"
      ]
     },
     "execution_count": 27,
     "metadata": {},
     "output_type": "execute_result"
    }
   ],
   "source": [
    "cursor.execute('''CREATE TABLE DEPARTMENTS (\n",
    "                  DEPT_ID_DEP CHAR(9) NOT NULL,\n",
    "                  DEP_NAME VARCHAR(15) ,\n",
    "                  MANAGER_ID CHAR(9),\n",
    "                  LOC_ID CHAR(9),\n",
    "                  PRIMARY KEY (DEPT_ID_DEP))''')"
   ]
  },
  {
   "cell_type": "code",
   "execution_count": 28,
   "id": "6d89a2ba-b617-4a33-9dbb-70ca3bad137a",
   "metadata": {},
   "outputs": [
    {
     "data": {
      "text/plain": [
       "<sqlite3.Cursor at 0x1c9013a2420>"
      ]
     },
     "execution_count": 28,
     "metadata": {},
     "output_type": "execute_result"
    }
   ],
   "source": [
    "cursor.execute('''CREATE TABLE LOCATIONS (\n",
    "                  LOCT_ID CHAR(9) NOT NULL,\n",
    "                  DEP_ID_LOC CHAR(9) NOT NULL,\n",
    "                  PRIMARY KEY (\n",
    "                  LOCT_ID,DEP_ID_LOC))''')"
   ]
  },
  {
   "cell_type": "code",
   "execution_count": 29,
   "id": "a2082efc-778f-4ecc-857a-48bccaf769c4",
   "metadata": {},
   "outputs": [],
   "source": [
    "fill_sql_table('LOCATIONS', path + '\\\\Data\\\\Locations.csv')"
   ]
  },
  {
   "cell_type": "code",
   "execution_count": 30,
   "id": "889dd9c5-e446-4ab5-8f70-794d4b99cbc7",
   "metadata": {},
   "outputs": [
    {
     "name": "stdout",
     "output_type": "stream",
     "text": [
      "('L0001', '2')\n",
      "('L0002', '5')\n",
      "('L0003', '7')\n"
     ]
    }
   ],
   "source": [
    "read_sql_table('LOCATIONS')"
   ]
  },
  {
   "cell_type": "code",
   "execution_count": 37,
   "id": "056dea7b-ba1e-47fe-b0dc-05d68f6769e7",
   "metadata": {},
   "outputs": [
    {
     "name": "stdout",
     "output_type": "stream",
     "text": [
      "IntegrityError: UNIQUE constraint failed. The ID Column does not have UNIQUE values, the filling process was interrupted.\n"
     ]
    }
   ],
   "source": [
    "fill_sql_table('DEPARTMENTS', path + '\\\\Data\\\\Departments.csv')"
   ]
  },
  {
   "cell_type": "code",
   "execution_count": 38,
   "id": "e1c33290-4b79-4a42-be94-aa9b0e12c9e6",
   "metadata": {},
   "outputs": [
    {
     "name": "stdout",
     "output_type": "stream",
     "text": [
      "('2', 'Architect Group', '30001', 'L0001')\n",
      "('5', 'Software Group', '30002', 'L0002')\n",
      "('7', 'Design Team', '30003', 'L0003')\n"
     ]
    }
   ],
   "source": [
    "read_sql_table('DEPARTMENTS')"
   ]
  },
  {
   "cell_type": "code",
   "execution_count": 42,
   "id": "ff5aa5d3-3a58-47ce-95b0-19deb8650b24",
   "metadata": {},
   "outputs": [],
   "source": [
    "dept = pd.read_csv(path + '\\\\Data\\\\Departments.csv', header=None)"
   ]
  },
  {
   "cell_type": "code",
   "execution_count": 43,
   "id": "09ac7e33-7594-4ff4-95f2-3b705640f96a",
   "metadata": {},
   "outputs": [
    {
     "data": {
      "text/html": [
       "<div>\n",
       "<style scoped>\n",
       "    .dataframe tbody tr th:only-of-type {\n",
       "        vertical-align: middle;\n",
       "    }\n",
       "\n",
       "    .dataframe tbody tr th {\n",
       "        vertical-align: top;\n",
       "    }\n",
       "\n",
       "    .dataframe thead th {\n",
       "        text-align: right;\n",
       "    }\n",
       "</style>\n",
       "<table border=\"1\" class=\"dataframe\">\n",
       "  <thead>\n",
       "    <tr style=\"text-align: right;\">\n",
       "      <th></th>\n",
       "      <th>0</th>\n",
       "      <th>1</th>\n",
       "      <th>2</th>\n",
       "      <th>3</th>\n",
       "    </tr>\n",
       "  </thead>\n",
       "  <tbody>\n",
       "    <tr>\n",
       "      <th>0</th>\n",
       "      <td>2</td>\n",
       "      <td>Architect Group</td>\n",
       "      <td>30001</td>\n",
       "      <td>L0001</td>\n",
       "    </tr>\n",
       "    <tr>\n",
       "      <th>1</th>\n",
       "      <td>5</td>\n",
       "      <td>Software Group</td>\n",
       "      <td>30002</td>\n",
       "      <td>L0002</td>\n",
       "    </tr>\n",
       "    <tr>\n",
       "      <th>2</th>\n",
       "      <td>7</td>\n",
       "      <td>Design Team</td>\n",
       "      <td>30003</td>\n",
       "      <td>L0003</td>\n",
       "    </tr>\n",
       "    <tr>\n",
       "      <th>3</th>\n",
       "      <td>5</td>\n",
       "      <td>Software Group</td>\n",
       "      <td>30004</td>\n",
       "      <td>L0004</td>\n",
       "    </tr>\n",
       "  </tbody>\n",
       "</table>\n",
       "</div>"
      ],
      "text/plain": [
       "   0                1      2      3\n",
       "0  2  Architect Group  30001  L0001\n",
       "1  5   Software Group  30002  L0002\n",
       "2  7      Design Team  30003  L0003\n",
       "3  5   Software Group  30004  L0004"
      ]
     },
     "execution_count": 43,
     "metadata": {},
     "output_type": "execute_result"
    }
   ],
   "source": [
    "dept"
   ]
  },
  {
   "cell_type": "markdown",
   "id": "ddfc21e8-d64f-44fb-9ec7-2d3d808bc180",
   "metadata": {},
   "source": [
    "# **Commit** changes to the Database"
   ]
  },
  {
   "cell_type": "code",
   "execution_count": 44,
   "id": "a0ee0cc4-61d6-4173-8407-6c43969b2a17",
   "metadata": {},
   "outputs": [],
   "source": [
    "conn.commit()\n",
    "conn.close()"
   ]
  },
  {
   "cell_type": "code",
   "execution_count": null,
   "id": "73513b28-cf7f-4934-986b-de27cfb952f3",
   "metadata": {},
   "outputs": [],
   "source": []
  }
 ],
 "metadata": {
  "kernelspec": {
   "display_name": "Python 3 (ipykernel)",
   "language": "python",
   "name": "python3"
  },
  "language_info": {
   "codemirror_mode": {
    "name": "ipython",
    "version": 3
   },
   "file_extension": ".py",
   "mimetype": "text/x-python",
   "name": "python",
   "nbconvert_exporter": "python",
   "pygments_lexer": "ipython3",
   "version": "3.9.13"
  }
 },
 "nbformat": 4,
 "nbformat_minor": 5
}
